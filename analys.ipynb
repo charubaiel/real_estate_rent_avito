{
 "cells": [
  {
   "cell_type": "code",
   "execution_count": 2,
   "metadata": {},
   "outputs": [],
   "source": [
    "from __init__ import *"
   ]
  },
  {
   "cell_type": "code",
   "execution_count": 3,
   "metadata": {},
   "outputs": [],
   "source": [
    "import os"
   ]
  },
  {
   "cell_type": "code",
   "execution_count": 2,
   "metadata": {},
   "outputs": [],
   "source": [
    "conn = sqlite3.connect(r'data/avito_real_estate.db')  "
   ]
  },
  {
   "cell_type": "code",
   "execution_count": 3,
   "metadata": {},
   "outputs": [],
   "source": [
    "dd = pd.read_sql(\"select * from moscow_rent where adress !='' \",con = conn)\n",
    "dre = pd.read_sql(\"select * from moscow_re where adress !='' \",con = conn)"
   ]
  },
  {
   "cell_type": "code",
   "execution_count": 4,
   "metadata": {},
   "outputs": [],
   "source": [
    "dre_fix = fix_data(dre)\n",
    "dd_fix = fix_data(dd)"
   ]
  },
  {
   "cell_type": "code",
   "execution_count": 5,
   "metadata": {},
   "outputs": [
    {
     "name": "stdout",
     "output_type": "stream",
     "text": [
      "table moscow_RE  values: count 2536 | unique 992\n",
      "table moscow_rent  values: count 2461 | unique 1134\n",
      "table volgograd_RE  values: count 207 | unique 181\n",
      "table volgograd_rent  values: count 200 | unique 200\n",
      "table moskva_RE  values: count 1347 | unique 1201\n",
      "table moskva_rent  values: count 1393 | unique 1240\n"
     ]
    }
   ],
   "source": [
    "tables = pd.read_sql(\"select name from sqlite_schema where type='table' \",con = conn)\n",
    "for i in tables['name']:\n",
    "    print('table {}  values: count {} | unique {}'.format(i,*pd.read_sql(f'select * from {i}',con=conn)['id'].agg(['count','nunique']).values))"
   ]
  },
  {
   "cell_type": "code",
   "execution_count": null,
   "metadata": {},
   "outputs": [],
   "source": []
  }
 ],
 "metadata": {
  "interpreter": {
   "hash": "a7801a1fce19b4dbca8b7bce4059e552648312323ed9d108616a9100a6d7a4a9"
  },
  "kernelspec": {
   "display_name": "Python 3.10.0 64-bit",
   "language": "python",
   "name": "python3"
  },
  "language_info": {
   "codemirror_mode": {
    "name": "ipython",
    "version": 3
   },
   "file_extension": ".py",
   "mimetype": "text/x-python",
   "name": "python",
   "nbconvert_exporter": "python",
   "pygments_lexer": "ipython3",
   "version": "3.10.0"
  },
  "orig_nbformat": 4
 },
 "nbformat": 4,
 "nbformat_minor": 2
}
