{
 "cells": [
  {
   "cell_type": "code",
   "execution_count": 1,
   "metadata": {},
   "outputs": [],
   "source": [
    "from __init__ import *"
   ]
  },
  {
   "cell_type": "code",
   "execution_count": 2,
   "metadata": {},
   "outputs": [],
   "source": [
    "import natasha\n",
    "tqdm.pandas()"
   ]
  },
  {
   "cell_type": "code",
   "execution_count": 3,
   "metadata": {},
   "outputs": [],
   "source": [
    "from geopy.geocoders import Nominatim\n",
    "from geopy.extra.rate_limiter import RateLimiter\n",
    "from geopy import distance\n",
    "geolocator = Nominatim(user_agent=\"my test app\")\n",
    "geocode = RateLimiter(geolocator.geocode, min_delay_seconds=0.3)"
   ]
  },
  {
   "cell_type": "code",
   "execution_count": 4,
   "metadata": {},
   "outputs": [],
   "source": [
    "with sqlite3.connect('data/avito_real_estate.db') as db:\n",
    "    df = pd.read_sql('select * from moskva_RE',con=db)"
   ]
  },
  {
   "cell_type": "code",
   "execution_count": 5,
   "metadata": {},
   "outputs": [],
   "source": [
    "doc = natasha.Doc(df['text'].str.lower().str.extract('([А-я]+ ремонт)').fillna('').apply('|'.join)[0])"
   ]
  },
  {
   "cell_type": "code",
   "execution_count": 6,
   "metadata": {},
   "outputs": [],
   "source": [
    "segmenter = natasha.Segmenter()\n",
    "morph_vocab = natasha.MorphVocab()\n",
    "emb = natasha.NewsEmbedding()\n",
    "morph_tagger = natasha.NewsMorphTagger(emb)"
   ]
  },
  {
   "cell_type": "code",
   "execution_count": 7,
   "metadata": {},
   "outputs": [],
   "source": [
    "doc.segment(segmenter)\n",
    "doc.tag_morph(morph_tagger)"
   ]
  },
  {
   "cell_type": "code",
   "execution_count": 8,
   "metadata": {},
   "outputs": [],
   "source": [
    "for token in doc.tokens:\n",
    "     token.lemmatize(morph_vocab)"
   ]
  },
  {
   "cell_type": "code",
   "execution_count": 9,
   "metadata": {},
   "outputs": [],
   "source": [
    "df['price'] = df['price'].astype(int)"
   ]
  },
  {
   "cell_type": "code",
   "execution_count": 10,
   "metadata": {},
   "outputs": [],
   "source": [
    "df['rooms'] = df['title'].str.split(', ',expand=True)[0].str.extract('(\\d)').astype(int)\n",
    "df['m2']=df['title'].str.split(', ',expand=True)[1].str.replace(',','.').str.extract('(\\d.*\\d)').astype(float)\n",
    "df[['floor','max_floor']]=df['title'].str.extract('(\\d+/\\d+)')[0].str.split('/',expand=True)\n",
    "df['has_furniture']=df['text'].str.contains('мебель')\n",
    "df['JK']=df['text'].str.contains('ЖК')\n",
    "df['n_words'] = df['text'].str.count(' ')\n",
    "df['repair_type'] = ' '.join([token.lemma for token in doc.tokens if token.lemma != 'ремонт']).split('|')\n",
    "df['metro_name']=df['metro'].str.split(', ',expand=True)[0]\n",
    "df['metro_dist']=df['metro'].str.split(', ',expand=True)[1].str.replace(',','.').str.extract('(\\d+.\\d?)').astype('float')[0].apply(lambda x: x*1000 if x<10 else x)\n",
    "df['rubm2'] = (df['price'] / df['m2']).round()\n",
    "df['room_size']= (df['m2'] / df['rooms']).round()\n",
    "df['street']=df['adress'].str.split(', (\\d.*)',expand=True)[0]\n",
    "df['build']=df['adress'].str.split(', (\\d.*)',expand=True)[1]"
   ]
  },
  {
   "cell_type": "code",
   "execution_count": 12,
   "metadata": {},
   "outputs": [],
   "source": [
    "mid = geolocator.geocode(\"Moscow\")"
   ]
  },
  {
   "cell_type": "code",
   "execution_count": 16,
   "metadata": {},
   "outputs": [],
   "source": [
    "curr_rent=geocode(f'Москва, Союзный проспект 20')"
   ]
  },
  {
   "cell_type": "code",
   "execution_count": 17,
   "metadata": {},
   "outputs": [
    {
     "data": {
      "text/plain": [
       "Location(Москва, Центральный федеральный округ, Россия, (55.7504461, 37.6174943, 0.0))"
      ]
     },
     "execution_count": 17,
     "metadata": {},
     "output_type": "execute_result"
    }
   ],
   "source": [
    "mid"
   ]
  },
  {
   "cell_type": "code",
   "execution_count": 18,
   "metadata": {},
   "outputs": [
    {
     "data": {
      "text/plain": [
       "Location(20 к3, Союзный проспект, район Новогиреево, Москва, Центральный федеральный округ, 111396, Россия, (55.7474484, 37.8180771, 0.0))"
      ]
     },
     "execution_count": 18,
     "metadata": {},
     "output_type": "execute_result"
    }
   ],
   "source": [
    "curr_rent"
   ]
  },
  {
   "cell_type": "code",
   "execution_count": 48,
   "metadata": {},
   "outputs": [
    {
     "data": {
      "text/plain": [
       "[-0.002997699999994552, 0.2005827999999994, 0.0]"
      ]
     },
     "execution_count": 48,
     "metadata": {},
     "output_type": "execute_result"
    }
   ],
   "source": [
    "[x[1] - x[0] for x in (zip(mid.point,curr_rent.point))]"
   ]
  },
  {
   "cell_type": "code",
   "execution_count": 105,
   "metadata": {},
   "outputs": [
    {
     "name": "stderr",
     "output_type": "stream",
     "text": [
      "100%|██████████| 1834/1834 [15:16<00:00,  2.00it/s]\n"
     ]
    }
   ],
   "source": [
    "dist_ = {}\n",
    "for i in tqdm(df['adress'].unique()):\n",
    "    try:\n",
    "        dist_[i]=geocode(f'Москва {i}').point\n",
    "    except:\n",
    "        dist_[i]=(0,0,0)"
   ]
  },
  {
   "cell_type": "code",
   "execution_count": 164,
   "metadata": {},
   "outputs": [],
   "source": [
    "df['loc']=df['adress'].map(dist_)\n",
    "df['loc']=df['loc'].apply(lambda x: x[:2])"
   ]
  },
  {
   "cell_type": "code",
   "execution_count": 116,
   "metadata": {},
   "outputs": [],
   "source": [
    "df['lng'] = df['loc'].apply(lambda x: x[0])\n",
    "df['lat'] = df['loc'].apply(lambda x: x[1])"
   ]
  },
  {
   "cell_type": "code",
   "execution_count": 117,
   "metadata": {},
   "outputs": [],
   "source": [
    "df['lng_norm'] = df['loc'].apply(lambda x: x[0] - mid.point[0])\n",
    "df['lat_norm'] = df['loc'].apply(lambda x: x[1] - mid.point[1])"
   ]
  },
  {
   "cell_type": "code",
   "execution_count": 118,
   "metadata": {},
   "outputs": [
    {
     "name": "stderr",
     "output_type": "stream",
     "text": [
      "100%|██████████| 11787/11787 [00:00<00:00, 624354.49it/s]\n"
     ]
    }
   ],
   "source": [
    "df['mos_pos'] = df['loc'].progress_apply(lambda x: [x[1] - x[0] for x in (zip(mid.point[:2],x))])"
   ]
  },
  {
   "cell_type": "code",
   "execution_count": 119,
   "metadata": {},
   "outputs": [],
   "source": [
    "df['metro_dist_bin']=pd.qcut(df['metro_dist'],4,['<5','5-10','10-15','15<'])"
   ]
  },
  {
   "cell_type": "code",
   "execution_count": 121,
   "metadata": {},
   "outputs": [
    {
     "data": {
      "text/plain": [
       "lng_norm    0.010418\n",
       "lat_norm    0.001889\n",
       "rubm2       1.000000\n",
       "Name: rubm2, dtype: float64"
      ]
     },
     "execution_count": 121,
     "metadata": {},
     "output_type": "execute_result"
    }
   ],
   "source": [
    "df[['lng_norm','lat_norm','rubm2']].corr()['rubm2']"
   ]
  },
  {
   "cell_type": "code",
   "execution_count": 179,
   "metadata": {},
   "outputs": [],
   "source": [
    "df=df.astype('str').apply(pd.to_numeric,errors='ignore')"
   ]
  },
  {
   "cell_type": "code",
   "execution_count": 180,
   "metadata": {},
   "outputs": [],
   "source": [
    "with sqlite3.connect('data/avito_real_estate.db') as db:\n",
    "    df.drop('index',axis=1).to_sql(name='moscow_features',con=db,index=False,if_exists='replace')"
   ]
  }
 ],
 "metadata": {
  "interpreter": {
   "hash": "916dbcbb3f70747c44a77c7bcd40155683ae19c65e1c03b4aa3499c5328201f1"
  },
  "kernelspec": {
   "display_name": "Python 3.8.10 64-bit",
   "language": "python",
   "name": "python3"
  },
  "language_info": {
   "codemirror_mode": {
    "name": "ipython",
    "version": 3
   },
   "file_extension": ".py",
   "mimetype": "text/x-python",
   "name": "python",
   "nbconvert_exporter": "python",
   "pygments_lexer": "ipython3",
   "version": "3.8.10"
  },
  "orig_nbformat": 4
 },
 "nbformat": 4,
 "nbformat_minor": 2
}
