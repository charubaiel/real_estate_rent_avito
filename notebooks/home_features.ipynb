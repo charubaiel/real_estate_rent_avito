{
 "cells": [
  {
   "cell_type": "code",
   "execution_count": 1,
   "metadata": {},
   "outputs": [],
   "source": [
    "import pandas as pd\n",
    "import time\n",
    "from tqdm import tqdm\n",
    "import numpy as np\n",
    "import duckdb as db"
   ]
  },
  {
   "cell_type": "code",
   "execution_count": 2,
   "metadata": {},
   "outputs": [
    {
     "name": "stdout",
     "output_type": "stream",
     "text": [
      "          name\n",
      "0   agency_ads\n",
      "1  builder_ads\n",
      "2    home_info\n",
      "3     user_ads\n"
     ]
    }
   ],
   "source": [
    "conn = db.connect('../data/RE_moscow_db.duckdb')\n",
    "print(conn.execute('PRAGMA show_tables').df())\n",
    "avito = conn.execute('select * from user_ads').df()\n",
    "df = conn.execute('''\n",
    "                select \n",
    "                *\n",
    "\n",
    "                from home_info\n",
    "                ''').df()\n",
    "conn.close()"
   ]
  },
  {
   "cell_type": "code",
   "execution_count": 33,
   "metadata": {},
   "outputs": [
    {
     "name": "stderr",
     "output_type": "stream",
     "text": [
      "/tmp/ipykernel_248/2466236294.py:1: FutureWarning: The default value of regex will change from True to False in a future version.\n",
      "  avito['clean_adress'] = avito['adress'].str.replace('(к)(?=\\d)',' корпус ').str.lower()\n"
     ]
    }
   ],
   "source": [
    "avito['clean_adress'] = avito['adress'].str.replace('(к)(?=\\d)',' корпус ').str.lower()"
   ]
  },
  {
   "cell_type": "code",
   "execution_count": null,
   "metadata": {},
   "outputs": [],
   "source": []
  },
  {
   "cell_type": "code",
   "execution_count": 34,
   "metadata": {},
   "outputs": [],
   "source": [
    "def calc_jaccard(adress_list):\n",
    "    new_dict = {}\n",
    "    with db.connect('../data/RE_moscow_db.duckdb') as conn:\n",
    "        for adress in tqdm(adress_list):\n",
    "            new_dict[adress] = conn.execute(f'''select Адрес from home_info where Адрес!= 'Адрес' order by jaccard('{adress}',Адрес) desc limit 1''').df().iloc[0,0]\n",
    "    return new_dict\n"
   ]
  },
  {
   "cell_type": "code",
   "execution_count": 35,
   "metadata": {},
   "outputs": [
    {
     "name": "stderr",
     "output_type": "stream",
     "text": [
      "100%|██████████| 2838/2838 [03:47<00:00, 12.50it/s]\n"
     ]
    }
   ],
   "source": [
    "new_dict = calc_jaccard(avito['clean_adress'].drop_duplicates().tolist())"
   ]
  },
  {
   "cell_type": "code",
   "execution_count": 36,
   "metadata": {},
   "outputs": [],
   "source": [
    "avito['clean_adress'] = avito['clean_adress'].map(new_dict)"
   ]
  },
  {
   "cell_type": "code",
   "execution_count": 37,
   "metadata": {},
   "outputs": [],
   "source": [
    "dd = avito.merge(df,left_on='clean_adress',right_on='Адрес',how='left' )"
   ]
  },
  {
   "cell_type": "code",
   "execution_count": 77,
   "metadata": {},
   "outputs": [],
   "source": [
    "dd['n_rooms'] = dd['n_rooms'].str.replace('�','')"
   ]
  },
  {
   "cell_type": "code",
   "execution_count": 60,
   "metadata": {},
   "outputs": [],
   "source": [
    "dd['Год'] = dd['Год'].where(lambda x: x!='—').astype(float)"
   ]
  },
  {
   "cell_type": "code",
   "execution_count": 118,
   "metadata": {},
   "outputs": [],
   "source": [
    "plot_df = dd.groupby([dd['Год'].div(5).round().mul(5),'n_rooms','metro_branch'])['rubm2'].mean().reset_index()"
   ]
  },
  {
   "cell_type": "code",
   "execution_count": 119,
   "metadata": {},
   "outputs": [],
   "source": [
    "import plotly.express as px"
   ]
  },
  {
   "cell_type": "code",
   "execution_count": 120,
   "metadata": {},
   "outputs": [
    {
     "data": {
      "application/vnd.plotly.v1+json": {
       "config": {
        "plotlyServerURL": "https://plot.ly"
       },
       "data": [
        {
         "hovertemplate": "n_rooms=2-к. квартира<br>metro_branch=#ADACAC<br>Год=%{x}<br>rubm2=%{y}<extra></extra>",
         "legendgroup": "2-к. квартира",
         "line": {
          "color": "#636efa",
          "dash": "solid"
         },
         "marker": {
          "symbol": "circle"
         },
         "mode": "lines",
         "name": "2-к. квартира",
         "orientation": "v",
         "showlegend": true,
         "type": "scatter",
         "x": [
          1830,
          1880,
          1900,
          1925,
          1935,
          1950,
          1955,
          1960,
          1965,
          1970,
          1975,
          1980,
          1985,
          1990,
          1995,
          2000,
          2005,
          2010,
          2015,
          2020
         ],
         "xaxis": "x",
         "y": [
          250000,
          406250,
          266487.4551971326,
          263636.36363636365,
          202525.25252525252,
          303852.64866599016,
          403839.4078838427,
          317687.48595715524,
          329789.4372973448,
          293520.57375973946,
          262131.65088494538,
          272939.3910953386,
          261497.39764973096,
          265613.7670475598,
          371649.25035792816,
          357407.4074074074,
          289151.29258154426,
          284801.4122818569,
          340198.47127793834,
          322129.13503021665
         ],
         "yaxis": "y"
        },
        {
         "hovertemplate": "n_rooms=3-к. квартира<br>metro_branch=#ADACAC<br>Год=%{x}<br>rubm2=%{y}<extra></extra>",
         "legendgroup": "3-к. квартира",
         "line": {
          "color": "#EF553B",
          "dash": "solid"
         },
         "marker": {
          "symbol": "circle"
         },
         "mode": "lines",
         "name": "3-к. квартира",
         "orientation": "v",
         "showlegend": true,
         "type": "scatter",
         "x": [
          1890,
          1900,
          1910,
          1915,
          1940,
          1950,
          1955,
          1960,
          1965,
          1970,
          1975,
          1980,
          1985,
          1990,
          1995,
          2000,
          2005,
          2010,
          2015,
          2020
         ],
         "xaxis": "x",
         "y": [
          241666.66666666666,
          286553.2198865532,
          368256.0137457045,
          343750,
          309678.25261158595,
          353690.46904761903,
          268853.22398190043,
          290769.8625659585,
          296539.43280809815,
          244524.8317496441,
          246644.19431964296,
          270131.46107219957,
          242281.56238430212,
          290543.86325283564,
          281233.2541374086,
          274758.7957189831,
          377559.57880038914,
          302726.05849435116,
          368003.37421265984,
          323169.18307375367
         ],
         "yaxis": "y"
        }
       ],
       "frames": [
        {
         "data": [
          {
           "hovertemplate": "n_rooms=2-к. квартира<br>metro_branch=#ADACAC<br>Год=%{x}<br>rubm2=%{y}<extra></extra>",
           "legendgroup": "2-к. квартира",
           "line": {
            "color": "#636efa",
            "dash": "solid"
           },
           "marker": {
            "symbol": "circle"
           },
           "mode": "lines",
           "name": "2-к. квартира",
           "orientation": "v",
           "showlegend": true,
           "type": "scatter",
           "x": [
            1830,
            1880,
            1900,
            1925,
            1935,
            1950,
            1955,
            1960,
            1965,
            1970,
            1975,
            1980,
            1985,
            1990,
            1995,
            2000,
            2005,
            2010,
            2015,
            2020
           ],
           "xaxis": "x",
           "y": [
            250000,
            406250,
            266487.4551971326,
            263636.36363636365,
            202525.25252525252,
            303852.64866599016,
            403839.4078838427,
            317687.48595715524,
            329789.4372973448,
            293520.57375973946,
            262131.65088494538,
            272939.3910953386,
            261497.39764973096,
            265613.7670475598,
            371649.25035792816,
            357407.4074074074,
            289151.29258154426,
            284801.4122818569,
            340198.47127793834,
            322129.13503021665
           ],
           "yaxis": "y"
          },
          {
           "hovertemplate": "n_rooms=3-к. квартира<br>metro_branch=#ADACAC<br>Год=%{x}<br>rubm2=%{y}<extra></extra>",
           "legendgroup": "3-к. квартира",
           "line": {
            "color": "#EF553B",
            "dash": "solid"
           },
           "marker": {
            "symbol": "circle"
           },
           "mode": "lines",
           "name": "3-к. квартира",
           "orientation": "v",
           "showlegend": true,
           "type": "scatter",
           "x": [
            1890,
            1900,
            1910,
            1915,
            1940,
            1950,
            1955,
            1960,
            1965,
            1970,
            1975,
            1980,
            1985,
            1990,
            1995,
            2000,
            2005,
            2010,
            2015,
            2020
           ],
           "xaxis": "x",
           "y": [
            241666.66666666666,
            286553.2198865532,
            368256.0137457045,
            343750,
            309678.25261158595,
            353690.46904761903,
            268853.22398190043,
            290769.8625659585,
            296539.43280809815,
            244524.8317496441,
            246644.19431964296,
            270131.46107219957,
            242281.56238430212,
            290543.86325283564,
            281233.2541374086,
            274758.7957189831,
            377559.57880038914,
            302726.05849435116,
            368003.37421265984,
            323169.18307375367
           ],
           "yaxis": "y"
          }
         ],
         "name": "#ADACAC"
        },
        {
         "data": [
          {
           "hovertemplate": "n_rooms=2-к. квартира<br>metro_branch=#E42313<br>Год=%{x}<br>rubm2=%{y}<extra></extra>",
           "legendgroup": "2-к. квартира",
           "line": {
            "color": "#636efa",
            "dash": "solid"
           },
           "marker": {
            "symbol": "circle"
           },
           "mode": "lines",
           "name": "2-к. квартира",
           "orientation": "v",
           "showlegend": true,
           "type": "scatter",
           "x": [
            1880,
            1915,
            1930,
            1940,
            1950,
            1955,
            1960,
            1965,
            1970,
            1975,
            1980,
            1985,
            1990,
            1995,
            2005,
            2010,
            2015,
            2020
           ],
           "xaxis": "x",
           "y": [
            265454.54545454547,
            2631578.947368421,
            509615.3846153846,
            405774.8538011696,
            260771.3633398565,
            476829.62808335945,
            347338.37154023274,
            352996.36143629474,
            291873.70199951145,
            363585.8090297128,
            362319.40144478844,
            368386.84719535784,
            173975.33542039356,
            587750.8704061896,
            301526.00503953244,
            436328.6784051811,
            289797.8036456298,
            276492.79665619193
           ],
           "yaxis": "y"
          },
          {
           "hovertemplate": "n_rooms=3-к. квартира<br>metro_branch=#E42313<br>Год=%{x}<br>rubm2=%{y}<extra></extra>",
           "legendgroup": "3-к. квартира",
           "line": {
            "color": "#EF553B",
            "dash": "solid"
           },
           "marker": {
            "symbol": "circle"
           },
           "mode": "lines",
           "name": "3-к. квартира",
           "orientation": "v",
           "showlegend": true,
           "type": "scatter",
           "x": [
            1930,
            1935,
            1940,
            1950,
            1955,
            1960,
            1965,
            1970,
            1975,
            1980,
            1985,
            1995,
            2000,
            2005,
            2010,
            2015,
            2020
           ],
           "xaxis": "x",
           "y": [
            506596.3955026455,
            313432.8358208955,
            755813.9534883721,
            359935.89743589744,
            634717.3828881145,
            290932.4617119115,
            337126.991943614,
            357141.17737851717,
            330687.7318746629,
            285261.5216855659,
            421232.87671232875,
            503289.4736842105,
            515384.6153846153,
            335620.0502364066,
            354902.2743658648,
            266875.3441605243,
            347365.19946563477
           ],
           "yaxis": "y"
          }
         ],
         "name": "#E42313"
        },
        {
         "data": [
          {
           "hovertemplate": "n_rooms=2-к. квартира<br>metro_branch= rgb(148, 62, 144);<br>Год=%{x}<br>rubm2=%{y}<extra></extra>",
           "legendgroup": "2-к. квартира",
           "line": {
            "color": "#636efa",
            "dash": "solid"
           },
           "marker": {
            "symbol": "circle"
           },
           "mode": "lines",
           "name": "2-к. квартира",
           "orientation": "v",
           "showlegend": true,
           "type": "scatter",
           "x": [
            1885,
            1905,
            1955,
            1960,
            1965,
            1970,
            1975,
            1980,
            1985,
            1990,
            1995,
            2005,
            2010,
            2015,
            2020
           ],
           "xaxis": "x",
           "y": [
            522500,
            286721.31147540984,
            362835.90623213263,
            335175.8595912982,
            353358.3802233688,
            298677.24867724866,
            258304.9886621315,
            246134.87819370173,
            316216.2162162162,
            348837.20930232556,
            344729.13211719185,
            537837.8378378379,
            254868.45196147522,
            349719.23314780457,
            370967.7419354839
           ],
           "yaxis": "y"
          },
          {
           "hovertemplate": "n_rooms=3-к. квартира<br>metro_branch= rgb(148, 62, 144);<br>Год=%{x}<br>rubm2=%{y}<extra></extra>",
           "legendgroup": "3-к. квартира",
           "line": {
            "color": "#EF553B",
            "dash": "solid"
           },
           "marker": {
            "symbol": "circle"
           },
           "mode": "lines",
           "name": "3-к. квартира",
           "orientation": "v",
           "showlegend": true,
           "type": "scatter",
           "x": [
            1930,
            1955,
            1965,
            1970,
            1975,
            1980,
            1995,
            2000,
            2005,
            2010,
            2015,
            2020
           ],
           "xaxis": "x",
           "y": [
            464864.86486486485,
            267441.8604651163,
            235959.66928816293,
            248702.76052993367,
            309230.76923076925,
            270631.72043010755,
            268269.23076923075,
            405555.55555555556,
            269110.50290797127,
            333333.3333333333,
            419540.2298850575,
            545454.5454545454
           ],
           "yaxis": "y"
          }
         ],
         "name": " rgb(148, 62, 144);"
        },
        {
         "data": [
          {
           "hovertemplate": "n_rooms=2-к. квартира<br>metro_branch= rgb(0, 114, 186);<br>Год=%{x}<br>rubm2=%{y}<extra></extra>",
           "legendgroup": "2-к. квартира",
           "line": {
            "color": "#636efa",
            "dash": "solid"
           },
           "marker": {
            "symbol": "circle"
           },
           "mode": "lines",
           "name": "2-к. квартира",
           "orientation": "v",
           "showlegend": true,
           "type": "scatter",
           "x": [
            1910,
            1940,
            1955,
            1960,
            1965,
            1970,
            1975,
            1980,
            1985,
            1995,
            2000,
            2005,
            2010,
            2015,
            2020
           ],
           "xaxis": "x",
           "y": [
            350000,
            340677.9661016949,
            450704.22535211267,
            215353.1989981785,
            318465.8073957735,
            259648.69490800175,
            268518.51851851854,
            308539.41679378017,
            348475.51873413945,
            237203.51588911423,
            358369.3103448276,
            299007.4441687345,
            382692.3076923077,
            261461.55830753353,
            271111.1111111111
           ],
           "yaxis": "y"
          },
          {
           "hovertemplate": "n_rooms=3-к. квартира<br>metro_branch= rgb(0, 114, 186);<br>Год=%{x}<br>rubm2=%{y}<extra></extra>",
           "legendgroup": "3-к. квартира",
           "line": {
            "color": "#EF553B",
            "dash": "solid"
           },
           "marker": {
            "symbol": "circle"
           },
           "mode": "lines",
           "name": "3-к. квартира",
           "orientation": "v",
           "showlegend": true,
           "type": "scatter",
           "x": [
            1890,
            1900,
            1955,
            1965,
            1970,
            1975,
            1980,
            1985,
            1990,
            1995,
            2005,
            2010,
            2015,
            2020
           ],
           "xaxis": "x",
           "y": [
            691489.3617021276,
            272297.2972972973,
            266666.6666666667,
            389432.4634599234,
            254848.39891291503,
            257857.14285714287,
            237333.33333333334,
            293437.27685816295,
            256135.56338028167,
            229902.376910017,
            273076.92307692306,
            332692.3076923077,
            343984.9119552127,
            389949.40802169713
           ],
           "yaxis": "y"
          }
         ],
         "name": " rgb(0, 114, 186);"
        },
        {
         "data": [
          {
           "hovertemplate": "n_rooms=2-к. квартира<br>metro_branch= rgb(173, 172, 172);<br>Год=%{x}<br>rubm2=%{y}<extra></extra>",
           "legendgroup": "2-к. квартира",
           "line": {
            "color": "#636efa",
            "dash": "solid"
           },
           "marker": {
            "symbol": "circle"
           },
           "mode": "lines",
           "name": "2-к. квартира",
           "orientation": "v",
           "showlegend": true,
           "type": "scatter",
           "x": [
            1900,
            1925,
            1940,
            1960,
            1965,
            1970,
            1975,
            1980,
            1985,
            1990,
            2005,
            2010,
            2015,
            2020
           ],
           "xaxis": "x",
           "y": [
            202380.95238095237,
            307336.5231259968,
            277777.77777777775,
            294253.40360122966,
            342588.22661536763,
            304200.7637752319,
            257372.71484802838,
            246459.61034849926,
            297058.8235294118,
            269230.76923076925,
            275520.2392911822,
            285695.22372777195,
            351482.15366001206,
            321428.5714285714
           ],
           "yaxis": "y"
          },
          {
           "hovertemplate": "n_rooms=3-к. квартира<br>metro_branch= rgb(173, 172, 172);<br>Год=%{x}<br>rubm2=%{y}<extra></extra>",
           "legendgroup": "3-к. квартира",
           "line": {
            "color": "#EF553B",
            "dash": "solid"
           },
           "marker": {
            "symbol": "circle"
           },
           "mode": "lines",
           "name": "3-к. квартира",
           "orientation": "v",
           "showlegend": true,
           "type": "scatter",
           "x": [
            1960,
            1965,
            1970,
            1975,
            1980,
            1990,
            2000,
            2005,
            2015,
            2020
           ],
           "xaxis": "x",
           "y": [
            314161.8544794588,
            261384.61538461538,
            255475.9852216749,
            254799.747719753,
            227047.3748652149,
            335616.4383561644,
            263999.47957325005,
            247023.80952380953,
            408928.5714285714,
            349748.6881361538
           ],
           "yaxis": "y"
          }
         ],
         "name": " rgb(173, 172, 172);"
        },
        {
         "data": [
          {
           "hovertemplate": "n_rooms=2-к. квартира<br>metro_branch= rgb(79, 176, 79);<br>Год=%{x}<br>rubm2=%{y}<extra></extra>",
           "legendgroup": "2-к. квартира",
           "line": {
            "color": "#636efa",
            "dash": "solid"
           },
           "marker": {
            "symbol": "circle"
           },
           "mode": "lines",
           "name": "2-к. квартира",
           "orientation": "v",
           "showlegend": true,
           "type": "scatter",
           "x": [
            1900,
            1915,
            1955,
            1960,
            1965,
            1970,
            1975,
            1980,
            1985,
            2005,
            2010,
            2015,
            2020
           ],
           "xaxis": "x",
           "y": [
            672727.2727272727,
            310526.3157894737,
            342592.5925925926,
            334302.2732835551,
            297030.73089700995,
            267122.3813134692,
            310000,
            366377.0053475936,
            239622.64150943398,
            251086.95652173914,
            265194.0693809722,
            307051.282051282,
            375738.57159142726
           ],
           "yaxis": "y"
          },
          {
           "hovertemplate": "n_rooms=3-к. квартира<br>metro_branch= rgb(79, 176, 79);<br>Год=%{x}<br>rubm2=%{y}<extra></extra>",
           "legendgroup": "3-к. квартира",
           "line": {
            "color": "#EF553B",
            "dash": "solid"
           },
           "marker": {
            "symbol": "circle"
           },
           "mode": "lines",
           "name": "3-к. квартира",
           "orientation": "v",
           "showlegend": true,
           "type": "scatter",
           "x": [
            1940,
            1960,
            1965,
            1970,
            1975,
            1980,
            1985,
            1990,
            1995,
            2000,
            2005,
            2010,
            2015,
            2020
           ],
           "xaxis": "x",
           "y": [
            405797.1014492754,
            325280.2752802753,
            251044.9075274393,
            283333.3333333333,
            266666.6666666667,
            258086.9565217391,
            231250,
            257510.25290498976,
            333333.3333333333,
            343421.05263157893,
            304365.07936507935,
            351080.2469135802,
            313250.9217089568,
            452173.9130434783
           ],
           "yaxis": "y"
          }
         ],
         "name": " rgb(79, 176, 79);"
        },
        {
         "data": [
          {
           "hovertemplate": "n_rooms=2-к. квартира<br>metro_branch=#1EBCEF<br>Год=%{x}<br>rubm2=%{y}<extra></extra>",
           "legendgroup": "2-к. квартира",
           "line": {
            "color": "#636efa",
            "dash": "solid"
           },
           "marker": {
            "symbol": "circle"
           },
           "mode": "lines",
           "name": "2-к. квартира",
           "orientation": "v",
           "showlegend": true,
           "type": "scatter",
           "x": [
            1900,
            1925,
            1935,
            1940,
            1945,
            1950,
            1955,
            1960,
            1965,
            1970,
            1975,
            1980,
            1985,
            1990,
            1995,
            2000,
            2005,
            2010,
            2015,
            2020
           ],
           "xaxis": "x",
           "y": [
            321276.59574468085,
            520000,
            493501.7785338695,
            395805.64170728106,
            476320.58287795994,
            384029.41949041234,
            356703.3726874839,
            343914.13759926974,
            360449.6007446247,
            375380.41249237413,
            363068.90648400335,
            379875.2955584186,
            309053.27097779926,
            285480.7596153846,
            429111.6611661166,
            423838.2224913726,
            344639.15450841736,
            281528.9616137877,
            536560.1419348189,
            493695.74480912386
           ],
           "yaxis": "y"
          },
          {
           "hovertemplate": "n_rooms=3-к. квартира<br>metro_branch=#1EBCEF<br>Год=%{x}<br>rubm2=%{y}<extra></extra>",
           "legendgroup": "3-к. квартира",
           "line": {
            "color": "#EF553B",
            "dash": "solid"
           },
           "marker": {
            "symbol": "circle"
           },
           "mode": "lines",
           "name": "3-к. квартира",
           "orientation": "v",
           "showlegend": true,
           "type": "scatter",
           "x": [
            1940,
            1950,
            1955,
            1960,
            1965,
            1970,
            1975,
            1980,
            1985,
            1990,
            1995,
            2000,
            2005,
            2010,
            2015,
            2020
           ],
           "xaxis": "x",
           "y": [
            441463.4146341463,
            342867.9435483871,
            336086.4978902954,
            416057.2242953515,
            399268.7259403945,
            364806.38997064374,
            383948.59047133516,
            362324.6046432126,
            378273.6788013357,
            332757.9365079365,
            467508.4175084175,
            328000.0664692163,
            389037.9312914524,
            377971.21641867334,
            405100.87279977294,
            526347.8953484582
           ],
           "yaxis": "y"
          }
         ],
         "name": "#1EBCEF"
        },
        {
         "data": [
          {
           "hovertemplate": "n_rooms=2-к. квартира<br>metro_branch=#4FB04F<br>Год=%{x}<br>rubm2=%{y}<extra></extra>",
           "legendgroup": "2-к. квартира",
           "line": {
            "color": "#636efa",
            "dash": "solid"
           },
           "marker": {
            "symbol": "circle"
           },
           "mode": "lines",
           "name": "2-к. квартира",
           "orientation": "v",
           "showlegend": true,
           "type": "scatter",
           "x": [
            1900,
            1915,
            1930,
            1940,
            1945,
            1950,
            1955,
            1960,
            1965,
            1970,
            1975,
            1980,
            1985,
            1990,
            1995,
            2000,
            2005,
            2010,
            2015,
            2020
           ],
           "xaxis": "x",
           "y": [
            672727.2727272727,
            418298.9541690949,
            548239.6467358874,
            343103.4482758621,
            510183.67346938775,
            312877.49287749286,
            333032.0860579374,
            317815.2959799499,
            321984.0976733208,
            280621.4962227724,
            302358.0483622865,
            258115.34101269924,
            286013.8462432994,
            324076.27618257044,
            341666.6666666667,
            274613.34361393325,
            285553.4152131834,
            241958.7578369906,
            312020.18235529016,
            322484.46538194467
           ],
           "yaxis": "y"
          },
          {
           "hovertemplate": "n_rooms=3-к. квартира<br>metro_branch=#4FB04F<br>Год=%{x}<br>rubm2=%{y}<extra></extra>",
           "legendgroup": "3-к. квартира",
           "line": {
            "color": "#EF553B",
            "dash": "solid"
           },
           "marker": {
            "symbol": "circle"
           },
           "mode": "lines",
           "name": "3-к. квартира",
           "orientation": "v",
           "showlegend": true,
           "type": "scatter",
           "x": [
            1915,
            1925,
            1940,
            1950,
            1960,
            1965,
            1970,
            1975,
            1980,
            1985,
            1990,
            1995,
            2000,
            2005,
            2010,
            2015,
            2020
           ],
           "xaxis": "x",
           "y": [
            468066.6639214015,
            238095.2380952381,
            461722.0801364024,
            338005.71010632993,
            292023.80090028135,
            286405.2875960169,
            314199.29844829976,
            251715.59946168217,
            225002.6131794739,
            291626.5446087702,
            263576.2497641954,
            305777.77777777775,
            321635.5779811589,
            308029.4462742178,
            312500,
            305841.04124662373,
            366033.3642204082
           ],
           "yaxis": "y"
          },
          {
           "hovertemplate": "n_rooms=Доля в 3-к. квартире<br>metro_branch=#4FB04F<br>Год=%{x}<br>rubm2=%{y}<extra></extra>",
           "legendgroup": "Доля в 3-к. квартире",
           "line": {
            "color": "#00cc96",
            "dash": "solid"
           },
           "marker": {
            "symbol": "circle"
           },
           "mode": "lines",
           "name": "Доля в 3-к. квартире",
           "orientation": "v",
           "showlegend": true,
           "type": "scatter",
           "x": [
            1965
           ],
           "xaxis": "x",
           "y": [
            89830.50847457627
           ],
           "yaxis": "y"
          }
         ],
         "name": "#4FB04F"
        },
        {
         "data": [
          {
           "hovertemplate": "n_rooms=2-к. квартира<br>metro_branch=#BAC8E8<br>Год=%{x}<br>rubm2=%{y}<extra></extra>",
           "legendgroup": "2-к. квартира",
           "line": {
            "color": "#636efa",
            "dash": "solid"
           },
           "marker": {
            "symbol": "circle"
           },
           "mode": "lines",
           "name": "2-к. квартира",
           "orientation": "v",
           "showlegend": true,
           "type": "scatter",
           "x": [
            1900,
            1915,
            1935,
            1945,
            1955,
            1960,
            1965,
            1970,
            1975,
            1980,
            1985,
            1990,
            1995,
            2000,
            2005,
            2010,
            2015,
            2020
           ],
           "xaxis": "x",
           "y": [
            231481.47916666666,
            197012.61976111087,
            249152.54237288135,
            195312.5,
            232630.03253713742,
            217755.64145561174,
            202671.74966493776,
            208056.85865338222,
            248863.63636363635,
            274034.82615396223,
            218800.92992042948,
            214122.2400835008,
            209722.22222222222,
            241336.46689013432,
            241063.3739540573,
            239924.05582922825,
            245219.21182266012,
            220213.74016250868
           ],
           "yaxis": "y"
          },
          {
           "hovertemplate": "n_rooms=3-к. квартира<br>metro_branch=#BAC8E8<br>Год=%{x}<br>rubm2=%{y}<extra></extra>",
           "legendgroup": "3-к. квартира",
           "line": {
            "color": "#EF553B",
            "dash": "solid"
           },
           "marker": {
            "symbol": "circle"
           },
           "mode": "lines",
           "name": "3-к. квартира",
           "orientation": "v",
           "showlegend": true,
           "type": "scatter",
           "x": [
            1955,
            1960,
            1965,
            1970,
            1975,
            1980,
            1985,
            1990,
            1995,
            2000,
            2005,
            2015,
            2020
           ],
           "xaxis": "x",
           "y": [
            242857.14285714284,
            210276.5308168534,
            155696.20253164557,
            167080.06227685817,
            224561.40350877194,
            253731.3432835821,
            199807.59114959114,
            204518.1249050837,
            234264.01741929486,
            215692.48884815816,
            217138.0861051747,
            227468.480805266,
            167032.61290209083
           ],
           "yaxis": "y"
          }
         ],
         "name": "#BAC8E8"
        },
        {
         "data": [
          {
           "hovertemplate": "n_rooms=2-к. квартира<br>metro_branch= rgb(145, 81, 51);<br>Год=%{x}<br>rubm2=%{y}<extra></extra>",
           "legendgroup": "2-к. квартира",
           "line": {
            "color": "#636efa",
            "dash": "solid"
           },
           "marker": {
            "symbol": "circle"
           },
           "mode": "lines",
           "name": "2-к. квартира",
           "orientation": "v",
           "showlegend": true,
           "type": "scatter",
           "x": [
            1965
           ],
           "xaxis": "x",
           "y": [
            494179.8941798941
           ],
           "yaxis": "y"
          },
          {
           "hovertemplate": "n_rooms=3-к. квартира<br>metro_branch= rgb(145, 81, 51);<br>Год=%{x}<br>rubm2=%{y}<extra></extra>",
           "legendgroup": "3-к. квартира",
           "line": {
            "color": "#EF553B",
            "dash": "solid"
           },
           "marker": {
            "symbol": "circle"
           },
           "mode": "lines",
           "name": "3-к. квартира",
           "orientation": "v",
           "showlegend": true,
           "type": "scatter",
           "x": [
            1900,
            1940
           ],
           "xaxis": "x",
           "y": [
            345121.9512195122,
            630136.9863013698
           ],
           "yaxis": "y"
          }
         ],
         "name": " rgb(145, 81, 51);"
        },
        {
         "data": [
          {
           "hovertemplate": "n_rooms=2-к. квартира<br>metro_branch=#BED12C<br>Год=%{x}<br>rubm2=%{y}<extra></extra>",
           "legendgroup": "2-к. квартира",
           "line": {
            "color": "#636efa",
            "dash": "solid"
           },
           "marker": {
            "symbol": "circle"
           },
           "mode": "lines",
           "name": "2-к. квартира",
           "orientation": "v",
           "showlegend": true,
           "type": "scatter",
           "x": [
            1915,
            1940,
            1950,
            1955,
            1960,
            1965,
            1970,
            1975,
            1980,
            1985,
            1990,
            1995,
            2000,
            2005,
            2010,
            2015,
            2020
           ],
           "xaxis": "x",
           "y": [
            230000,
            277777.77777777775,
            308000,
            322920.1987587864,
            286941.0110457894,
            290598.655405376,
            277697.14831091755,
            302058.29546002694,
            286253.56213832094,
            264193.48028450826,
            230153.36673236635,
            301792.64813400956,
            267753.014788314,
            295668.45309358917,
            315638.7576653557,
            336874.20746022474,
            328666.13015916466
           ],
           "yaxis": "y"
          },
          {
           "hovertemplate": "n_rooms=3-к. квартира<br>metro_branch=#BED12C<br>Год=%{x}<br>rubm2=%{y}<extra></extra>",
           "legendgroup": "3-к. квартира",
           "line": {
            "color": "#EF553B",
            "dash": "solid"
           },
           "marker": {
            "symbol": "circle"
           },
           "mode": "lines",
           "name": "3-к. квартира",
           "orientation": "v",
           "showlegend": true,
           "type": "scatter",
           "x": [
            1900,
            1930,
            1940,
            1950,
            1955,
            1960,
            1965,
            1970,
            1975,
            1980,
            1985,
            1990,
            1995,
            2000,
            2005,
            2010,
            2015,
            2020
           ],
           "xaxis": "x",
           "y": [
            303278.68852459016,
            207317.07317073172,
            254929.57746478874,
            218333.33333333334,
            351858.8664421998,
            294158.69454801484,
            237614.53742551533,
            279063.16299990535,
            231896.6577819781,
            261265.6823856509,
            259968.64486350789,
            275052.63157894736,
            267100.4436184119,
            249194.75726089158,
            241799.02027796762,
            324200.0188341652,
            301694.9152542373,
            299722.9186263932
           ],
           "yaxis": "y"
          }
         ],
         "name": "#BED12C"
        },
        {
         "data": [
          {
           "hovertemplate": "n_rooms=2-к. квартира<br>metro_branch=#943E90<br>Год=%{x}<br>rubm2=%{y}<extra></extra>",
           "legendgroup": "2-к. квартира",
           "line": {
            "color": "#636efa",
            "dash": "solid"
           },
           "marker": {
            "symbol": "circle"
           },
           "mode": "lines",
           "name": "2-к. квартира",
           "orientation": "v",
           "showlegend": true,
           "type": "scatter",
           "x": [
            1905,
            1915,
            1925,
            1940,
            1950,
            1955,
            1960,
            1965,
            1970,
            1975,
            1980,
            1985,
            1990,
            1995,
            2000,
            2005,
            2010,
            2015,
            2020
           ],
           "xaxis": "x",
           "y": [
            257734.0031729244,
            338460.1173020528,
            434346.8043478261,
            437500,
            349751.8028846154,
            329129.7402407967,
            314660.9335062789,
            331738.3464851016,
            302436.6611926611,
            285875.54339312733,
            318763.6165577342,
            293937.8916627541,
            270207.26129216695,
            339331.35358888464,
            292827.68359411793,
            315787.8905630543,
            366583.5950563778,
            442839.02329671703,
            460894.3332487683
           ],
           "yaxis": "y"
          },
          {
           "hovertemplate": "n_rooms=3-к. квартира<br>metro_branch=#943E90<br>Год=%{x}<br>rubm2=%{y}<extra></extra>",
           "legendgroup": "3-к. квартира",
           "line": {
            "color": "#EF553B",
            "dash": "solid"
           },
           "marker": {
            "symbol": "circle"
           },
           "mode": "lines",
           "name": "3-к. квартира",
           "orientation": "v",
           "showlegend": true,
           "type": "scatter",
           "x": [
            1910,
            1930,
            1950,
            1955,
            1960,
            1965,
            1970,
            1975,
            1980,
            1985,
            1990,
            1995,
            2000,
            2005,
            2010,
            2020
           ],
           "xaxis": "x",
           "y": [
            965125.3012048192,
            361194.0298507463,
            689655.1724137932,
            339970.2011458628,
            304772.25418527337,
            272347.24547294824,
            264974.4474919536,
            296349.28059382783,
            263930.3482587065,
            377581.42758142756,
            285333.3333333333,
            227196.43534710255,
            340571.99159073393,
            274490.3494261204,
            362500,
            621479.254347767
           ],
           "yaxis": "y"
          }
         ],
         "name": "#943E90"
        },
        {
         "data": [
          {
           "hovertemplate": "n_rooms=2-к. квартира<br>metro_branch=#0072BA<br>Год=%{x}<br>rubm2=%{y}<extra></extra>",
           "legendgroup": "2-к. квартира",
           "line": {
            "color": "#636efa",
            "dash": "solid"
           },
           "marker": {
            "symbol": "circle"
           },
           "mode": "lines",
           "name": "2-к. квартира",
           "orientation": "v",
           "showlegend": true,
           "type": "scatter",
           "x": [
            1910,
            1935,
            1940,
            1955,
            1960,
            1965,
            1970,
            1975,
            1980,
            1985,
            1990,
            1995,
            2000,
            2005,
            2010,
            2015,
            2020
           ],
           "xaxis": "x",
           "y": [
            330147.0588235294,
            391362.0689655172,
            340677.9661016949,
            342513.7274373503,
            290617.44529595476,
            304777.4962271205,
            319468.91498907027,
            269501.2868121373,
            315062.4903038833,
            287097.9210653274,
            277792.1332184898,
            246901.92491063476,
            446882.7519702058,
            267324.74021076964,
            298000,
            326265.7924284009,
            387280.36686277087
           ],
           "yaxis": "y"
          },
          {
           "hovertemplate": "n_rooms=3-к. квартира<br>metro_branch=#0072BA<br>Год=%{x}<br>rubm2=%{y}<extra></extra>",
           "legendgroup": "3-к. квартира",
           "line": {
            "color": "#EF553B",
            "dash": "solid"
           },
           "marker": {
            "symbol": "circle"
           },
           "mode": "lines",
           "name": "3-к. квартира",
           "orientation": "v",
           "showlegend": true,
           "type": "scatter",
           "x": [
            1925,
            1935,
            1955,
            1960,
            1965,
            1970,
            1975,
            1980,
            1985,
            1990,
            1995,
            2000,
            2005,
            2010,
            2015,
            2020
           ],
           "xaxis": "x",
           "y": [
            292289.7196261682,
            459459.45945945947,
            352224.56441461976,
            276804.7210392382,
            322227.16220911266,
            245418.67413374007,
            289894.5597745908,
            246171.576584199,
            323613.44262044097,
            260423.34891270113,
            260374.13640044472,
            320260.0979124804,
            329683.14448898885,
            331425.39224353165,
            362374.3671501459,
            351531.124497992
           ],
           "yaxis": "y"
          }
         ],
         "name": "#0072BA"
        },
        {
         "data": [
          {
           "hovertemplate": "n_rooms=2-к. квартира<br>metro_branch=#FFCD1C<br>Год=%{x}<br>rubm2=%{y}<extra></extra>",
           "legendgroup": "2-к. квартира",
           "line": {
            "color": "#636efa",
            "dash": "solid"
           },
           "marker": {
            "symbol": "circle"
           },
           "mode": "lines",
           "name": "2-к. квартира",
           "orientation": "v",
           "showlegend": true,
           "type": "scatter",
           "x": [
            1910,
            1930,
            1950,
            1955,
            1960,
            1965,
            1970,
            1975,
            1980,
            1985,
            1990,
            1995,
            2000,
            2005,
            2010,
            2015,
            2020
           ],
           "xaxis": "x",
           "y": [
            453780.56404556823,
            172632.35294117648,
            297277.50083084084,
            305900.3153709036,
            333031.12142072705,
            267734.8101155654,
            284375.56997838465,
            234988.5476289763,
            272174.1125517233,
            253973.70840105193,
            230370.28115672388,
            289057.6681180455,
            293546.3790430702,
            315436.5192542862,
            279560.9756097561,
            372132.0616922684,
            305524.0306998107
           ],
           "yaxis": "y"
          },
          {
           "hovertemplate": "n_rooms=3-к. квартира<br>metro_branch=#FFCD1C<br>Год=%{x}<br>rubm2=%{y}<extra></extra>",
           "legendgroup": "3-к. квартира",
           "line": {
            "color": "#EF553B",
            "dash": "solid"
           },
           "marker": {
            "symbol": "circle"
           },
           "mode": "lines",
           "name": "3-к. квартира",
           "orientation": "v",
           "showlegend": true,
           "type": "scatter",
           "x": [
            1925,
            1950,
            1955,
            1960,
            1965,
            1970,
            1975,
            1980,
            1985,
            1990,
            1995,
            2000,
            2005,
            2010,
            2015,
            2020
           ],
           "xaxis": "x",
           "y": [
            261538.46153846153,
            257745.88271509926,
            367775.97402597405,
            272310.98716306663,
            263852.38541004184,
            271331.5482743992,
            274710.55328478414,
            280345.1039240513,
            189485.5904613216,
            242116.53415812404,
            254932.1259946189,
            381938.13934267266,
            319060.3069533164,
            440601.0518800904,
            387174.81091117027,
            308348.4911151913
           ],
           "yaxis": "y"
          }
         ],
         "name": "#FFCD1C"
        },
        {
         "data": [
          {
           "hovertemplate": "n_rooms=2-к. квартира<br>metro_branch=#915133<br>Год=%{x}<br>rubm2=%{y}<extra></extra>",
           "legendgroup": "2-к. квартира",
           "line": {
            "color": "#636efa",
            "dash": "solid"
           },
           "marker": {
            "symbol": "circle"
           },
           "mode": "lines",
           "name": "2-к. квартира",
           "orientation": "v",
           "showlegend": true,
           "type": "scatter",
           "x": [
            1915,
            1955,
            1960,
            1965,
            1970,
            1975,
            1995
           ],
           "xaxis": "x",
           "y": [
            242857.14285714287,
            767497.947454844,
            430667.2932330827,
            495015.5313651108,
            620833.3333333334,
            576590.6391066762,
            500000
           ],
           "yaxis": "y"
          },
          {
           "hovertemplate": "n_rooms=3-к. квартира<br>metro_branch=#915133<br>Год=%{x}<br>rubm2=%{y}<extra></extra>",
           "legendgroup": "3-к. квартира",
           "line": {
            "color": "#EF553B",
            "dash": "solid"
           },
           "marker": {
            "symbol": "circle"
           },
           "mode": "lines",
           "name": "3-к. квартира",
           "orientation": "v",
           "showlegend": true,
           "type": "scatter",
           "x": [
            1910,
            1935,
            1940,
            1945,
            1960,
            1965,
            1970,
            2000,
            2005
           ],
           "xaxis": "x",
           "y": [
            372549.01960784313,
            612903.2258064516,
            391780.8219178082,
            719051.7998244073,
            593750,
            363497.8700342811,
            490133.3333333333,
            347222.22222222225,
            889610.1159114857
           ],
           "yaxis": "y"
          }
         ],
         "name": "#915133"
        },
        {
         "data": [
          {
           "hovertemplate": "n_rooms=2-к. квартира<br>metro_branch= rgb(186, 200, 232);<br>Год=%{x}<br>rubm2=%{y}<extra></extra>",
           "legendgroup": "2-к. квартира",
           "line": {
            "color": "#636efa",
            "dash": "solid"
           },
           "marker": {
            "symbol": "circle"
           },
           "mode": "lines",
           "name": "2-к. квартира",
           "orientation": "v",
           "showlegend": true,
           "type": "scatter",
           "x": [
            1915,
            1955,
            1960,
            1965,
            1970,
            1975,
            1980,
            1985,
            1990,
            1995,
            2000,
            2005,
            2020
           ],
           "xaxis": "x",
           "y": [
            206494.54030174212,
            272420.5816417954,
            210000,
            155172.41379310345,
            183870.96774193548,
            251425.12077294686,
            179508.19672131148,
            256666.66666666666,
            236732.0487643326,
            222767.85714285716,
            237931.0344827586,
            235052.91005291007,
            226377.4602329741
           ],
           "yaxis": "y"
          },
          {
           "hovertemplate": "n_rooms=3-к. квартира<br>metro_branch= rgb(186, 200, 232);<br>Год=%{x}<br>rubm2=%{y}<extra></extra>",
           "legendgroup": "3-к. квартира",
           "line": {
            "color": "#EF553B",
            "dash": "solid"
           },
           "marker": {
            "symbol": "circle"
           },
           "mode": "lines",
           "name": "3-к. квартира",
           "orientation": "v",
           "showlegend": true,
           "type": "scatter",
           "x": [
            1915,
            1965,
            1975,
            1995,
            2000,
            2005,
            2020
           ],
           "xaxis": "x",
           "y": [
            166666.66666666666,
            156250,
            226190.47619047618,
            189873.41772151898,
            214285.7142857143,
            250588.23529411765,
            178462.43891728495
           ],
           "yaxis": "y"
          }
         ],
         "name": " rgb(186, 200, 232);"
        },
        {
         "data": [
          {
           "hovertemplate": "n_rooms=2-к. квартира<br>metro_branch= rgb(240, 126, 36);<br>Год=%{x}<br>rubm2=%{y}<extra></extra>",
           "legendgroup": "2-к. квартира",
           "line": {
            "color": "#636efa",
            "dash": "solid"
           },
           "marker": {
            "symbol": "circle"
           },
           "mode": "lines",
           "name": "2-к. квартира",
           "orientation": "v",
           "showlegend": true,
           "type": "scatter",
           "x": [
            1915,
            1930,
            1950,
            1960,
            1965,
            1970,
            1975,
            1980,
            1985,
            1995,
            2000,
            2005,
            2010,
            2020
           ],
           "xaxis": "x",
           "y": [
            650000,
            529411.7647058824,
            350000,
            347274.1075918371,
            300793.65079365077,
            291363.63636363635,
            282196.9696969697,
            246735.85364940268,
            637336.1823361823,
            354237.28813559323,
            354551.8207282913,
            316666.6666666667,
            230129.29125138427,
            342424.24242424243
           ],
           "yaxis": "y"
          },
          {
           "hovertemplate": "n_rooms=3-к. квартира<br>metro_branch= rgb(240, 126, 36);<br>Год=%{x}<br>rubm2=%{y}<extra></extra>",
           "legendgroup": "3-к. квартира",
           "line": {
            "color": "#EF553B",
            "dash": "solid"
           },
           "marker": {
            "symbol": "circle"
           },
           "mode": "lines",
           "name": "3-к. квартира",
           "orientation": "v",
           "showlegend": true,
           "type": "scatter",
           "x": [
            1935,
            1955,
            1960,
            1965,
            1970,
            1975,
            1980,
            1985,
            1990,
            1995,
            2000,
            2005,
            2010,
            2015
           ],
           "xaxis": "x",
           "y": [
            329411.76470588235,
            530318.1818181819,
            409090.92992424243,
            223642.52573766175,
            252380.95238095237,
            366301.6944197766,
            254913.40272459987,
            217022.4411603722,
            294871.7948717949,
            304285.71428571426,
            378378.3783783784,
            354545.45454545453,
            356164.37899543374,
            306923.07692307694
           ],
           "yaxis": "y"
          }
         ],
         "name": " rgb(240, 126, 36);"
        },
        {
         "data": [
          {
           "hovertemplate": "n_rooms=2-к. квартира<br>metro_branch=#F07E24<br>Год=%{x}<br>rubm2=%{y}<extra></extra>",
           "legendgroup": "2-к. квартира",
           "line": {
            "color": "#636efa",
            "dash": "solid"
           },
           "marker": {
            "symbol": "circle"
           },
           "mode": "lines",
           "name": "2-к. квартира",
           "orientation": "v",
           "showlegend": true,
           "type": "scatter",
           "x": [
            1915,
            1930,
            1940,
            1945,
            1950,
            1955,
            1960,
            1965,
            1970,
            1975,
            1980,
            1985,
            1990,
            1995,
            2000,
            2005,
            2010,
            2015,
            2020
           ],
           "xaxis": "x",
           "y": [
            465116.27906976745,
            363600,
            367857.14285714284,
            433695.652173913,
            630136.9863013698,
            333551.8726275894,
            337455.9061866142,
            301702.0420658699,
            292580.7256486742,
            327191.2041956828,
            254921.20060414198,
            299837.6521005237,
            330799.1120976693,
            306743.3637379239,
            323997.718147735,
            310125.1513283576,
            302135.07815404143,
            306340.53692331916,
            335649.5587186984
           ],
           "yaxis": "y"
          },
          {
           "hovertemplate": "n_rooms=3-к. квартира<br>metro_branch=#F07E24<br>Год=%{x}<br>rubm2=%{y}<extra></extra>",
           "legendgroup": "3-к. квартира",
           "line": {
            "color": "#EF553B",
            "dash": "solid"
           },
           "marker": {
            "symbol": "circle"
           },
           "mode": "lines",
           "name": "3-к. квартира",
           "orientation": "v",
           "showlegend": true,
           "type": "scatter",
           "x": [
            1935,
            1940,
            1950,
            1955,
            1960,
            1965,
            1970,
            1975,
            1980,
            1985,
            1990,
            1995,
            2000,
            2005,
            2015,
            2020
           ],
           "xaxis": "x",
           "y": [
            329411.76470588235,
            489761.9047619048,
            416666.6666666667,
            414401.3026202571,
            283356.08913036855,
            322369.3098187814,
            274446.5991616328,
            275523.7279495833,
            279893.4819821382,
            348690.34179227235,
            286235.12544802873,
            277777.77777777775,
            303821.20052777947,
            311356.0416191995,
            285598.2905982906,
            358540.01457597094
           ],
           "yaxis": "y"
          }
         ],
         "name": "#F07E24"
        },
        {
         "data": [
          {
           "hovertemplate": "n_rooms=2-к. квартира<br>metro_branch=#F4D7CF<br>Год=%{x}<br>rubm2=%{y}<extra></extra>",
           "legendgroup": "2-к. квартира",
           "line": {
            "color": "#636efa",
            "dash": "solid"
           },
           "marker": {
            "symbol": "circle"
           },
           "mode": "lines",
           "name": "2-к. квартира",
           "orientation": "v",
           "showlegend": true,
           "type": "scatter",
           "x": [
            1915,
            1955,
            1960,
            1965,
            1970,
            1975,
            1980,
            1985,
            1990,
            1995,
            2000,
            2005,
            2015,
            2020
           ],
           "xaxis": "x",
           "y": [
            269197.72256728774,
            331724.87171150185,
            375727.7407432733,
            302028.91572499415,
            277644.14342718053,
            273686.2699643638,
            253854.29769392032,
            278942.73706330446,
            245000,
            266209.14043583535,
            447959.7390157735,
            338502.44711085845,
            355650.4994995048,
            455806.86402001244
           ],
           "yaxis": "y"
          },
          {
           "hovertemplate": "n_rooms=3-к. квартира<br>metro_branch=#F4D7CF<br>Год=%{x}<br>rubm2=%{y}<extra></extra>",
           "legendgroup": "3-к. квартира",
           "line": {
            "color": "#EF553B",
            "dash": "solid"
           },
           "marker": {
            "symbol": "circle"
           },
           "mode": "lines",
           "name": "3-к. квартира",
           "orientation": "v",
           "showlegend": true,
           "type": "scatter",
           "x": [
            1930,
            1950,
            1955,
            1960,
            1965,
            1970,
            1975,
            1980,
            1985,
            1990,
            1995,
            2000,
            2005,
            2010,
            2020
           ],
           "xaxis": "x",
           "y": [
            328347.3389355742,
            324088.8746803069,
            290561.4200532114,
            341670.81907991,
            299540.0906078914,
            329130.77575210284,
            301587.28571428574,
            321874.99649122806,
            228395.06172839506,
            293584.60412480106,
            323547.54364670126,
            479853.4798534799,
            392188.43116545427,
            448659.8440545809,
            379133.27335792076
           ],
           "yaxis": "y"
          }
         ],
         "name": "#F4D7CF"
        },
        {
         "data": [
          {
           "hovertemplate": "n_rooms=2-к. квартира<br>metro_branch= rgb(30, 188, 239);<br>Год=%{x}<br>rubm2=%{y}<extra></extra>",
           "legendgroup": "2-к. квартира",
           "line": {
            "color": "#636efa",
            "dash": "solid"
           },
           "marker": {
            "symbol": "circle"
           },
           "mode": "lines",
           "name": "2-к. квартира",
           "orientation": "v",
           "showlegend": true,
           "type": "scatter",
           "x": [
            1925,
            1930,
            1935,
            1940,
            1955,
            1960,
            1965,
            1970,
            1980,
            1985,
            1990,
            2000,
            2005,
            2010,
            2015,
            2020
           ],
           "xaxis": "x",
           "y": [
            520000,
            498001.1305822499,
            495000,
            351351.35135135136,
            483333.3333333333,
            374621.2146612496,
            320785.8143451708,
            429545.45454545453,
            406625.4938887043,
            275471.69811320753,
            282500,
            406810.88314005354,
            389906.62139219017,
            381632.78750235273,
            463265.306122449,
            518095.3780088481
           ],
           "yaxis": "y"
          },
          {
           "hovertemplate": "n_rooms=3-к. квартира<br>metro_branch= rgb(30, 188, 239);<br>Год=%{x}<br>rubm2=%{y}<extra></extra>",
           "legendgroup": "3-к. квартира",
           "line": {
            "color": "#EF553B",
            "dash": "solid"
           },
           "marker": {
            "symbol": "circle"
           },
           "mode": "lines",
           "name": "3-к. квартира",
           "orientation": "v",
           "showlegend": true,
           "type": "scatter",
           "x": [
            1915,
            1950,
            1960,
            1965,
            1970,
            1975,
            1985,
            2000,
            2010,
            2015,
            2020
           ],
           "xaxis": "x",
           "y": [
            361111.1111111111,
            328125,
            394112.5541125541,
            351415.09433962265,
            254830.60599559205,
            393421.05263157893,
            291040.8826548067,
            574347.9423890365,
            370512.8205128205,
            394961.69220519654,
            442636.1112779847
           ],
           "yaxis": "y"
          }
         ],
         "name": " rgb(30, 188, 239);"
        },
        {
         "data": [
          {
           "hovertemplate": "n_rooms=2-к. квартира<br>metro_branch= rgb(208, 108, 159);<br>Год=%{x}<br>rubm2=%{y}<extra></extra>",
           "legendgroup": "2-к. квартира",
           "line": {
            "color": "#636efa",
            "dash": "solid"
           },
           "marker": {
            "symbol": "circle"
           },
           "mode": "lines",
           "name": "2-к. квартира",
           "orientation": "v",
           "showlegend": true,
           "type": "scatter",
           "x": [
            1930,
            1950,
            1955,
            1960,
            1965,
            1970,
            1980,
            1985,
            1990,
            1995,
            2005,
            2010,
            2015,
            2020
           ],
           "xaxis": "x",
           "y": [
            428448.275862069,
            232558.13953488372,
            221428.57142857142,
            291103.794475505,
            293657.2504708098,
            351099.3027440396,
            252105.40254237287,
            372070.1754385965,
            207692.3076923077,
            250000,
            248736.10489429923,
            223213.23529411765,
            205664.48252688174,
            251898.1316437646
           ],
           "yaxis": "y"
          },
          {
           "hovertemplate": "n_rooms=3-к. квартира<br>metro_branch= rgb(208, 108, 159);<br>Год=%{x}<br>rubm2=%{y}<extra></extra>",
           "legendgroup": "3-к. квартира",
           "line": {
            "color": "#EF553B",
            "dash": "solid"
           },
           "marker": {
            "symbol": "circle"
           },
           "mode": "lines",
           "name": "3-к. квартира",
           "orientation": "v",
           "showlegend": true,
           "type": "scatter",
           "x": [
            1960,
            1970,
            1995,
            2005,
            2010,
            2015,
            2020
           ],
           "xaxis": "x",
           "y": [
            300090.27777777775,
            234950.32144944475,
            202488.82265275708,
            252764.97085320612,
            191127.0928462709,
            230000,
            376849.02159244264
           ],
           "yaxis": "y"
          }
         ],
         "name": " rgb(208, 108, 159);"
        },
        {
         "data": [
          {
           "hovertemplate": "n_rooms=2-к. квартира<br>metro_branch=#D06C9F<br>Год=%{x}<br>rubm2=%{y}<extra></extra>",
           "legendgroup": "2-к. квартира",
           "line": {
            "color": "#636efa",
            "dash": "solid"
           },
           "marker": {
            "symbol": "circle"
           },
           "mode": "lines",
           "name": "2-к. квартира",
           "orientation": "v",
           "showlegend": true,
           "type": "scatter",
           "x": [
            1930,
            1950,
            1955,
            1960,
            1965,
            1970,
            1975,
            1980,
            1985,
            1990,
            1995,
            2000,
            2005,
            2010,
            2015,
            2020
           ],
           "xaxis": "x",
           "y": [
            400690.01157017867,
            232558.13953488372,
            237530.8417997097,
            290375.9926073634,
            329414.1075247904,
            312754.52002153633,
            267885.89743589744,
            279036.29529787245,
            294253.1023977673,
            231920.37337431344,
            254491.0394265233,
            269898.8387451902,
            269254.11811592407,
            221730.88075936283,
            231863.31654583302,
            282222.12221676443
           ],
           "yaxis": "y"
          },
          {
           "hovertemplate": "n_rooms=3-к. квартира<br>metro_branch=#D06C9F<br>Год=%{x}<br>rubm2=%{y}<extra></extra>",
           "legendgroup": "3-к. квартира",
           "line": {
            "color": "#EF553B",
            "dash": "solid"
           },
           "marker": {
            "symbol": "circle"
           },
           "mode": "lines",
           "name": "3-к. квартира",
           "orientation": "v",
           "showlegend": true,
           "type": "scatter",
           "x": [
            1935,
            1955,
            1960,
            1965,
            1970,
            1985,
            1990,
            1995,
            2000,
            2005,
            2010,
            2015,
            2020
           ],
           "xaxis": "x",
           "y": [
            266666.6666666667,
            226607.8777189888,
            272386.3598966192,
            249884.0110506777,
            265994.41323149565,
            356432.1250888415,
            221052.63157894736,
            222733.27868852462,
            177865.61264822134,
            258029.28481334055,
            196298.49134849134,
            220574.72682188646,
            230416.50139121662
           ],
           "yaxis": "y"
          }
         ],
         "name": "#D06C9F"
        },
        {
         "data": [
          {
           "hovertemplate": "n_rooms=2-к. квартира<br>metro_branch=#88CDCF<br>Год=%{x}<br>rubm2=%{y}<extra></extra>",
           "legendgroup": "2-к. квартира",
           "line": {
            "color": "#636efa",
            "dash": "solid"
           },
           "marker": {
            "symbol": "circle"
           },
           "mode": "lines",
           "name": "2-к. квартира",
           "orientation": "v",
           "showlegend": true,
           "type": "scatter",
           "x": [
            1935,
            1950,
            1960,
            1965,
            1970,
            1975,
            1980,
            2000,
            2015,
            2020
           ],
           "xaxis": "x",
           "y": [
            362500,
            329245.28301886795,
            273915.9891598916,
            305475.3820033956,
            265744.68085106387,
            335820.89552238805,
            294791.6666666666,
            290350.8771929825,
            352406.4171122994,
            304687.5
           ],
           "yaxis": "y"
          },
          {
           "hovertemplate": "n_rooms=3-к. квартира<br>metro_branch=#88CDCF<br>Год=%{x}<br>rubm2=%{y}<extra></extra>",
           "legendgroup": "3-к. квартира",
           "line": {
            "color": "#EF553B",
            "dash": "solid"
           },
           "marker": {
            "symbol": "circle"
           },
           "mode": "lines",
           "name": "3-к. квартира",
           "orientation": "v",
           "showlegend": true,
           "type": "scatter",
           "x": [
            1970,
            1980,
            2015,
            2020
           ],
           "xaxis": "x",
           "y": [
            318421.05263157893,
            293548.3870967742,
            304090.90909090906,
            355108.5992907801
           ],
           "yaxis": "y"
          }
         ],
         "name": "#88CDCF"
        },
        {
         "data": [
          {
           "hovertemplate": "n_rooms=2-к. квартира<br>metro_branch= rgb(190, 209, 44);<br>Год=%{x}<br>rubm2=%{y}<extra></extra>",
           "legendgroup": "2-к. квартира",
           "line": {
            "color": "#636efa",
            "dash": "solid"
           },
           "marker": {
            "symbol": "circle"
           },
           "mode": "lines",
           "name": "2-к. квартира",
           "orientation": "v",
           "showlegend": true,
           "type": "scatter",
           "x": [
            1940,
            1955,
            1960,
            1970,
            1975,
            1980,
            1995,
            2000,
            2005,
            2010,
            2020
           ],
           "xaxis": "x",
           "y": [
            277777.77777777775,
            331818.1818181818,
            281060.8256477822,
            284098.6648735288,
            298306.2897501796,
            300088.86202185915,
            342592.5925925926,
            274313.7254901961,
            250386.60996952953,
            346402.99921723723,
            364673.4431020672
           ],
           "yaxis": "y"
          },
          {
           "hovertemplate": "n_rooms=3-к. квартира<br>metro_branch= rgb(190, 209, 44);<br>Год=%{x}<br>rubm2=%{y}<extra></extra>",
           "legendgroup": "3-к. квартира",
           "line": {
            "color": "#EF553B",
            "dash": "solid"
           },
           "marker": {
            "symbol": "circle"
           },
           "mode": "lines",
           "name": "3-к. квартира",
           "orientation": "v",
           "showlegend": true,
           "type": "scatter",
           "x": [
            1940,
            1950,
            1960,
            1965,
            1970,
            1975,
            1980,
            1990,
            1995,
            2000,
            2005,
            2010,
            2015,
            2020
           ],
           "xaxis": "x",
           "y": [
            254929.57746478874,
            218333.33333333334,
            299667.56169287814,
            233172.5800594183,
            283333.3333333333,
            315068.4931506849,
            290111.3899444056,
            255263.15789473685,
            240219.15584415584,
            242705.29049010063,
            238023.08802308803,
            337702.7027027027,
            397946.9060351413,
            309113.17662623216
           ],
           "yaxis": "y"
          }
         ],
         "name": " rgb(190, 209, 44);"
        },
        {
         "data": [
          {
           "hovertemplate": "n_rooms=2-к. квартира<br>metro_branch= rgb(228, 35, 19);<br>Год=%{x}<br>rubm2=%{y}<extra></extra>",
           "legendgroup": "2-к. квартира",
           "line": {
            "color": "#636efa",
            "dash": "solid"
           },
           "marker": {
            "symbol": "circle"
           },
           "mode": "lines",
           "name": "2-к. квартира",
           "orientation": "v",
           "showlegend": true,
           "type": "scatter",
           "x": [
            1940,
            1950,
            1955,
            1960,
            1965,
            1980,
            1985,
            2000,
            2005,
            2010,
            2015,
            2020
           ],
           "xaxis": "x",
           "y": [
            429824.56140350876,
            243835.61643835617,
            368656.7164179105,
            319746.8983518172,
            412544.06580493535,
            300378.1512605042,
            419148.93617021275,
            342592.5925925926,
            327260.27397260274,
            516393.4426229508,
            266326.5306122449,
            321185.77075098816
           ],
           "yaxis": "y"
          },
          {
           "hovertemplate": "n_rooms=3-к. квартира<br>metro_branch= rgb(228, 35, 19);<br>Год=%{x}<br>rubm2=%{y}<extra></extra>",
           "legendgroup": "3-к. квартира",
           "line": {
            "color": "#EF553B",
            "dash": "solid"
           },
           "marker": {
            "symbol": "circle"
           },
           "mode": "lines",
           "name": "3-к. квартира",
           "orientation": "v",
           "showlegend": true,
           "type": "scatter",
           "x": [
            1950,
            1955,
            1960,
            1970,
            1975,
            1980,
            2000,
            2010,
            2015,
            2020
           ],
           "xaxis": "x",
           "y": [
            468253.9682539683,
            418292.68292682926,
            277090.00762776507,
            295244.2163571196,
            322498.2905982906,
            262686.5671641791,
            284210.5263157895,
            385263.15789473685,
            234328.35820895524,
            244715.6111335216
           ],
           "yaxis": "y"
          }
         ],
         "name": " rgb(228, 35, 19);"
        },
        {
         "data": [
          {
           "hovertemplate": "n_rooms=2-к. квартира<br>metro_branch= rgb(244, 215, 207);<br>Год=%{x}<br>rubm2=%{y}<extra></extra>",
           "legendgroup": "2-к. квартира",
           "line": {
            "color": "#636efa",
            "dash": "solid"
           },
           "marker": {
            "symbol": "circle"
           },
           "mode": "lines",
           "name": "2-к. квартира",
           "orientation": "v",
           "showlegend": true,
           "type": "scatter",
           "x": [
            1950,
            1955,
            1960,
            1965,
            1970,
            1975,
            1995,
            2005,
            2010,
            2015,
            2020
           ],
           "xaxis": "x",
           "y": [
            393442.62295081967,
            371219.95192307694,
            375390.5394920775,
            296310.0624865331,
            146590.9090909091,
            402884.6153846154,
            201607.14285714287,
            330508.4745762712,
            333333.3333333333,
            374304.8096431555,
            421420.3216972806
           ],
           "yaxis": "y"
          },
          {
           "hovertemplate": "n_rooms=3-к. квартира<br>metro_branch= rgb(244, 215, 207);<br>Год=%{x}<br>rubm2=%{y}<extra></extra>",
           "legendgroup": "3-к. квартира",
           "line": {
            "color": "#EF553B",
            "dash": "solid"
           },
           "marker": {
            "symbol": "circle"
           },
           "mode": "lines",
           "name": "3-к. квартира",
           "orientation": "v",
           "showlegend": true,
           "type": "scatter",
           "x": [
            1955,
            1960,
            1965,
            1970,
            1985,
            1990,
            1995,
            2000,
            2020
           ],
           "xaxis": "x",
           "y": [
            270588.23529411765,
            368222.22222222225,
            398666.6666666667,
            277777.77777777775,
            139180.32786885247,
            357906.4039408867,
            330379.746835443,
            487179.4871794872,
            434227.95837489073
           ],
           "yaxis": "y"
          }
         ],
         "name": " rgb(244, 215, 207);"
        },
        {
         "data": [
          {
           "hovertemplate": "n_rooms=2-к. квартира<br>metro_branch= rgb(255, 205, 28);<br>Год=%{x}<br>rubm2=%{y}<extra></extra>",
           "legendgroup": "2-к. квартира",
           "line": {
            "color": "#636efa",
            "dash": "solid"
           },
           "marker": {
            "symbol": "circle"
           },
           "mode": "lines",
           "name": "2-к. квартира",
           "orientation": "v",
           "showlegend": true,
           "type": "scatter",
           "x": [
            1955,
            1960,
            1965,
            1970,
            1975,
            1985,
            1990,
            1995,
            2000,
            2005,
            2010,
            2015,
            2020
           ],
           "xaxis": "x",
           "y": [
            253632.12719298244,
            290383.5978835979,
            327183.02662889194,
            253221.321943764,
            362745.09803921566,
            259803.92156862747,
            243340.45584045583,
            290909.0909090909,
            291239.31623931625,
            216666.66666666666,
            256477.2727272727,
            266964.54189209343,
            248264.2089093702
           ],
           "yaxis": "y"
          },
          {
           "hovertemplate": "n_rooms=3-к. квартира<br>metro_branch= rgb(255, 205, 28);<br>Год=%{x}<br>rubm2=%{y}<extra></extra>",
           "legendgroup": "3-к. квартира",
           "line": {
            "color": "#EF553B",
            "dash": "solid"
           },
           "marker": {
            "symbol": "circle"
           },
           "mode": "lines",
           "name": "3-к. квартира",
           "orientation": "v",
           "showlegend": true,
           "type": "scatter",
           "x": [
            1955,
            1960,
            1970,
            1975,
            1980,
            1985,
            1990,
            1995,
            2005,
            2015,
            2020
           ],
           "xaxis": "x",
           "y": [
            269230.76923076925,
            237588.79778736606,
            325961.7971482378,
            233055.55555555556,
            304054.0540540541,
            236842.1052631579,
            328365.3846153846,
            233766.23376623375,
            407948.84939621785,
            373513.8491293954,
            235538.55059879157
           ],
           "yaxis": "y"
          }
         ],
         "name": " rgb(255, 205, 28);"
        },
        {
         "data": [
          {
           "hovertemplate": "n_rooms=2-к. квартира<br>metro_branch= rgb(136, 205, 207);<br>Год=%{x}<br>rubm2=%{y}<extra></extra>",
           "legendgroup": "2-к. квартира",
           "line": {
            "color": "#636efa",
            "dash": "solid"
           },
           "marker": {
            "symbol": "circle"
           },
           "mode": "lines",
           "name": "2-к. квартира",
           "orientation": "v",
           "showlegend": true,
           "type": "scatter",
           "x": [
            1960,
            2015
           ],
           "xaxis": "x",
           "y": [
            251219.51219512196,
            369758.4541062802
           ],
           "yaxis": "y"
          }
         ],
         "name": " rgb(136, 205, 207);"
        }
       ],
       "layout": {
        "height": 900,
        "legend": {
         "title": {
          "text": "n_rooms"
         },
         "tracegroupgap": 0
        },
        "margin": {
         "t": 60
        },
        "sliders": [
         {
          "active": 0,
          "currentvalue": {
           "prefix": "metro_branch="
          },
          "len": 0.9,
          "pad": {
           "b": 10,
           "t": 60
          },
          "steps": [
           {
            "args": [
             [
              "#ADACAC"
             ],
             {
              "frame": {
               "duration": 0,
               "redraw": false
              },
              "fromcurrent": true,
              "mode": "immediate",
              "transition": {
               "duration": 0,
               "easing": "linear"
              }
             }
            ],
            "label": "#ADACAC",
            "method": "animate"
           },
           {
            "args": [
             [
              "#E42313"
             ],
             {
              "frame": {
               "duration": 0,
               "redraw": false
              },
              "fromcurrent": true,
              "mode": "immediate",
              "transition": {
               "duration": 0,
               "easing": "linear"
              }
             }
            ],
            "label": "#E42313",
            "method": "animate"
           },
           {
            "args": [
             [
              " rgb(148, 62, 144);"
             ],
             {
              "frame": {
               "duration": 0,
               "redraw": false
              },
              "fromcurrent": true,
              "mode": "immediate",
              "transition": {
               "duration": 0,
               "easing": "linear"
              }
             }
            ],
            "label": " rgb(148, 62, 144);",
            "method": "animate"
           },
           {
            "args": [
             [
              " rgb(0, 114, 186);"
             ],
             {
              "frame": {
               "duration": 0,
               "redraw": false
              },
              "fromcurrent": true,
              "mode": "immediate",
              "transition": {
               "duration": 0,
               "easing": "linear"
              }
             }
            ],
            "label": " rgb(0, 114, 186);",
            "method": "animate"
           },
           {
            "args": [
             [
              " rgb(173, 172, 172);"
             ],
             {
              "frame": {
               "duration": 0,
               "redraw": false
              },
              "fromcurrent": true,
              "mode": "immediate",
              "transition": {
               "duration": 0,
               "easing": "linear"
              }
             }
            ],
            "label": " rgb(173, 172, 172);",
            "method": "animate"
           },
           {
            "args": [
             [
              " rgb(79, 176, 79);"
             ],
             {
              "frame": {
               "duration": 0,
               "redraw": false
              },
              "fromcurrent": true,
              "mode": "immediate",
              "transition": {
               "duration": 0,
               "easing": "linear"
              }
             }
            ],
            "label": " rgb(79, 176, 79);",
            "method": "animate"
           },
           {
            "args": [
             [
              "#1EBCEF"
             ],
             {
              "frame": {
               "duration": 0,
               "redraw": false
              },
              "fromcurrent": true,
              "mode": "immediate",
              "transition": {
               "duration": 0,
               "easing": "linear"
              }
             }
            ],
            "label": "#1EBCEF",
            "method": "animate"
           },
           {
            "args": [
             [
              "#4FB04F"
             ],
             {
              "frame": {
               "duration": 0,
               "redraw": false
              },
              "fromcurrent": true,
              "mode": "immediate",
              "transition": {
               "duration": 0,
               "easing": "linear"
              }
             }
            ],
            "label": "#4FB04F",
            "method": "animate"
           },
           {
            "args": [
             [
              "#BAC8E8"
             ],
             {
              "frame": {
               "duration": 0,
               "redraw": false
              },
              "fromcurrent": true,
              "mode": "immediate",
              "transition": {
               "duration": 0,
               "easing": "linear"
              }
             }
            ],
            "label": "#BAC8E8",
            "method": "animate"
           },
           {
            "args": [
             [
              " rgb(145, 81, 51);"
             ],
             {
              "frame": {
               "duration": 0,
               "redraw": false
              },
              "fromcurrent": true,
              "mode": "immediate",
              "transition": {
               "duration": 0,
               "easing": "linear"
              }
             }
            ],
            "label": " rgb(145, 81, 51);",
            "method": "animate"
           },
           {
            "args": [
             [
              "#BED12C"
             ],
             {
              "frame": {
               "duration": 0,
               "redraw": false
              },
              "fromcurrent": true,
              "mode": "immediate",
              "transition": {
               "duration": 0,
               "easing": "linear"
              }
             }
            ],
            "label": "#BED12C",
            "method": "animate"
           },
           {
            "args": [
             [
              "#943E90"
             ],
             {
              "frame": {
               "duration": 0,
               "redraw": false
              },
              "fromcurrent": true,
              "mode": "immediate",
              "transition": {
               "duration": 0,
               "easing": "linear"
              }
             }
            ],
            "label": "#943E90",
            "method": "animate"
           },
           {
            "args": [
             [
              "#0072BA"
             ],
             {
              "frame": {
               "duration": 0,
               "redraw": false
              },
              "fromcurrent": true,
              "mode": "immediate",
              "transition": {
               "duration": 0,
               "easing": "linear"
              }
             }
            ],
            "label": "#0072BA",
            "method": "animate"
           },
           {
            "args": [
             [
              "#FFCD1C"
             ],
             {
              "frame": {
               "duration": 0,
               "redraw": false
              },
              "fromcurrent": true,
              "mode": "immediate",
              "transition": {
               "duration": 0,
               "easing": "linear"
              }
             }
            ],
            "label": "#FFCD1C",
            "method": "animate"
           },
           {
            "args": [
             [
              "#915133"
             ],
             {
              "frame": {
               "duration": 0,
               "redraw": false
              },
              "fromcurrent": true,
              "mode": "immediate",
              "transition": {
               "duration": 0,
               "easing": "linear"
              }
             }
            ],
            "label": "#915133",
            "method": "animate"
           },
           {
            "args": [
             [
              " rgb(186, 200, 232);"
             ],
             {
              "frame": {
               "duration": 0,
               "redraw": false
              },
              "fromcurrent": true,
              "mode": "immediate",
              "transition": {
               "duration": 0,
               "easing": "linear"
              }
             }
            ],
            "label": " rgb(186, 200, 232);",
            "method": "animate"
           },
           {
            "args": [
             [
              " rgb(240, 126, 36);"
             ],
             {
              "frame": {
               "duration": 0,
               "redraw": false
              },
              "fromcurrent": true,
              "mode": "immediate",
              "transition": {
               "duration": 0,
               "easing": "linear"
              }
             }
            ],
            "label": " rgb(240, 126, 36);",
            "method": "animate"
           },
           {
            "args": [
             [
              "#F07E24"
             ],
             {
              "frame": {
               "duration": 0,
               "redraw": false
              },
              "fromcurrent": true,
              "mode": "immediate",
              "transition": {
               "duration": 0,
               "easing": "linear"
              }
             }
            ],
            "label": "#F07E24",
            "method": "animate"
           },
           {
            "args": [
             [
              "#F4D7CF"
             ],
             {
              "frame": {
               "duration": 0,
               "redraw": false
              },
              "fromcurrent": true,
              "mode": "immediate",
              "transition": {
               "duration": 0,
               "easing": "linear"
              }
             }
            ],
            "label": "#F4D7CF",
            "method": "animate"
           },
           {
            "args": [
             [
              " rgb(30, 188, 239);"
             ],
             {
              "frame": {
               "duration": 0,
               "redraw": false
              },
              "fromcurrent": true,
              "mode": "immediate",
              "transition": {
               "duration": 0,
               "easing": "linear"
              }
             }
            ],
            "label": " rgb(30, 188, 239);",
            "method": "animate"
           },
           {
            "args": [
             [
              " rgb(208, 108, 159);"
             ],
             {
              "frame": {
               "duration": 0,
               "redraw": false
              },
              "fromcurrent": true,
              "mode": "immediate",
              "transition": {
               "duration": 0,
               "easing": "linear"
              }
             }
            ],
            "label": " rgb(208, 108, 159);",
            "method": "animate"
           },
           {
            "args": [
             [
              "#D06C9F"
             ],
             {
              "frame": {
               "duration": 0,
               "redraw": false
              },
              "fromcurrent": true,
              "mode": "immediate",
              "transition": {
               "duration": 0,
               "easing": "linear"
              }
             }
            ],
            "label": "#D06C9F",
            "method": "animate"
           },
           {
            "args": [
             [
              "#88CDCF"
             ],
             {
              "frame": {
               "duration": 0,
               "redraw": false
              },
              "fromcurrent": true,
              "mode": "immediate",
              "transition": {
               "duration": 0,
               "easing": "linear"
              }
             }
            ],
            "label": "#88CDCF",
            "method": "animate"
           },
           {
            "args": [
             [
              " rgb(190, 209, 44);"
             ],
             {
              "frame": {
               "duration": 0,
               "redraw": false
              },
              "fromcurrent": true,
              "mode": "immediate",
              "transition": {
               "duration": 0,
               "easing": "linear"
              }
             }
            ],
            "label": " rgb(190, 209, 44);",
            "method": "animate"
           },
           {
            "args": [
             [
              " rgb(228, 35, 19);"
             ],
             {
              "frame": {
               "duration": 0,
               "redraw": false
              },
              "fromcurrent": true,
              "mode": "immediate",
              "transition": {
               "duration": 0,
               "easing": "linear"
              }
             }
            ],
            "label": " rgb(228, 35, 19);",
            "method": "animate"
           },
           {
            "args": [
             [
              " rgb(244, 215, 207);"
             ],
             {
              "frame": {
               "duration": 0,
               "redraw": false
              },
              "fromcurrent": true,
              "mode": "immediate",
              "transition": {
               "duration": 0,
               "easing": "linear"
              }
             }
            ],
            "label": " rgb(244, 215, 207);",
            "method": "animate"
           },
           {
            "args": [
             [
              " rgb(255, 205, 28);"
             ],
             {
              "frame": {
               "duration": 0,
               "redraw": false
              },
              "fromcurrent": true,
              "mode": "immediate",
              "transition": {
               "duration": 0,
               "easing": "linear"
              }
             }
            ],
            "label": " rgb(255, 205, 28);",
            "method": "animate"
           },
           {
            "args": [
             [
              " rgb(136, 205, 207);"
             ],
             {
              "frame": {
               "duration": 0,
               "redraw": false
              },
              "fromcurrent": true,
              "mode": "immediate",
              "transition": {
               "duration": 0,
               "easing": "linear"
              }
             }
            ],
            "label": " rgb(136, 205, 207);",
            "method": "animate"
           }
          ],
          "x": 0.1,
          "xanchor": "left",
          "y": 0,
          "yanchor": "top"
         }
        ],
        "template": {
         "data": {
          "bar": [
           {
            "error_x": {
             "color": "#2a3f5f"
            },
            "error_y": {
             "color": "#2a3f5f"
            },
            "marker": {
             "line": {
              "color": "#E5ECF6",
              "width": 0.5
             },
             "pattern": {
              "fillmode": "overlay",
              "size": 10,
              "solidity": 0.2
             }
            },
            "type": "bar"
           }
          ],
          "barpolar": [
           {
            "marker": {
             "line": {
              "color": "#E5ECF6",
              "width": 0.5
             },
             "pattern": {
              "fillmode": "overlay",
              "size": 10,
              "solidity": 0.2
             }
            },
            "type": "barpolar"
           }
          ],
          "carpet": [
           {
            "aaxis": {
             "endlinecolor": "#2a3f5f",
             "gridcolor": "white",
             "linecolor": "white",
             "minorgridcolor": "white",
             "startlinecolor": "#2a3f5f"
            },
            "baxis": {
             "endlinecolor": "#2a3f5f",
             "gridcolor": "white",
             "linecolor": "white",
             "minorgridcolor": "white",
             "startlinecolor": "#2a3f5f"
            },
            "type": "carpet"
           }
          ],
          "choropleth": [
           {
            "colorbar": {
             "outlinewidth": 0,
             "ticks": ""
            },
            "type": "choropleth"
           }
          ],
          "contour": [
           {
            "colorbar": {
             "outlinewidth": 0,
             "ticks": ""
            },
            "colorscale": [
             [
              0,
              "#0d0887"
             ],
             [
              0.1111111111111111,
              "#46039f"
             ],
             [
              0.2222222222222222,
              "#7201a8"
             ],
             [
              0.3333333333333333,
              "#9c179e"
             ],
             [
              0.4444444444444444,
              "#bd3786"
             ],
             [
              0.5555555555555556,
              "#d8576b"
             ],
             [
              0.6666666666666666,
              "#ed7953"
             ],
             [
              0.7777777777777778,
              "#fb9f3a"
             ],
             [
              0.8888888888888888,
              "#fdca26"
             ],
             [
              1,
              "#f0f921"
             ]
            ],
            "type": "contour"
           }
          ],
          "contourcarpet": [
           {
            "colorbar": {
             "outlinewidth": 0,
             "ticks": ""
            },
            "type": "contourcarpet"
           }
          ],
          "heatmap": [
           {
            "colorbar": {
             "outlinewidth": 0,
             "ticks": ""
            },
            "colorscale": [
             [
              0,
              "#0d0887"
             ],
             [
              0.1111111111111111,
              "#46039f"
             ],
             [
              0.2222222222222222,
              "#7201a8"
             ],
             [
              0.3333333333333333,
              "#9c179e"
             ],
             [
              0.4444444444444444,
              "#bd3786"
             ],
             [
              0.5555555555555556,
              "#d8576b"
             ],
             [
              0.6666666666666666,
              "#ed7953"
             ],
             [
              0.7777777777777778,
              "#fb9f3a"
             ],
             [
              0.8888888888888888,
              "#fdca26"
             ],
             [
              1,
              "#f0f921"
             ]
            ],
            "type": "heatmap"
           }
          ],
          "heatmapgl": [
           {
            "colorbar": {
             "outlinewidth": 0,
             "ticks": ""
            },
            "colorscale": [
             [
              0,
              "#0d0887"
             ],
             [
              0.1111111111111111,
              "#46039f"
             ],
             [
              0.2222222222222222,
              "#7201a8"
             ],
             [
              0.3333333333333333,
              "#9c179e"
             ],
             [
              0.4444444444444444,
              "#bd3786"
             ],
             [
              0.5555555555555556,
              "#d8576b"
             ],
             [
              0.6666666666666666,
              "#ed7953"
             ],
             [
              0.7777777777777778,
              "#fb9f3a"
             ],
             [
              0.8888888888888888,
              "#fdca26"
             ],
             [
              1,
              "#f0f921"
             ]
            ],
            "type": "heatmapgl"
           }
          ],
          "histogram": [
           {
            "marker": {
             "pattern": {
              "fillmode": "overlay",
              "size": 10,
              "solidity": 0.2
             }
            },
            "type": "histogram"
           }
          ],
          "histogram2d": [
           {
            "colorbar": {
             "outlinewidth": 0,
             "ticks": ""
            },
            "colorscale": [
             [
              0,
              "#0d0887"
             ],
             [
              0.1111111111111111,
              "#46039f"
             ],
             [
              0.2222222222222222,
              "#7201a8"
             ],
             [
              0.3333333333333333,
              "#9c179e"
             ],
             [
              0.4444444444444444,
              "#bd3786"
             ],
             [
              0.5555555555555556,
              "#d8576b"
             ],
             [
              0.6666666666666666,
              "#ed7953"
             ],
             [
              0.7777777777777778,
              "#fb9f3a"
             ],
             [
              0.8888888888888888,
              "#fdca26"
             ],
             [
              1,
              "#f0f921"
             ]
            ],
            "type": "histogram2d"
           }
          ],
          "histogram2dcontour": [
           {
            "colorbar": {
             "outlinewidth": 0,
             "ticks": ""
            },
            "colorscale": [
             [
              0,
              "#0d0887"
             ],
             [
              0.1111111111111111,
              "#46039f"
             ],
             [
              0.2222222222222222,
              "#7201a8"
             ],
             [
              0.3333333333333333,
              "#9c179e"
             ],
             [
              0.4444444444444444,
              "#bd3786"
             ],
             [
              0.5555555555555556,
              "#d8576b"
             ],
             [
              0.6666666666666666,
              "#ed7953"
             ],
             [
              0.7777777777777778,
              "#fb9f3a"
             ],
             [
              0.8888888888888888,
              "#fdca26"
             ],
             [
              1,
              "#f0f921"
             ]
            ],
            "type": "histogram2dcontour"
           }
          ],
          "mesh3d": [
           {
            "colorbar": {
             "outlinewidth": 0,
             "ticks": ""
            },
            "type": "mesh3d"
           }
          ],
          "parcoords": [
           {
            "line": {
             "colorbar": {
              "outlinewidth": 0,
              "ticks": ""
             }
            },
            "type": "parcoords"
           }
          ],
          "pie": [
           {
            "automargin": true,
            "type": "pie"
           }
          ],
          "scatter": [
           {
            "marker": {
             "colorbar": {
              "outlinewidth": 0,
              "ticks": ""
             }
            },
            "type": "scatter"
           }
          ],
          "scatter3d": [
           {
            "line": {
             "colorbar": {
              "outlinewidth": 0,
              "ticks": ""
             }
            },
            "marker": {
             "colorbar": {
              "outlinewidth": 0,
              "ticks": ""
             }
            },
            "type": "scatter3d"
           }
          ],
          "scattercarpet": [
           {
            "marker": {
             "colorbar": {
              "outlinewidth": 0,
              "ticks": ""
             }
            },
            "type": "scattercarpet"
           }
          ],
          "scattergeo": [
           {
            "marker": {
             "colorbar": {
              "outlinewidth": 0,
              "ticks": ""
             }
            },
            "type": "scattergeo"
           }
          ],
          "scattergl": [
           {
            "marker": {
             "colorbar": {
              "outlinewidth": 0,
              "ticks": ""
             }
            },
            "type": "scattergl"
           }
          ],
          "scattermapbox": [
           {
            "marker": {
             "colorbar": {
              "outlinewidth": 0,
              "ticks": ""
             }
            },
            "type": "scattermapbox"
           }
          ],
          "scatterpolar": [
           {
            "marker": {
             "colorbar": {
              "outlinewidth": 0,
              "ticks": ""
             }
            },
            "type": "scatterpolar"
           }
          ],
          "scatterpolargl": [
           {
            "marker": {
             "colorbar": {
              "outlinewidth": 0,
              "ticks": ""
             }
            },
            "type": "scatterpolargl"
           }
          ],
          "scatterternary": [
           {
            "marker": {
             "colorbar": {
              "outlinewidth": 0,
              "ticks": ""
             }
            },
            "type": "scatterternary"
           }
          ],
          "surface": [
           {
            "colorbar": {
             "outlinewidth": 0,
             "ticks": ""
            },
            "colorscale": [
             [
              0,
              "#0d0887"
             ],
             [
              0.1111111111111111,
              "#46039f"
             ],
             [
              0.2222222222222222,
              "#7201a8"
             ],
             [
              0.3333333333333333,
              "#9c179e"
             ],
             [
              0.4444444444444444,
              "#bd3786"
             ],
             [
              0.5555555555555556,
              "#d8576b"
             ],
             [
              0.6666666666666666,
              "#ed7953"
             ],
             [
              0.7777777777777778,
              "#fb9f3a"
             ],
             [
              0.8888888888888888,
              "#fdca26"
             ],
             [
              1,
              "#f0f921"
             ]
            ],
            "type": "surface"
           }
          ],
          "table": [
           {
            "cells": {
             "fill": {
              "color": "#EBF0F8"
             },
             "line": {
              "color": "white"
             }
            },
            "header": {
             "fill": {
              "color": "#C8D4E3"
             },
             "line": {
              "color": "white"
             }
            },
            "type": "table"
           }
          ]
         },
         "layout": {
          "annotationdefaults": {
           "arrowcolor": "#2a3f5f",
           "arrowhead": 0,
           "arrowwidth": 1
          },
          "autotypenumbers": "strict",
          "coloraxis": {
           "colorbar": {
            "outlinewidth": 0,
            "ticks": ""
           }
          },
          "colorscale": {
           "diverging": [
            [
             0,
             "#8e0152"
            ],
            [
             0.1,
             "#c51b7d"
            ],
            [
             0.2,
             "#de77ae"
            ],
            [
             0.3,
             "#f1b6da"
            ],
            [
             0.4,
             "#fde0ef"
            ],
            [
             0.5,
             "#f7f7f7"
            ],
            [
             0.6,
             "#e6f5d0"
            ],
            [
             0.7,
             "#b8e186"
            ],
            [
             0.8,
             "#7fbc41"
            ],
            [
             0.9,
             "#4d9221"
            ],
            [
             1,
             "#276419"
            ]
           ],
           "sequential": [
            [
             0,
             "#0d0887"
            ],
            [
             0.1111111111111111,
             "#46039f"
            ],
            [
             0.2222222222222222,
             "#7201a8"
            ],
            [
             0.3333333333333333,
             "#9c179e"
            ],
            [
             0.4444444444444444,
             "#bd3786"
            ],
            [
             0.5555555555555556,
             "#d8576b"
            ],
            [
             0.6666666666666666,
             "#ed7953"
            ],
            [
             0.7777777777777778,
             "#fb9f3a"
            ],
            [
             0.8888888888888888,
             "#fdca26"
            ],
            [
             1,
             "#f0f921"
            ]
           ],
           "sequentialminus": [
            [
             0,
             "#0d0887"
            ],
            [
             0.1111111111111111,
             "#46039f"
            ],
            [
             0.2222222222222222,
             "#7201a8"
            ],
            [
             0.3333333333333333,
             "#9c179e"
            ],
            [
             0.4444444444444444,
             "#bd3786"
            ],
            [
             0.5555555555555556,
             "#d8576b"
            ],
            [
             0.6666666666666666,
             "#ed7953"
            ],
            [
             0.7777777777777778,
             "#fb9f3a"
            ],
            [
             0.8888888888888888,
             "#fdca26"
            ],
            [
             1,
             "#f0f921"
            ]
           ]
          },
          "colorway": [
           "#636efa",
           "#EF553B",
           "#00cc96",
           "#ab63fa",
           "#FFA15A",
           "#19d3f3",
           "#FF6692",
           "#B6E880",
           "#FF97FF",
           "#FECB52"
          ],
          "font": {
           "color": "#2a3f5f"
          },
          "geo": {
           "bgcolor": "white",
           "lakecolor": "white",
           "landcolor": "#E5ECF6",
           "showlakes": true,
           "showland": true,
           "subunitcolor": "white"
          },
          "hoverlabel": {
           "align": "left"
          },
          "hovermode": "closest",
          "mapbox": {
           "style": "light"
          },
          "paper_bgcolor": "white",
          "plot_bgcolor": "#E5ECF6",
          "polar": {
           "angularaxis": {
            "gridcolor": "white",
            "linecolor": "white",
            "ticks": ""
           },
           "bgcolor": "#E5ECF6",
           "radialaxis": {
            "gridcolor": "white",
            "linecolor": "white",
            "ticks": ""
           }
          },
          "scene": {
           "xaxis": {
            "backgroundcolor": "#E5ECF6",
            "gridcolor": "white",
            "gridwidth": 2,
            "linecolor": "white",
            "showbackground": true,
            "ticks": "",
            "zerolinecolor": "white"
           },
           "yaxis": {
            "backgroundcolor": "#E5ECF6",
            "gridcolor": "white",
            "gridwidth": 2,
            "linecolor": "white",
            "showbackground": true,
            "ticks": "",
            "zerolinecolor": "white"
           },
           "zaxis": {
            "backgroundcolor": "#E5ECF6",
            "gridcolor": "white",
            "gridwidth": 2,
            "linecolor": "white",
            "showbackground": true,
            "ticks": "",
            "zerolinecolor": "white"
           }
          },
          "shapedefaults": {
           "line": {
            "color": "#2a3f5f"
           }
          },
          "ternary": {
           "aaxis": {
            "gridcolor": "white",
            "linecolor": "white",
            "ticks": ""
           },
           "baxis": {
            "gridcolor": "white",
            "linecolor": "white",
            "ticks": ""
           },
           "bgcolor": "#E5ECF6",
           "caxis": {
            "gridcolor": "white",
            "linecolor": "white",
            "ticks": ""
           }
          },
          "title": {
           "x": 0.05
          },
          "xaxis": {
           "automargin": true,
           "gridcolor": "white",
           "linecolor": "white",
           "ticks": "",
           "title": {
            "standoff": 15
           },
           "zerolinecolor": "white",
           "zerolinewidth": 2
          },
          "yaxis": {
           "automargin": true,
           "gridcolor": "white",
           "linecolor": "white",
           "ticks": "",
           "title": {
            "standoff": 15
           },
           "zerolinecolor": "white",
           "zerolinewidth": 2
          }
         }
        },
        "updatemenus": [
         {
          "buttons": [
           {
            "args": [
             null,
             {
              "frame": {
               "duration": 500,
               "redraw": false
              },
              "fromcurrent": true,
              "mode": "immediate",
              "transition": {
               "duration": 500,
               "easing": "linear"
              }
             }
            ],
            "label": "&#9654;",
            "method": "animate"
           },
           {
            "args": [
             [
              null
             ],
             {
              "frame": {
               "duration": 0,
               "redraw": false
              },
              "fromcurrent": true,
              "mode": "immediate",
              "transition": {
               "duration": 0,
               "easing": "linear"
              }
             }
            ],
            "label": "&#9724;",
            "method": "animate"
           }
          ],
          "direction": "left",
          "pad": {
           "r": 10,
           "t": 70
          },
          "showactive": false,
          "type": "buttons",
          "x": 0.1,
          "xanchor": "right",
          "y": 0,
          "yanchor": "top"
         }
        ],
        "xaxis": {
         "anchor": "y",
         "domain": [
          0,
          1
         ],
         "title": {
          "text": "Год"
         }
        },
        "yaxis": {
         "anchor": "x",
         "domain": [
          0,
          1
         ],
         "title": {
          "text": "rubm2"
         }
        }
       }
      },
      "text/html": [
       "<div>                            <div id=\"e5be0740-2e20-4738-a348-1cba4294f525\" class=\"plotly-graph-div\" style=\"height:900px; width:100%;\"></div>            <script type=\"text/javascript\">                require([\"plotly\"], function(Plotly) {                    window.PLOTLYENV=window.PLOTLYENV || {};                                    if (document.getElementById(\"e5be0740-2e20-4738-a348-1cba4294f525\")) {                    Plotly.newPlot(                        \"e5be0740-2e20-4738-a348-1cba4294f525\",                        [{\"hovertemplate\":\"n_rooms=2-\\u043a. \\u043a\\u0432\\u0430\\u0440\\u0442\\u0438\\u0440\\u0430<br>metro_branch=#ADACAC<br>\\u0413\\u043e\\u0434=%{x}<br>rubm2=%{y}<extra></extra>\",\"legendgroup\":\"2-\\u043a. \\u043a\\u0432\\u0430\\u0440\\u0442\\u0438\\u0440\\u0430\",\"line\":{\"color\":\"#636efa\",\"dash\":\"solid\"},\"marker\":{\"symbol\":\"circle\"},\"mode\":\"lines\",\"name\":\"2-\\u043a. \\u043a\\u0432\\u0430\\u0440\\u0442\\u0438\\u0440\\u0430\",\"orientation\":\"v\",\"showlegend\":true,\"x\":[1830.0,1880.0,1900.0,1925.0,1935.0,1950.0,1955.0,1960.0,1965.0,1970.0,1975.0,1980.0,1985.0,1990.0,1995.0,2000.0,2005.0,2010.0,2015.0,2020.0],\"xaxis\":\"x\",\"y\":[250000.0,406250.0,266487.4551971326,263636.36363636365,202525.25252525252,303852.64866599016,403839.4078838427,317687.48595715524,329789.4372973448,293520.57375973946,262131.65088494538,272939.3910953386,261497.39764973096,265613.7670475598,371649.25035792816,357407.4074074074,289151.29258154426,284801.4122818569,340198.47127793834,322129.13503021665],\"yaxis\":\"y\",\"type\":\"scatter\"},{\"hovertemplate\":\"n_rooms=3-\\u043a. \\u043a\\u0432\\u0430\\u0440\\u0442\\u0438\\u0440\\u0430<br>metro_branch=#ADACAC<br>\\u0413\\u043e\\u0434=%{x}<br>rubm2=%{y}<extra></extra>\",\"legendgroup\":\"3-\\u043a. \\u043a\\u0432\\u0430\\u0440\\u0442\\u0438\\u0440\\u0430\",\"line\":{\"color\":\"#EF553B\",\"dash\":\"solid\"},\"marker\":{\"symbol\":\"circle\"},\"mode\":\"lines\",\"name\":\"3-\\u043a. \\u043a\\u0432\\u0430\\u0440\\u0442\\u0438\\u0440\\u0430\",\"orientation\":\"v\",\"showlegend\":true,\"x\":[1890.0,1900.0,1910.0,1915.0,1940.0,1950.0,1955.0,1960.0,1965.0,1970.0,1975.0,1980.0,1985.0,1990.0,1995.0,2000.0,2005.0,2010.0,2015.0,2020.0],\"xaxis\":\"x\",\"y\":[241666.66666666666,286553.2198865532,368256.0137457045,343750.0,309678.25261158595,353690.46904761903,268853.22398190043,290769.8625659585,296539.43280809815,244524.8317496441,246644.19431964296,270131.46107219957,242281.56238430212,290543.86325283564,281233.2541374086,274758.7957189831,377559.57880038914,302726.05849435116,368003.37421265984,323169.18307375367],\"yaxis\":\"y\",\"type\":\"scatter\"}],                        {\"template\":{\"data\":{\"bar\":[{\"error_x\":{\"color\":\"#2a3f5f\"},\"error_y\":{\"color\":\"#2a3f5f\"},\"marker\":{\"line\":{\"color\":\"#E5ECF6\",\"width\":0.5},\"pattern\":{\"fillmode\":\"overlay\",\"size\":10,\"solidity\":0.2}},\"type\":\"bar\"}],\"barpolar\":[{\"marker\":{\"line\":{\"color\":\"#E5ECF6\",\"width\":0.5},\"pattern\":{\"fillmode\":\"overlay\",\"size\":10,\"solidity\":0.2}},\"type\":\"barpolar\"}],\"carpet\":[{\"aaxis\":{\"endlinecolor\":\"#2a3f5f\",\"gridcolor\":\"white\",\"linecolor\":\"white\",\"minorgridcolor\":\"white\",\"startlinecolor\":\"#2a3f5f\"},\"baxis\":{\"endlinecolor\":\"#2a3f5f\",\"gridcolor\":\"white\",\"linecolor\":\"white\",\"minorgridcolor\":\"white\",\"startlinecolor\":\"#2a3f5f\"},\"type\":\"carpet\"}],\"choropleth\":[{\"colorbar\":{\"outlinewidth\":0,\"ticks\":\"\"},\"type\":\"choropleth\"}],\"contour\":[{\"colorbar\":{\"outlinewidth\":0,\"ticks\":\"\"},\"colorscale\":[[0.0,\"#0d0887\"],[0.1111111111111111,\"#46039f\"],[0.2222222222222222,\"#7201a8\"],[0.3333333333333333,\"#9c179e\"],[0.4444444444444444,\"#bd3786\"],[0.5555555555555556,\"#d8576b\"],[0.6666666666666666,\"#ed7953\"],[0.7777777777777778,\"#fb9f3a\"],[0.8888888888888888,\"#fdca26\"],[1.0,\"#f0f921\"]],\"type\":\"contour\"}],\"contourcarpet\":[{\"colorbar\":{\"outlinewidth\":0,\"ticks\":\"\"},\"type\":\"contourcarpet\"}],\"heatmap\":[{\"colorbar\":{\"outlinewidth\":0,\"ticks\":\"\"},\"colorscale\":[[0.0,\"#0d0887\"],[0.1111111111111111,\"#46039f\"],[0.2222222222222222,\"#7201a8\"],[0.3333333333333333,\"#9c179e\"],[0.4444444444444444,\"#bd3786\"],[0.5555555555555556,\"#d8576b\"],[0.6666666666666666,\"#ed7953\"],[0.7777777777777778,\"#fb9f3a\"],[0.8888888888888888,\"#fdca26\"],[1.0,\"#f0f921\"]],\"type\":\"heatmap\"}],\"heatmapgl\":[{\"colorbar\":{\"outlinewidth\":0,\"ticks\":\"\"},\"colorscale\":[[0.0,\"#0d0887\"],[0.1111111111111111,\"#46039f\"],[0.2222222222222222,\"#7201a8\"],[0.3333333333333333,\"#9c179e\"],[0.4444444444444444,\"#bd3786\"],[0.5555555555555556,\"#d8576b\"],[0.6666666666666666,\"#ed7953\"],[0.7777777777777778,\"#fb9f3a\"],[0.8888888888888888,\"#fdca26\"],[1.0,\"#f0f921\"]],\"type\":\"heatmapgl\"}],\"histogram\":[{\"marker\":{\"pattern\":{\"fillmode\":\"overlay\",\"size\":10,\"solidity\":0.2}},\"type\":\"histogram\"}],\"histogram2d\":[{\"colorbar\":{\"outlinewidth\":0,\"ticks\":\"\"},\"colorscale\":[[0.0,\"#0d0887\"],[0.1111111111111111,\"#46039f\"],[0.2222222222222222,\"#7201a8\"],[0.3333333333333333,\"#9c179e\"],[0.4444444444444444,\"#bd3786\"],[0.5555555555555556,\"#d8576b\"],[0.6666666666666666,\"#ed7953\"],[0.7777777777777778,\"#fb9f3a\"],[0.8888888888888888,\"#fdca26\"],[1.0,\"#f0f921\"]],\"type\":\"histogram2d\"}],\"histogram2dcontour\":[{\"colorbar\":{\"outlinewidth\":0,\"ticks\":\"\"},\"colorscale\":[[0.0,\"#0d0887\"],[0.1111111111111111,\"#46039f\"],[0.2222222222222222,\"#7201a8\"],[0.3333333333333333,\"#9c179e\"],[0.4444444444444444,\"#bd3786\"],[0.5555555555555556,\"#d8576b\"],[0.6666666666666666,\"#ed7953\"],[0.7777777777777778,\"#fb9f3a\"],[0.8888888888888888,\"#fdca26\"],[1.0,\"#f0f921\"]],\"type\":\"histogram2dcontour\"}],\"mesh3d\":[{\"colorbar\":{\"outlinewidth\":0,\"ticks\":\"\"},\"type\":\"mesh3d\"}],\"parcoords\":[{\"line\":{\"colorbar\":{\"outlinewidth\":0,\"ticks\":\"\"}},\"type\":\"parcoords\"}],\"pie\":[{\"automargin\":true,\"type\":\"pie\"}],\"scatter\":[{\"marker\":{\"colorbar\":{\"outlinewidth\":0,\"ticks\":\"\"}},\"type\":\"scatter\"}],\"scatter3d\":[{\"line\":{\"colorbar\":{\"outlinewidth\":0,\"ticks\":\"\"}},\"marker\":{\"colorbar\":{\"outlinewidth\":0,\"ticks\":\"\"}},\"type\":\"scatter3d\"}],\"scattercarpet\":[{\"marker\":{\"colorbar\":{\"outlinewidth\":0,\"ticks\":\"\"}},\"type\":\"scattercarpet\"}],\"scattergeo\":[{\"marker\":{\"colorbar\":{\"outlinewidth\":0,\"ticks\":\"\"}},\"type\":\"scattergeo\"}],\"scattergl\":[{\"marker\":{\"colorbar\":{\"outlinewidth\":0,\"ticks\":\"\"}},\"type\":\"scattergl\"}],\"scattermapbox\":[{\"marker\":{\"colorbar\":{\"outlinewidth\":0,\"ticks\":\"\"}},\"type\":\"scattermapbox\"}],\"scatterpolar\":[{\"marker\":{\"colorbar\":{\"outlinewidth\":0,\"ticks\":\"\"}},\"type\":\"scatterpolar\"}],\"scatterpolargl\":[{\"marker\":{\"colorbar\":{\"outlinewidth\":0,\"ticks\":\"\"}},\"type\":\"scatterpolargl\"}],\"scatterternary\":[{\"marker\":{\"colorbar\":{\"outlinewidth\":0,\"ticks\":\"\"}},\"type\":\"scatterternary\"}],\"surface\":[{\"colorbar\":{\"outlinewidth\":0,\"ticks\":\"\"},\"colorscale\":[[0.0,\"#0d0887\"],[0.1111111111111111,\"#46039f\"],[0.2222222222222222,\"#7201a8\"],[0.3333333333333333,\"#9c179e\"],[0.4444444444444444,\"#bd3786\"],[0.5555555555555556,\"#d8576b\"],[0.6666666666666666,\"#ed7953\"],[0.7777777777777778,\"#fb9f3a\"],[0.8888888888888888,\"#fdca26\"],[1.0,\"#f0f921\"]],\"type\":\"surface\"}],\"table\":[{\"cells\":{\"fill\":{\"color\":\"#EBF0F8\"},\"line\":{\"color\":\"white\"}},\"header\":{\"fill\":{\"color\":\"#C8D4E3\"},\"line\":{\"color\":\"white\"}},\"type\":\"table\"}]},\"layout\":{\"annotationdefaults\":{\"arrowcolor\":\"#2a3f5f\",\"arrowhead\":0,\"arrowwidth\":1},\"autotypenumbers\":\"strict\",\"coloraxis\":{\"colorbar\":{\"outlinewidth\":0,\"ticks\":\"\"}},\"colorscale\":{\"diverging\":[[0,\"#8e0152\"],[0.1,\"#c51b7d\"],[0.2,\"#de77ae\"],[0.3,\"#f1b6da\"],[0.4,\"#fde0ef\"],[0.5,\"#f7f7f7\"],[0.6,\"#e6f5d0\"],[0.7,\"#b8e186\"],[0.8,\"#7fbc41\"],[0.9,\"#4d9221\"],[1,\"#276419\"]],\"sequential\":[[0.0,\"#0d0887\"],[0.1111111111111111,\"#46039f\"],[0.2222222222222222,\"#7201a8\"],[0.3333333333333333,\"#9c179e\"],[0.4444444444444444,\"#bd3786\"],[0.5555555555555556,\"#d8576b\"],[0.6666666666666666,\"#ed7953\"],[0.7777777777777778,\"#fb9f3a\"],[0.8888888888888888,\"#fdca26\"],[1.0,\"#f0f921\"]],\"sequentialminus\":[[0.0,\"#0d0887\"],[0.1111111111111111,\"#46039f\"],[0.2222222222222222,\"#7201a8\"],[0.3333333333333333,\"#9c179e\"],[0.4444444444444444,\"#bd3786\"],[0.5555555555555556,\"#d8576b\"],[0.6666666666666666,\"#ed7953\"],[0.7777777777777778,\"#fb9f3a\"],[0.8888888888888888,\"#fdca26\"],[1.0,\"#f0f921\"]]},\"colorway\":[\"#636efa\",\"#EF553B\",\"#00cc96\",\"#ab63fa\",\"#FFA15A\",\"#19d3f3\",\"#FF6692\",\"#B6E880\",\"#FF97FF\",\"#FECB52\"],\"font\":{\"color\":\"#2a3f5f\"},\"geo\":{\"bgcolor\":\"white\",\"lakecolor\":\"white\",\"landcolor\":\"#E5ECF6\",\"showlakes\":true,\"showland\":true,\"subunitcolor\":\"white\"},\"hoverlabel\":{\"align\":\"left\"},\"hovermode\":\"closest\",\"mapbox\":{\"style\":\"light\"},\"paper_bgcolor\":\"white\",\"plot_bgcolor\":\"#E5ECF6\",\"polar\":{\"angularaxis\":{\"gridcolor\":\"white\",\"linecolor\":\"white\",\"ticks\":\"\"},\"bgcolor\":\"#E5ECF6\",\"radialaxis\":{\"gridcolor\":\"white\",\"linecolor\":\"white\",\"ticks\":\"\"}},\"scene\":{\"xaxis\":{\"backgroundcolor\":\"#E5ECF6\",\"gridcolor\":\"white\",\"gridwidth\":2,\"linecolor\":\"white\",\"showbackground\":true,\"ticks\":\"\",\"zerolinecolor\":\"white\"},\"yaxis\":{\"backgroundcolor\":\"#E5ECF6\",\"gridcolor\":\"white\",\"gridwidth\":2,\"linecolor\":\"white\",\"showbackground\":true,\"ticks\":\"\",\"zerolinecolor\":\"white\"},\"zaxis\":{\"backgroundcolor\":\"#E5ECF6\",\"gridcolor\":\"white\",\"gridwidth\":2,\"linecolor\":\"white\",\"showbackground\":true,\"ticks\":\"\",\"zerolinecolor\":\"white\"}},\"shapedefaults\":{\"line\":{\"color\":\"#2a3f5f\"}},\"ternary\":{\"aaxis\":{\"gridcolor\":\"white\",\"linecolor\":\"white\",\"ticks\":\"\"},\"baxis\":{\"gridcolor\":\"white\",\"linecolor\":\"white\",\"ticks\":\"\"},\"bgcolor\":\"#E5ECF6\",\"caxis\":{\"gridcolor\":\"white\",\"linecolor\":\"white\",\"ticks\":\"\"}},\"title\":{\"x\":0.05},\"xaxis\":{\"automargin\":true,\"gridcolor\":\"white\",\"linecolor\":\"white\",\"ticks\":\"\",\"title\":{\"standoff\":15},\"zerolinecolor\":\"white\",\"zerolinewidth\":2},\"yaxis\":{\"automargin\":true,\"gridcolor\":\"white\",\"linecolor\":\"white\",\"ticks\":\"\",\"title\":{\"standoff\":15},\"zerolinecolor\":\"white\",\"zerolinewidth\":2}}},\"xaxis\":{\"anchor\":\"y\",\"domain\":[0.0,1.0],\"title\":{\"text\":\"\\u0413\\u043e\\u0434\"}},\"yaxis\":{\"anchor\":\"x\",\"domain\":[0.0,1.0],\"title\":{\"text\":\"rubm2\"}},\"legend\":{\"title\":{\"text\":\"n_rooms\"},\"tracegroupgap\":0},\"margin\":{\"t\":60},\"height\":900,\"updatemenus\":[{\"buttons\":[{\"args\":[null,{\"frame\":{\"duration\":500,\"redraw\":false},\"mode\":\"immediate\",\"fromcurrent\":true,\"transition\":{\"duration\":500,\"easing\":\"linear\"}}],\"label\":\"&#9654;\",\"method\":\"animate\"},{\"args\":[[null],{\"frame\":{\"duration\":0,\"redraw\":false},\"mode\":\"immediate\",\"fromcurrent\":true,\"transition\":{\"duration\":0,\"easing\":\"linear\"}}],\"label\":\"&#9724;\",\"method\":\"animate\"}],\"direction\":\"left\",\"pad\":{\"r\":10,\"t\":70},\"showactive\":false,\"type\":\"buttons\",\"x\":0.1,\"xanchor\":\"right\",\"y\":0,\"yanchor\":\"top\"}],\"sliders\":[{\"active\":0,\"currentvalue\":{\"prefix\":\"metro_branch=\"},\"len\":0.9,\"pad\":{\"b\":10,\"t\":60},\"steps\":[{\"args\":[[\"#ADACAC\"],{\"frame\":{\"duration\":0,\"redraw\":false},\"mode\":\"immediate\",\"fromcurrent\":true,\"transition\":{\"duration\":0,\"easing\":\"linear\"}}],\"label\":\"#ADACAC\",\"method\":\"animate\"},{\"args\":[[\"#E42313\"],{\"frame\":{\"duration\":0,\"redraw\":false},\"mode\":\"immediate\",\"fromcurrent\":true,\"transition\":{\"duration\":0,\"easing\":\"linear\"}}],\"label\":\"#E42313\",\"method\":\"animate\"},{\"args\":[[\" rgb(148, 62, 144);\"],{\"frame\":{\"duration\":0,\"redraw\":false},\"mode\":\"immediate\",\"fromcurrent\":true,\"transition\":{\"duration\":0,\"easing\":\"linear\"}}],\"label\":\" rgb(148, 62, 144);\",\"method\":\"animate\"},{\"args\":[[\" rgb(0, 114, 186);\"],{\"frame\":{\"duration\":0,\"redraw\":false},\"mode\":\"immediate\",\"fromcurrent\":true,\"transition\":{\"duration\":0,\"easing\":\"linear\"}}],\"label\":\" rgb(0, 114, 186);\",\"method\":\"animate\"},{\"args\":[[\" rgb(173, 172, 172);\"],{\"frame\":{\"duration\":0,\"redraw\":false},\"mode\":\"immediate\",\"fromcurrent\":true,\"transition\":{\"duration\":0,\"easing\":\"linear\"}}],\"label\":\" rgb(173, 172, 172);\",\"method\":\"animate\"},{\"args\":[[\" rgb(79, 176, 79);\"],{\"frame\":{\"duration\":0,\"redraw\":false},\"mode\":\"immediate\",\"fromcurrent\":true,\"transition\":{\"duration\":0,\"easing\":\"linear\"}}],\"label\":\" rgb(79, 176, 79);\",\"method\":\"animate\"},{\"args\":[[\"#1EBCEF\"],{\"frame\":{\"duration\":0,\"redraw\":false},\"mode\":\"immediate\",\"fromcurrent\":true,\"transition\":{\"duration\":0,\"easing\":\"linear\"}}],\"label\":\"#1EBCEF\",\"method\":\"animate\"},{\"args\":[[\"#4FB04F\"],{\"frame\":{\"duration\":0,\"redraw\":false},\"mode\":\"immediate\",\"fromcurrent\":true,\"transition\":{\"duration\":0,\"easing\":\"linear\"}}],\"label\":\"#4FB04F\",\"method\":\"animate\"},{\"args\":[[\"#BAC8E8\"],{\"frame\":{\"duration\":0,\"redraw\":false},\"mode\":\"immediate\",\"fromcurrent\":true,\"transition\":{\"duration\":0,\"easing\":\"linear\"}}],\"label\":\"#BAC8E8\",\"method\":\"animate\"},{\"args\":[[\" rgb(145, 81, 51);\"],{\"frame\":{\"duration\":0,\"redraw\":false},\"mode\":\"immediate\",\"fromcurrent\":true,\"transition\":{\"duration\":0,\"easing\":\"linear\"}}],\"label\":\" rgb(145, 81, 51);\",\"method\":\"animate\"},{\"args\":[[\"#BED12C\"],{\"frame\":{\"duration\":0,\"redraw\":false},\"mode\":\"immediate\",\"fromcurrent\":true,\"transition\":{\"duration\":0,\"easing\":\"linear\"}}],\"label\":\"#BED12C\",\"method\":\"animate\"},{\"args\":[[\"#943E90\"],{\"frame\":{\"duration\":0,\"redraw\":false},\"mode\":\"immediate\",\"fromcurrent\":true,\"transition\":{\"duration\":0,\"easing\":\"linear\"}}],\"label\":\"#943E90\",\"method\":\"animate\"},{\"args\":[[\"#0072BA\"],{\"frame\":{\"duration\":0,\"redraw\":false},\"mode\":\"immediate\",\"fromcurrent\":true,\"transition\":{\"duration\":0,\"easing\":\"linear\"}}],\"label\":\"#0072BA\",\"method\":\"animate\"},{\"args\":[[\"#FFCD1C\"],{\"frame\":{\"duration\":0,\"redraw\":false},\"mode\":\"immediate\",\"fromcurrent\":true,\"transition\":{\"duration\":0,\"easing\":\"linear\"}}],\"label\":\"#FFCD1C\",\"method\":\"animate\"},{\"args\":[[\"#915133\"],{\"frame\":{\"duration\":0,\"redraw\":false},\"mode\":\"immediate\",\"fromcurrent\":true,\"transition\":{\"duration\":0,\"easing\":\"linear\"}}],\"label\":\"#915133\",\"method\":\"animate\"},{\"args\":[[\" rgb(186, 200, 232);\"],{\"frame\":{\"duration\":0,\"redraw\":false},\"mode\":\"immediate\",\"fromcurrent\":true,\"transition\":{\"duration\":0,\"easing\":\"linear\"}}],\"label\":\" rgb(186, 200, 232);\",\"method\":\"animate\"},{\"args\":[[\" rgb(240, 126, 36);\"],{\"frame\":{\"duration\":0,\"redraw\":false},\"mode\":\"immediate\",\"fromcurrent\":true,\"transition\":{\"duration\":0,\"easing\":\"linear\"}}],\"label\":\" rgb(240, 126, 36);\",\"method\":\"animate\"},{\"args\":[[\"#F07E24\"],{\"frame\":{\"duration\":0,\"redraw\":false},\"mode\":\"immediate\",\"fromcurrent\":true,\"transition\":{\"duration\":0,\"easing\":\"linear\"}}],\"label\":\"#F07E24\",\"method\":\"animate\"},{\"args\":[[\"#F4D7CF\"],{\"frame\":{\"duration\":0,\"redraw\":false},\"mode\":\"immediate\",\"fromcurrent\":true,\"transition\":{\"duration\":0,\"easing\":\"linear\"}}],\"label\":\"#F4D7CF\",\"method\":\"animate\"},{\"args\":[[\" rgb(30, 188, 239);\"],{\"frame\":{\"duration\":0,\"redraw\":false},\"mode\":\"immediate\",\"fromcurrent\":true,\"transition\":{\"duration\":0,\"easing\":\"linear\"}}],\"label\":\" rgb(30, 188, 239);\",\"method\":\"animate\"},{\"args\":[[\" rgb(208, 108, 159);\"],{\"frame\":{\"duration\":0,\"redraw\":false},\"mode\":\"immediate\",\"fromcurrent\":true,\"transition\":{\"duration\":0,\"easing\":\"linear\"}}],\"label\":\" rgb(208, 108, 159);\",\"method\":\"animate\"},{\"args\":[[\"#D06C9F\"],{\"frame\":{\"duration\":0,\"redraw\":false},\"mode\":\"immediate\",\"fromcurrent\":true,\"transition\":{\"duration\":0,\"easing\":\"linear\"}}],\"label\":\"#D06C9F\",\"method\":\"animate\"},{\"args\":[[\"#88CDCF\"],{\"frame\":{\"duration\":0,\"redraw\":false},\"mode\":\"immediate\",\"fromcurrent\":true,\"transition\":{\"duration\":0,\"easing\":\"linear\"}}],\"label\":\"#88CDCF\",\"method\":\"animate\"},{\"args\":[[\" rgb(190, 209, 44);\"],{\"frame\":{\"duration\":0,\"redraw\":false},\"mode\":\"immediate\",\"fromcurrent\":true,\"transition\":{\"duration\":0,\"easing\":\"linear\"}}],\"label\":\" rgb(190, 209, 44);\",\"method\":\"animate\"},{\"args\":[[\" rgb(228, 35, 19);\"],{\"frame\":{\"duration\":0,\"redraw\":false},\"mode\":\"immediate\",\"fromcurrent\":true,\"transition\":{\"duration\":0,\"easing\":\"linear\"}}],\"label\":\" rgb(228, 35, 19);\",\"method\":\"animate\"},{\"args\":[[\" rgb(244, 215, 207);\"],{\"frame\":{\"duration\":0,\"redraw\":false},\"mode\":\"immediate\",\"fromcurrent\":true,\"transition\":{\"duration\":0,\"easing\":\"linear\"}}],\"label\":\" rgb(244, 215, 207);\",\"method\":\"animate\"},{\"args\":[[\" rgb(255, 205, 28);\"],{\"frame\":{\"duration\":0,\"redraw\":false},\"mode\":\"immediate\",\"fromcurrent\":true,\"transition\":{\"duration\":0,\"easing\":\"linear\"}}],\"label\":\" rgb(255, 205, 28);\",\"method\":\"animate\"},{\"args\":[[\" rgb(136, 205, 207);\"],{\"frame\":{\"duration\":0,\"redraw\":false},\"mode\":\"immediate\",\"fromcurrent\":true,\"transition\":{\"duration\":0,\"easing\":\"linear\"}}],\"label\":\" rgb(136, 205, 207);\",\"method\":\"animate\"}],\"x\":0.1,\"xanchor\":\"left\",\"y\":0,\"yanchor\":\"top\"}]},                        {\"responsive\": true}                    ).then(function(){\n",
       "                            Plotly.addFrames('e5be0740-2e20-4738-a348-1cba4294f525', [{\"data\":[{\"hovertemplate\":\"n_rooms=2-\\u043a. \\u043a\\u0432\\u0430\\u0440\\u0442\\u0438\\u0440\\u0430<br>metro_branch=#ADACAC<br>\\u0413\\u043e\\u0434=%{x}<br>rubm2=%{y}<extra></extra>\",\"legendgroup\":\"2-\\u043a. \\u043a\\u0432\\u0430\\u0440\\u0442\\u0438\\u0440\\u0430\",\"line\":{\"color\":\"#636efa\",\"dash\":\"solid\"},\"marker\":{\"symbol\":\"circle\"},\"mode\":\"lines\",\"name\":\"2-\\u043a. \\u043a\\u0432\\u0430\\u0440\\u0442\\u0438\\u0440\\u0430\",\"orientation\":\"v\",\"showlegend\":true,\"x\":[1830.0,1880.0,1900.0,1925.0,1935.0,1950.0,1955.0,1960.0,1965.0,1970.0,1975.0,1980.0,1985.0,1990.0,1995.0,2000.0,2005.0,2010.0,2015.0,2020.0],\"xaxis\":\"x\",\"y\":[250000.0,406250.0,266487.4551971326,263636.36363636365,202525.25252525252,303852.64866599016,403839.4078838427,317687.48595715524,329789.4372973448,293520.57375973946,262131.65088494538,272939.3910953386,261497.39764973096,265613.7670475598,371649.25035792816,357407.4074074074,289151.29258154426,284801.4122818569,340198.47127793834,322129.13503021665],\"yaxis\":\"y\",\"type\":\"scatter\"},{\"hovertemplate\":\"n_rooms=3-\\u043a. \\u043a\\u0432\\u0430\\u0440\\u0442\\u0438\\u0440\\u0430<br>metro_branch=#ADACAC<br>\\u0413\\u043e\\u0434=%{x}<br>rubm2=%{y}<extra></extra>\",\"legendgroup\":\"3-\\u043a. \\u043a\\u0432\\u0430\\u0440\\u0442\\u0438\\u0440\\u0430\",\"line\":{\"color\":\"#EF553B\",\"dash\":\"solid\"},\"marker\":{\"symbol\":\"circle\"},\"mode\":\"lines\",\"name\":\"3-\\u043a. \\u043a\\u0432\\u0430\\u0440\\u0442\\u0438\\u0440\\u0430\",\"orientation\":\"v\",\"showlegend\":true,\"x\":[1890.0,1900.0,1910.0,1915.0,1940.0,1950.0,1955.0,1960.0,1965.0,1970.0,1975.0,1980.0,1985.0,1990.0,1995.0,2000.0,2005.0,2010.0,2015.0,2020.0],\"xaxis\":\"x\",\"y\":[241666.66666666666,286553.2198865532,368256.0137457045,343750.0,309678.25261158595,353690.46904761903,268853.22398190043,290769.8625659585,296539.43280809815,244524.8317496441,246644.19431964296,270131.46107219957,242281.56238430212,290543.86325283564,281233.2541374086,274758.7957189831,377559.57880038914,302726.05849435116,368003.37421265984,323169.18307375367],\"yaxis\":\"y\",\"type\":\"scatter\"}],\"name\":\"#ADACAC\"},{\"data\":[{\"hovertemplate\":\"n_rooms=2-\\u043a. \\u043a\\u0432\\u0430\\u0440\\u0442\\u0438\\u0440\\u0430<br>metro_branch=#E42313<br>\\u0413\\u043e\\u0434=%{x}<br>rubm2=%{y}<extra></extra>\",\"legendgroup\":\"2-\\u043a. \\u043a\\u0432\\u0430\\u0440\\u0442\\u0438\\u0440\\u0430\",\"line\":{\"color\":\"#636efa\",\"dash\":\"solid\"},\"marker\":{\"symbol\":\"circle\"},\"mode\":\"lines\",\"name\":\"2-\\u043a. \\u043a\\u0432\\u0430\\u0440\\u0442\\u0438\\u0440\\u0430\",\"orientation\":\"v\",\"showlegend\":true,\"x\":[1880.0,1915.0,1930.0,1940.0,1950.0,1955.0,1960.0,1965.0,1970.0,1975.0,1980.0,1985.0,1990.0,1995.0,2005.0,2010.0,2015.0,2020.0],\"xaxis\":\"x\",\"y\":[265454.54545454547,2631578.947368421,509615.3846153846,405774.8538011696,260771.3633398565,476829.62808335945,347338.37154023274,352996.36143629474,291873.70199951145,363585.8090297128,362319.40144478844,368386.84719535784,173975.33542039356,587750.8704061896,301526.00503953244,436328.6784051811,289797.8036456298,276492.79665619193],\"yaxis\":\"y\",\"type\":\"scatter\"},{\"hovertemplate\":\"n_rooms=3-\\u043a. \\u043a\\u0432\\u0430\\u0440\\u0442\\u0438\\u0440\\u0430<br>metro_branch=#E42313<br>\\u0413\\u043e\\u0434=%{x}<br>rubm2=%{y}<extra></extra>\",\"legendgroup\":\"3-\\u043a. \\u043a\\u0432\\u0430\\u0440\\u0442\\u0438\\u0440\\u0430\",\"line\":{\"color\":\"#EF553B\",\"dash\":\"solid\"},\"marker\":{\"symbol\":\"circle\"},\"mode\":\"lines\",\"name\":\"3-\\u043a. \\u043a\\u0432\\u0430\\u0440\\u0442\\u0438\\u0440\\u0430\",\"orientation\":\"v\",\"showlegend\":true,\"x\":[1930.0,1935.0,1940.0,1950.0,1955.0,1960.0,1965.0,1970.0,1975.0,1980.0,1985.0,1995.0,2000.0,2005.0,2010.0,2015.0,2020.0],\"xaxis\":\"x\",\"y\":[506596.3955026455,313432.8358208955,755813.9534883721,359935.89743589744,634717.3828881145,290932.4617119115,337126.991943614,357141.17737851717,330687.7318746629,285261.5216855659,421232.87671232875,503289.4736842105,515384.6153846153,335620.0502364066,354902.2743658648,266875.3441605243,347365.19946563477],\"yaxis\":\"y\",\"type\":\"scatter\"}],\"name\":\"#E42313\"},{\"data\":[{\"hovertemplate\":\"n_rooms=2-\\u043a. \\u043a\\u0432\\u0430\\u0440\\u0442\\u0438\\u0440\\u0430<br>metro_branch= rgb(148, 62, 144);<br>\\u0413\\u043e\\u0434=%{x}<br>rubm2=%{y}<extra></extra>\",\"legendgroup\":\"2-\\u043a. \\u043a\\u0432\\u0430\\u0440\\u0442\\u0438\\u0440\\u0430\",\"line\":{\"color\":\"#636efa\",\"dash\":\"solid\"},\"marker\":{\"symbol\":\"circle\"},\"mode\":\"lines\",\"name\":\"2-\\u043a. \\u043a\\u0432\\u0430\\u0440\\u0442\\u0438\\u0440\\u0430\",\"orientation\":\"v\",\"showlegend\":true,\"x\":[1885.0,1905.0,1955.0,1960.0,1965.0,1970.0,1975.0,1980.0,1985.0,1990.0,1995.0,2005.0,2010.0,2015.0,2020.0],\"xaxis\":\"x\",\"y\":[522500.0,286721.31147540984,362835.90623213263,335175.8595912982,353358.3802233688,298677.24867724866,258304.9886621315,246134.87819370173,316216.2162162162,348837.20930232556,344729.13211719185,537837.8378378379,254868.45196147522,349719.23314780457,370967.7419354839],\"yaxis\":\"y\",\"type\":\"scatter\"},{\"hovertemplate\":\"n_rooms=3-\\u043a. \\u043a\\u0432\\u0430\\u0440\\u0442\\u0438\\u0440\\u0430<br>metro_branch= rgb(148, 62, 144);<br>\\u0413\\u043e\\u0434=%{x}<br>rubm2=%{y}<extra></extra>\",\"legendgroup\":\"3-\\u043a. \\u043a\\u0432\\u0430\\u0440\\u0442\\u0438\\u0440\\u0430\",\"line\":{\"color\":\"#EF553B\",\"dash\":\"solid\"},\"marker\":{\"symbol\":\"circle\"},\"mode\":\"lines\",\"name\":\"3-\\u043a. \\u043a\\u0432\\u0430\\u0440\\u0442\\u0438\\u0440\\u0430\",\"orientation\":\"v\",\"showlegend\":true,\"x\":[1930.0,1955.0,1965.0,1970.0,1975.0,1980.0,1995.0,2000.0,2005.0,2010.0,2015.0,2020.0],\"xaxis\":\"x\",\"y\":[464864.86486486485,267441.8604651163,235959.66928816293,248702.76052993367,309230.76923076925,270631.72043010755,268269.23076923075,405555.55555555556,269110.50290797127,333333.3333333333,419540.2298850575,545454.5454545454],\"yaxis\":\"y\",\"type\":\"scatter\"}],\"name\":\" rgb(148, 62, 144);\"},{\"data\":[{\"hovertemplate\":\"n_rooms=2-\\u043a. \\u043a\\u0432\\u0430\\u0440\\u0442\\u0438\\u0440\\u0430<br>metro_branch= rgb(0, 114, 186);<br>\\u0413\\u043e\\u0434=%{x}<br>rubm2=%{y}<extra></extra>\",\"legendgroup\":\"2-\\u043a. \\u043a\\u0432\\u0430\\u0440\\u0442\\u0438\\u0440\\u0430\",\"line\":{\"color\":\"#636efa\",\"dash\":\"solid\"},\"marker\":{\"symbol\":\"circle\"},\"mode\":\"lines\",\"name\":\"2-\\u043a. \\u043a\\u0432\\u0430\\u0440\\u0442\\u0438\\u0440\\u0430\",\"orientation\":\"v\",\"showlegend\":true,\"x\":[1910.0,1940.0,1955.0,1960.0,1965.0,1970.0,1975.0,1980.0,1985.0,1995.0,2000.0,2005.0,2010.0,2015.0,2020.0],\"xaxis\":\"x\",\"y\":[350000.0,340677.9661016949,450704.22535211267,215353.1989981785,318465.8073957735,259648.69490800175,268518.51851851854,308539.41679378017,348475.51873413945,237203.51588911423,358369.3103448276,299007.4441687345,382692.3076923077,261461.55830753353,271111.1111111111],\"yaxis\":\"y\",\"type\":\"scatter\"},{\"hovertemplate\":\"n_rooms=3-\\u043a. \\u043a\\u0432\\u0430\\u0440\\u0442\\u0438\\u0440\\u0430<br>metro_branch= rgb(0, 114, 186);<br>\\u0413\\u043e\\u0434=%{x}<br>rubm2=%{y}<extra></extra>\",\"legendgroup\":\"3-\\u043a. \\u043a\\u0432\\u0430\\u0440\\u0442\\u0438\\u0440\\u0430\",\"line\":{\"color\":\"#EF553B\",\"dash\":\"solid\"},\"marker\":{\"symbol\":\"circle\"},\"mode\":\"lines\",\"name\":\"3-\\u043a. \\u043a\\u0432\\u0430\\u0440\\u0442\\u0438\\u0440\\u0430\",\"orientation\":\"v\",\"showlegend\":true,\"x\":[1890.0,1900.0,1955.0,1965.0,1970.0,1975.0,1980.0,1985.0,1990.0,1995.0,2005.0,2010.0,2015.0,2020.0],\"xaxis\":\"x\",\"y\":[691489.3617021276,272297.2972972973,266666.6666666667,389432.4634599234,254848.39891291503,257857.14285714287,237333.33333333334,293437.27685816295,256135.56338028167,229902.376910017,273076.92307692306,332692.3076923077,343984.9119552127,389949.40802169713],\"yaxis\":\"y\",\"type\":\"scatter\"}],\"name\":\" rgb(0, 114, 186);\"},{\"data\":[{\"hovertemplate\":\"n_rooms=2-\\u043a. \\u043a\\u0432\\u0430\\u0440\\u0442\\u0438\\u0440\\u0430<br>metro_branch= rgb(173, 172, 172);<br>\\u0413\\u043e\\u0434=%{x}<br>rubm2=%{y}<extra></extra>\",\"legendgroup\":\"2-\\u043a. \\u043a\\u0432\\u0430\\u0440\\u0442\\u0438\\u0440\\u0430\",\"line\":{\"color\":\"#636efa\",\"dash\":\"solid\"},\"marker\":{\"symbol\":\"circle\"},\"mode\":\"lines\",\"name\":\"2-\\u043a. \\u043a\\u0432\\u0430\\u0440\\u0442\\u0438\\u0440\\u0430\",\"orientation\":\"v\",\"showlegend\":true,\"x\":[1900.0,1925.0,1940.0,1960.0,1965.0,1970.0,1975.0,1980.0,1985.0,1990.0,2005.0,2010.0,2015.0,2020.0],\"xaxis\":\"x\",\"y\":[202380.95238095237,307336.5231259968,277777.77777777775,294253.40360122966,342588.22661536763,304200.7637752319,257372.71484802838,246459.61034849926,297058.8235294118,269230.76923076925,275520.2392911822,285695.22372777195,351482.15366001206,321428.5714285714],\"yaxis\":\"y\",\"type\":\"scatter\"},{\"hovertemplate\":\"n_rooms=3-\\u043a. \\u043a\\u0432\\u0430\\u0440\\u0442\\u0438\\u0440\\u0430<br>metro_branch= rgb(173, 172, 172);<br>\\u0413\\u043e\\u0434=%{x}<br>rubm2=%{y}<extra></extra>\",\"legendgroup\":\"3-\\u043a. \\u043a\\u0432\\u0430\\u0440\\u0442\\u0438\\u0440\\u0430\",\"line\":{\"color\":\"#EF553B\",\"dash\":\"solid\"},\"marker\":{\"symbol\":\"circle\"},\"mode\":\"lines\",\"name\":\"3-\\u043a. \\u043a\\u0432\\u0430\\u0440\\u0442\\u0438\\u0440\\u0430\",\"orientation\":\"v\",\"showlegend\":true,\"x\":[1960.0,1965.0,1970.0,1975.0,1980.0,1990.0,2000.0,2005.0,2015.0,2020.0],\"xaxis\":\"x\",\"y\":[314161.8544794588,261384.61538461538,255475.9852216749,254799.747719753,227047.3748652149,335616.4383561644,263999.47957325005,247023.80952380953,408928.5714285714,349748.6881361538],\"yaxis\":\"y\",\"type\":\"scatter\"}],\"name\":\" rgb(173, 172, 172);\"},{\"data\":[{\"hovertemplate\":\"n_rooms=2-\\u043a. \\u043a\\u0432\\u0430\\u0440\\u0442\\u0438\\u0440\\u0430<br>metro_branch= rgb(79, 176, 79);<br>\\u0413\\u043e\\u0434=%{x}<br>rubm2=%{y}<extra></extra>\",\"legendgroup\":\"2-\\u043a. \\u043a\\u0432\\u0430\\u0440\\u0442\\u0438\\u0440\\u0430\",\"line\":{\"color\":\"#636efa\",\"dash\":\"solid\"},\"marker\":{\"symbol\":\"circle\"},\"mode\":\"lines\",\"name\":\"2-\\u043a. \\u043a\\u0432\\u0430\\u0440\\u0442\\u0438\\u0440\\u0430\",\"orientation\":\"v\",\"showlegend\":true,\"x\":[1900.0,1915.0,1955.0,1960.0,1965.0,1970.0,1975.0,1980.0,1985.0,2005.0,2010.0,2015.0,2020.0],\"xaxis\":\"x\",\"y\":[672727.2727272727,310526.3157894737,342592.5925925926,334302.2732835551,297030.73089700995,267122.3813134692,310000.0,366377.0053475936,239622.64150943398,251086.95652173914,265194.0693809722,307051.282051282,375738.57159142726],\"yaxis\":\"y\",\"type\":\"scatter\"},{\"hovertemplate\":\"n_rooms=3-\\u043a. \\u043a\\u0432\\u0430\\u0440\\u0442\\u0438\\u0440\\u0430<br>metro_branch= rgb(79, 176, 79);<br>\\u0413\\u043e\\u0434=%{x}<br>rubm2=%{y}<extra></extra>\",\"legendgroup\":\"3-\\u043a. \\u043a\\u0432\\u0430\\u0440\\u0442\\u0438\\u0440\\u0430\",\"line\":{\"color\":\"#EF553B\",\"dash\":\"solid\"},\"marker\":{\"symbol\":\"circle\"},\"mode\":\"lines\",\"name\":\"3-\\u043a. \\u043a\\u0432\\u0430\\u0440\\u0442\\u0438\\u0440\\u0430\",\"orientation\":\"v\",\"showlegend\":true,\"x\":[1940.0,1960.0,1965.0,1970.0,1975.0,1980.0,1985.0,1990.0,1995.0,2000.0,2005.0,2010.0,2015.0,2020.0],\"xaxis\":\"x\",\"y\":[405797.1014492754,325280.2752802753,251044.9075274393,283333.3333333333,266666.6666666667,258086.9565217391,231250.0,257510.25290498976,333333.3333333333,343421.05263157893,304365.07936507935,351080.2469135802,313250.9217089568,452173.9130434783],\"yaxis\":\"y\",\"type\":\"scatter\"}],\"name\":\" rgb(79, 176, 79);\"},{\"data\":[{\"hovertemplate\":\"n_rooms=2-\\u043a. \\u043a\\u0432\\u0430\\u0440\\u0442\\u0438\\u0440\\u0430<br>metro_branch=#1EBCEF<br>\\u0413\\u043e\\u0434=%{x}<br>rubm2=%{y}<extra></extra>\",\"legendgroup\":\"2-\\u043a. \\u043a\\u0432\\u0430\\u0440\\u0442\\u0438\\u0440\\u0430\",\"line\":{\"color\":\"#636efa\",\"dash\":\"solid\"},\"marker\":{\"symbol\":\"circle\"},\"mode\":\"lines\",\"name\":\"2-\\u043a. \\u043a\\u0432\\u0430\\u0440\\u0442\\u0438\\u0440\\u0430\",\"orientation\":\"v\",\"showlegend\":true,\"x\":[1900.0,1925.0,1935.0,1940.0,1945.0,1950.0,1955.0,1960.0,1965.0,1970.0,1975.0,1980.0,1985.0,1990.0,1995.0,2000.0,2005.0,2010.0,2015.0,2020.0],\"xaxis\":\"x\",\"y\":[321276.59574468085,520000.0,493501.7785338695,395805.64170728106,476320.58287795994,384029.41949041234,356703.3726874839,343914.13759926974,360449.6007446247,375380.41249237413,363068.90648400335,379875.2955584186,309053.27097779926,285480.7596153846,429111.6611661166,423838.2224913726,344639.15450841736,281528.9616137877,536560.1419348189,493695.74480912386],\"yaxis\":\"y\",\"type\":\"scatter\"},{\"hovertemplate\":\"n_rooms=3-\\u043a. \\u043a\\u0432\\u0430\\u0440\\u0442\\u0438\\u0440\\u0430<br>metro_branch=#1EBCEF<br>\\u0413\\u043e\\u0434=%{x}<br>rubm2=%{y}<extra></extra>\",\"legendgroup\":\"3-\\u043a. \\u043a\\u0432\\u0430\\u0440\\u0442\\u0438\\u0440\\u0430\",\"line\":{\"color\":\"#EF553B\",\"dash\":\"solid\"},\"marker\":{\"symbol\":\"circle\"},\"mode\":\"lines\",\"name\":\"3-\\u043a. \\u043a\\u0432\\u0430\\u0440\\u0442\\u0438\\u0440\\u0430\",\"orientation\":\"v\",\"showlegend\":true,\"x\":[1940.0,1950.0,1955.0,1960.0,1965.0,1970.0,1975.0,1980.0,1985.0,1990.0,1995.0,2000.0,2005.0,2010.0,2015.0,2020.0],\"xaxis\":\"x\",\"y\":[441463.4146341463,342867.9435483871,336086.4978902954,416057.2242953515,399268.7259403945,364806.38997064374,383948.59047133516,362324.6046432126,378273.6788013357,332757.9365079365,467508.4175084175,328000.0664692163,389037.9312914524,377971.21641867334,405100.87279977294,526347.8953484582],\"yaxis\":\"y\",\"type\":\"scatter\"}],\"name\":\"#1EBCEF\"},{\"data\":[{\"hovertemplate\":\"n_rooms=2-\\u043a. \\u043a\\u0432\\u0430\\u0440\\u0442\\u0438\\u0440\\u0430<br>metro_branch=#4FB04F<br>\\u0413\\u043e\\u0434=%{x}<br>rubm2=%{y}<extra></extra>\",\"legendgroup\":\"2-\\u043a. \\u043a\\u0432\\u0430\\u0440\\u0442\\u0438\\u0440\\u0430\",\"line\":{\"color\":\"#636efa\",\"dash\":\"solid\"},\"marker\":{\"symbol\":\"circle\"},\"mode\":\"lines\",\"name\":\"2-\\u043a. \\u043a\\u0432\\u0430\\u0440\\u0442\\u0438\\u0440\\u0430\",\"orientation\":\"v\",\"showlegend\":true,\"x\":[1900.0,1915.0,1930.0,1940.0,1945.0,1950.0,1955.0,1960.0,1965.0,1970.0,1975.0,1980.0,1985.0,1990.0,1995.0,2000.0,2005.0,2010.0,2015.0,2020.0],\"xaxis\":\"x\",\"y\":[672727.2727272727,418298.9541690949,548239.6467358874,343103.4482758621,510183.67346938775,312877.49287749286,333032.0860579374,317815.2959799499,321984.0976733208,280621.4962227724,302358.0483622865,258115.34101269924,286013.8462432994,324076.27618257044,341666.6666666667,274613.34361393325,285553.4152131834,241958.7578369906,312020.18235529016,322484.46538194467],\"yaxis\":\"y\",\"type\":\"scatter\"},{\"hovertemplate\":\"n_rooms=3-\\u043a. \\u043a\\u0432\\u0430\\u0440\\u0442\\u0438\\u0440\\u0430<br>metro_branch=#4FB04F<br>\\u0413\\u043e\\u0434=%{x}<br>rubm2=%{y}<extra></extra>\",\"legendgroup\":\"3-\\u043a. \\u043a\\u0432\\u0430\\u0440\\u0442\\u0438\\u0440\\u0430\",\"line\":{\"color\":\"#EF553B\",\"dash\":\"solid\"},\"marker\":{\"symbol\":\"circle\"},\"mode\":\"lines\",\"name\":\"3-\\u043a. \\u043a\\u0432\\u0430\\u0440\\u0442\\u0438\\u0440\\u0430\",\"orientation\":\"v\",\"showlegend\":true,\"x\":[1915.0,1925.0,1940.0,1950.0,1960.0,1965.0,1970.0,1975.0,1980.0,1985.0,1990.0,1995.0,2000.0,2005.0,2010.0,2015.0,2020.0],\"xaxis\":\"x\",\"y\":[468066.6639214015,238095.2380952381,461722.0801364024,338005.71010632993,292023.80090028135,286405.2875960169,314199.29844829976,251715.59946168217,225002.6131794739,291626.5446087702,263576.2497641954,305777.77777777775,321635.5779811589,308029.4462742178,312500.0,305841.04124662373,366033.3642204082],\"yaxis\":\"y\",\"type\":\"scatter\"},{\"hovertemplate\":\"n_rooms=\\u0414\\u043e\\u043b\\u044f \\u0432 3-\\u043a. \\u043a\\u0432\\u0430\\u0440\\u0442\\u0438\\u0440\\u0435<br>metro_branch=#4FB04F<br>\\u0413\\u043e\\u0434=%{x}<br>rubm2=%{y}<extra></extra>\",\"legendgroup\":\"\\u0414\\u043e\\u043b\\u044f \\u0432 3-\\u043a. \\u043a\\u0432\\u0430\\u0440\\u0442\\u0438\\u0440\\u0435\",\"line\":{\"color\":\"#00cc96\",\"dash\":\"solid\"},\"marker\":{\"symbol\":\"circle\"},\"mode\":\"lines\",\"name\":\"\\u0414\\u043e\\u043b\\u044f \\u0432 3-\\u043a. \\u043a\\u0432\\u0430\\u0440\\u0442\\u0438\\u0440\\u0435\",\"orientation\":\"v\",\"showlegend\":true,\"x\":[1965.0],\"xaxis\":\"x\",\"y\":[89830.50847457627],\"yaxis\":\"y\",\"type\":\"scatter\"}],\"name\":\"#4FB04F\"},{\"data\":[{\"hovertemplate\":\"n_rooms=2-\\u043a. \\u043a\\u0432\\u0430\\u0440\\u0442\\u0438\\u0440\\u0430<br>metro_branch=#BAC8E8<br>\\u0413\\u043e\\u0434=%{x}<br>rubm2=%{y}<extra></extra>\",\"legendgroup\":\"2-\\u043a. \\u043a\\u0432\\u0430\\u0440\\u0442\\u0438\\u0440\\u0430\",\"line\":{\"color\":\"#636efa\",\"dash\":\"solid\"},\"marker\":{\"symbol\":\"circle\"},\"mode\":\"lines\",\"name\":\"2-\\u043a. \\u043a\\u0432\\u0430\\u0440\\u0442\\u0438\\u0440\\u0430\",\"orientation\":\"v\",\"showlegend\":true,\"x\":[1900.0,1915.0,1935.0,1945.0,1955.0,1960.0,1965.0,1970.0,1975.0,1980.0,1985.0,1990.0,1995.0,2000.0,2005.0,2010.0,2015.0,2020.0],\"xaxis\":\"x\",\"y\":[231481.47916666666,197012.61976111087,249152.54237288135,195312.5,232630.03253713742,217755.64145561174,202671.74966493776,208056.85865338222,248863.63636363635,274034.82615396223,218800.92992042948,214122.2400835008,209722.22222222222,241336.46689013432,241063.3739540573,239924.05582922825,245219.21182266012,220213.74016250868],\"yaxis\":\"y\",\"type\":\"scatter\"},{\"hovertemplate\":\"n_rooms=3-\\u043a. \\u043a\\u0432\\u0430\\u0440\\u0442\\u0438\\u0440\\u0430<br>metro_branch=#BAC8E8<br>\\u0413\\u043e\\u0434=%{x}<br>rubm2=%{y}<extra></extra>\",\"legendgroup\":\"3-\\u043a. \\u043a\\u0432\\u0430\\u0440\\u0442\\u0438\\u0440\\u0430\",\"line\":{\"color\":\"#EF553B\",\"dash\":\"solid\"},\"marker\":{\"symbol\":\"circle\"},\"mode\":\"lines\",\"name\":\"3-\\u043a. \\u043a\\u0432\\u0430\\u0440\\u0442\\u0438\\u0440\\u0430\",\"orientation\":\"v\",\"showlegend\":true,\"x\":[1955.0,1960.0,1965.0,1970.0,1975.0,1980.0,1985.0,1990.0,1995.0,2000.0,2005.0,2015.0,2020.0],\"xaxis\":\"x\",\"y\":[242857.14285714284,210276.5308168534,155696.20253164557,167080.06227685817,224561.40350877194,253731.3432835821,199807.59114959114,204518.1249050837,234264.01741929486,215692.48884815816,217138.0861051747,227468.480805266,167032.61290209083],\"yaxis\":\"y\",\"type\":\"scatter\"}],\"name\":\"#BAC8E8\"},{\"data\":[{\"hovertemplate\":\"n_rooms=2-\\u043a. \\u043a\\u0432\\u0430\\u0440\\u0442\\u0438\\u0440\\u0430<br>metro_branch= rgb(145, 81, 51);<br>\\u0413\\u043e\\u0434=%{x}<br>rubm2=%{y}<extra></extra>\",\"legendgroup\":\"2-\\u043a. \\u043a\\u0432\\u0430\\u0440\\u0442\\u0438\\u0440\\u0430\",\"line\":{\"color\":\"#636efa\",\"dash\":\"solid\"},\"marker\":{\"symbol\":\"circle\"},\"mode\":\"lines\",\"name\":\"2-\\u043a. \\u043a\\u0432\\u0430\\u0440\\u0442\\u0438\\u0440\\u0430\",\"orientation\":\"v\",\"showlegend\":true,\"x\":[1965.0],\"xaxis\":\"x\",\"y\":[494179.8941798941],\"yaxis\":\"y\",\"type\":\"scatter\"},{\"hovertemplate\":\"n_rooms=3-\\u043a. \\u043a\\u0432\\u0430\\u0440\\u0442\\u0438\\u0440\\u0430<br>metro_branch= rgb(145, 81, 51);<br>\\u0413\\u043e\\u0434=%{x}<br>rubm2=%{y}<extra></extra>\",\"legendgroup\":\"3-\\u043a. \\u043a\\u0432\\u0430\\u0440\\u0442\\u0438\\u0440\\u0430\",\"line\":{\"color\":\"#EF553B\",\"dash\":\"solid\"},\"marker\":{\"symbol\":\"circle\"},\"mode\":\"lines\",\"name\":\"3-\\u043a. \\u043a\\u0432\\u0430\\u0440\\u0442\\u0438\\u0440\\u0430\",\"orientation\":\"v\",\"showlegend\":true,\"x\":[1900.0,1940.0],\"xaxis\":\"x\",\"y\":[345121.9512195122,630136.9863013698],\"yaxis\":\"y\",\"type\":\"scatter\"}],\"name\":\" rgb(145, 81, 51);\"},{\"data\":[{\"hovertemplate\":\"n_rooms=2-\\u043a. \\u043a\\u0432\\u0430\\u0440\\u0442\\u0438\\u0440\\u0430<br>metro_branch=#BED12C<br>\\u0413\\u043e\\u0434=%{x}<br>rubm2=%{y}<extra></extra>\",\"legendgroup\":\"2-\\u043a. \\u043a\\u0432\\u0430\\u0440\\u0442\\u0438\\u0440\\u0430\",\"line\":{\"color\":\"#636efa\",\"dash\":\"solid\"},\"marker\":{\"symbol\":\"circle\"},\"mode\":\"lines\",\"name\":\"2-\\u043a. \\u043a\\u0432\\u0430\\u0440\\u0442\\u0438\\u0440\\u0430\",\"orientation\":\"v\",\"showlegend\":true,\"x\":[1915.0,1940.0,1950.0,1955.0,1960.0,1965.0,1970.0,1975.0,1980.0,1985.0,1990.0,1995.0,2000.0,2005.0,2010.0,2015.0,2020.0],\"xaxis\":\"x\",\"y\":[230000.0,277777.77777777775,308000.0,322920.1987587864,286941.0110457894,290598.655405376,277697.14831091755,302058.29546002694,286253.56213832094,264193.48028450826,230153.36673236635,301792.64813400956,267753.014788314,295668.45309358917,315638.7576653557,336874.20746022474,328666.13015916466],\"yaxis\":\"y\",\"type\":\"scatter\"},{\"hovertemplate\":\"n_rooms=3-\\u043a. \\u043a\\u0432\\u0430\\u0440\\u0442\\u0438\\u0440\\u0430<br>metro_branch=#BED12C<br>\\u0413\\u043e\\u0434=%{x}<br>rubm2=%{y}<extra></extra>\",\"legendgroup\":\"3-\\u043a. \\u043a\\u0432\\u0430\\u0440\\u0442\\u0438\\u0440\\u0430\",\"line\":{\"color\":\"#EF553B\",\"dash\":\"solid\"},\"marker\":{\"symbol\":\"circle\"},\"mode\":\"lines\",\"name\":\"3-\\u043a. \\u043a\\u0432\\u0430\\u0440\\u0442\\u0438\\u0440\\u0430\",\"orientation\":\"v\",\"showlegend\":true,\"x\":[1900.0,1930.0,1940.0,1950.0,1955.0,1960.0,1965.0,1970.0,1975.0,1980.0,1985.0,1990.0,1995.0,2000.0,2005.0,2010.0,2015.0,2020.0],\"xaxis\":\"x\",\"y\":[303278.68852459016,207317.07317073172,254929.57746478874,218333.33333333334,351858.8664421998,294158.69454801484,237614.53742551533,279063.16299990535,231896.6577819781,261265.6823856509,259968.64486350789,275052.63157894736,267100.4436184119,249194.75726089158,241799.02027796762,324200.0188341652,301694.9152542373,299722.9186263932],\"yaxis\":\"y\",\"type\":\"scatter\"}],\"name\":\"#BED12C\"},{\"data\":[{\"hovertemplate\":\"n_rooms=2-\\u043a. \\u043a\\u0432\\u0430\\u0440\\u0442\\u0438\\u0440\\u0430<br>metro_branch=#943E90<br>\\u0413\\u043e\\u0434=%{x}<br>rubm2=%{y}<extra></extra>\",\"legendgroup\":\"2-\\u043a. \\u043a\\u0432\\u0430\\u0440\\u0442\\u0438\\u0440\\u0430\",\"line\":{\"color\":\"#636efa\",\"dash\":\"solid\"},\"marker\":{\"symbol\":\"circle\"},\"mode\":\"lines\",\"name\":\"2-\\u043a. \\u043a\\u0432\\u0430\\u0440\\u0442\\u0438\\u0440\\u0430\",\"orientation\":\"v\",\"showlegend\":true,\"x\":[1905.0,1915.0,1925.0,1940.0,1950.0,1955.0,1960.0,1965.0,1970.0,1975.0,1980.0,1985.0,1990.0,1995.0,2000.0,2005.0,2010.0,2015.0,2020.0],\"xaxis\":\"x\",\"y\":[257734.0031729244,338460.1173020528,434346.8043478261,437500.0,349751.8028846154,329129.7402407967,314660.9335062789,331738.3464851016,302436.6611926611,285875.54339312733,318763.6165577342,293937.8916627541,270207.26129216695,339331.35358888464,292827.68359411793,315787.8905630543,366583.5950563778,442839.02329671703,460894.3332487683],\"yaxis\":\"y\",\"type\":\"scatter\"},{\"hovertemplate\":\"n_rooms=3-\\u043a. \\u043a\\u0432\\u0430\\u0440\\u0442\\u0438\\u0440\\u0430<br>metro_branch=#943E90<br>\\u0413\\u043e\\u0434=%{x}<br>rubm2=%{y}<extra></extra>\",\"legendgroup\":\"3-\\u043a. \\u043a\\u0432\\u0430\\u0440\\u0442\\u0438\\u0440\\u0430\",\"line\":{\"color\":\"#EF553B\",\"dash\":\"solid\"},\"marker\":{\"symbol\":\"circle\"},\"mode\":\"lines\",\"name\":\"3-\\u043a. \\u043a\\u0432\\u0430\\u0440\\u0442\\u0438\\u0440\\u0430\",\"orientation\":\"v\",\"showlegend\":true,\"x\":[1910.0,1930.0,1950.0,1955.0,1960.0,1965.0,1970.0,1975.0,1980.0,1985.0,1990.0,1995.0,2000.0,2005.0,2010.0,2020.0],\"xaxis\":\"x\",\"y\":[965125.3012048192,361194.0298507463,689655.1724137932,339970.2011458628,304772.25418527337,272347.24547294824,264974.4474919536,296349.28059382783,263930.3482587065,377581.42758142756,285333.3333333333,227196.43534710255,340571.99159073393,274490.3494261204,362500.0,621479.254347767],\"yaxis\":\"y\",\"type\":\"scatter\"}],\"name\":\"#943E90\"},{\"data\":[{\"hovertemplate\":\"n_rooms=2-\\u043a. \\u043a\\u0432\\u0430\\u0440\\u0442\\u0438\\u0440\\u0430<br>metro_branch=#0072BA<br>\\u0413\\u043e\\u0434=%{x}<br>rubm2=%{y}<extra></extra>\",\"legendgroup\":\"2-\\u043a. \\u043a\\u0432\\u0430\\u0440\\u0442\\u0438\\u0440\\u0430\",\"line\":{\"color\":\"#636efa\",\"dash\":\"solid\"},\"marker\":{\"symbol\":\"circle\"},\"mode\":\"lines\",\"name\":\"2-\\u043a. \\u043a\\u0432\\u0430\\u0440\\u0442\\u0438\\u0440\\u0430\",\"orientation\":\"v\",\"showlegend\":true,\"x\":[1910.0,1935.0,1940.0,1955.0,1960.0,1965.0,1970.0,1975.0,1980.0,1985.0,1990.0,1995.0,2000.0,2005.0,2010.0,2015.0,2020.0],\"xaxis\":\"x\",\"y\":[330147.0588235294,391362.0689655172,340677.9661016949,342513.7274373503,290617.44529595476,304777.4962271205,319468.91498907027,269501.2868121373,315062.4903038833,287097.9210653274,277792.1332184898,246901.92491063476,446882.7519702058,267324.74021076964,298000.0,326265.7924284009,387280.36686277087],\"yaxis\":\"y\",\"type\":\"scatter\"},{\"hovertemplate\":\"n_rooms=3-\\u043a. \\u043a\\u0432\\u0430\\u0440\\u0442\\u0438\\u0440\\u0430<br>metro_branch=#0072BA<br>\\u0413\\u043e\\u0434=%{x}<br>rubm2=%{y}<extra></extra>\",\"legendgroup\":\"3-\\u043a. \\u043a\\u0432\\u0430\\u0440\\u0442\\u0438\\u0440\\u0430\",\"line\":{\"color\":\"#EF553B\",\"dash\":\"solid\"},\"marker\":{\"symbol\":\"circle\"},\"mode\":\"lines\",\"name\":\"3-\\u043a. \\u043a\\u0432\\u0430\\u0440\\u0442\\u0438\\u0440\\u0430\",\"orientation\":\"v\",\"showlegend\":true,\"x\":[1925.0,1935.0,1955.0,1960.0,1965.0,1970.0,1975.0,1980.0,1985.0,1990.0,1995.0,2000.0,2005.0,2010.0,2015.0,2020.0],\"xaxis\":\"x\",\"y\":[292289.7196261682,459459.45945945947,352224.56441461976,276804.7210392382,322227.16220911266,245418.67413374007,289894.5597745908,246171.576584199,323613.44262044097,260423.34891270113,260374.13640044472,320260.0979124804,329683.14448898885,331425.39224353165,362374.3671501459,351531.124497992],\"yaxis\":\"y\",\"type\":\"scatter\"}],\"name\":\"#0072BA\"},{\"data\":[{\"hovertemplate\":\"n_rooms=2-\\u043a. \\u043a\\u0432\\u0430\\u0440\\u0442\\u0438\\u0440\\u0430<br>metro_branch=#FFCD1C<br>\\u0413\\u043e\\u0434=%{x}<br>rubm2=%{y}<extra></extra>\",\"legendgroup\":\"2-\\u043a. \\u043a\\u0432\\u0430\\u0440\\u0442\\u0438\\u0440\\u0430\",\"line\":{\"color\":\"#636efa\",\"dash\":\"solid\"},\"marker\":{\"symbol\":\"circle\"},\"mode\":\"lines\",\"name\":\"2-\\u043a. \\u043a\\u0432\\u0430\\u0440\\u0442\\u0438\\u0440\\u0430\",\"orientation\":\"v\",\"showlegend\":true,\"x\":[1910.0,1930.0,1950.0,1955.0,1960.0,1965.0,1970.0,1975.0,1980.0,1985.0,1990.0,1995.0,2000.0,2005.0,2010.0,2015.0,2020.0],\"xaxis\":\"x\",\"y\":[453780.56404556823,172632.35294117648,297277.50083084084,305900.3153709036,333031.12142072705,267734.8101155654,284375.56997838465,234988.5476289763,272174.1125517233,253973.70840105193,230370.28115672388,289057.6681180455,293546.3790430702,315436.5192542862,279560.9756097561,372132.0616922684,305524.0306998107],\"yaxis\":\"y\",\"type\":\"scatter\"},{\"hovertemplate\":\"n_rooms=3-\\u043a. \\u043a\\u0432\\u0430\\u0440\\u0442\\u0438\\u0440\\u0430<br>metro_branch=#FFCD1C<br>\\u0413\\u043e\\u0434=%{x}<br>rubm2=%{y}<extra></extra>\",\"legendgroup\":\"3-\\u043a. \\u043a\\u0432\\u0430\\u0440\\u0442\\u0438\\u0440\\u0430\",\"line\":{\"color\":\"#EF553B\",\"dash\":\"solid\"},\"marker\":{\"symbol\":\"circle\"},\"mode\":\"lines\",\"name\":\"3-\\u043a. \\u043a\\u0432\\u0430\\u0440\\u0442\\u0438\\u0440\\u0430\",\"orientation\":\"v\",\"showlegend\":true,\"x\":[1925.0,1950.0,1955.0,1960.0,1965.0,1970.0,1975.0,1980.0,1985.0,1990.0,1995.0,2000.0,2005.0,2010.0,2015.0,2020.0],\"xaxis\":\"x\",\"y\":[261538.46153846153,257745.88271509926,367775.97402597405,272310.98716306663,263852.38541004184,271331.5482743992,274710.55328478414,280345.1039240513,189485.5904613216,242116.53415812404,254932.1259946189,381938.13934267266,319060.3069533164,440601.0518800904,387174.81091117027,308348.4911151913],\"yaxis\":\"y\",\"type\":\"scatter\"}],\"name\":\"#FFCD1C\"},{\"data\":[{\"hovertemplate\":\"n_rooms=2-\\u043a. \\u043a\\u0432\\u0430\\u0440\\u0442\\u0438\\u0440\\u0430<br>metro_branch=#915133<br>\\u0413\\u043e\\u0434=%{x}<br>rubm2=%{y}<extra></extra>\",\"legendgroup\":\"2-\\u043a. \\u043a\\u0432\\u0430\\u0440\\u0442\\u0438\\u0440\\u0430\",\"line\":{\"color\":\"#636efa\",\"dash\":\"solid\"},\"marker\":{\"symbol\":\"circle\"},\"mode\":\"lines\",\"name\":\"2-\\u043a. \\u043a\\u0432\\u0430\\u0440\\u0442\\u0438\\u0440\\u0430\",\"orientation\":\"v\",\"showlegend\":true,\"x\":[1915.0,1955.0,1960.0,1965.0,1970.0,1975.0,1995.0],\"xaxis\":\"x\",\"y\":[242857.14285714287,767497.947454844,430667.2932330827,495015.5313651108,620833.3333333334,576590.6391066762,500000.0],\"yaxis\":\"y\",\"type\":\"scatter\"},{\"hovertemplate\":\"n_rooms=3-\\u043a. \\u043a\\u0432\\u0430\\u0440\\u0442\\u0438\\u0440\\u0430<br>metro_branch=#915133<br>\\u0413\\u043e\\u0434=%{x}<br>rubm2=%{y}<extra></extra>\",\"legendgroup\":\"3-\\u043a. \\u043a\\u0432\\u0430\\u0440\\u0442\\u0438\\u0440\\u0430\",\"line\":{\"color\":\"#EF553B\",\"dash\":\"solid\"},\"marker\":{\"symbol\":\"circle\"},\"mode\":\"lines\",\"name\":\"3-\\u043a. \\u043a\\u0432\\u0430\\u0440\\u0442\\u0438\\u0440\\u0430\",\"orientation\":\"v\",\"showlegend\":true,\"x\":[1910.0,1935.0,1940.0,1945.0,1960.0,1965.0,1970.0,2000.0,2005.0],\"xaxis\":\"x\",\"y\":[372549.01960784313,612903.2258064516,391780.8219178082,719051.7998244073,593750.0,363497.8700342811,490133.3333333333,347222.22222222225,889610.1159114857],\"yaxis\":\"y\",\"type\":\"scatter\"}],\"name\":\"#915133\"},{\"data\":[{\"hovertemplate\":\"n_rooms=2-\\u043a. \\u043a\\u0432\\u0430\\u0440\\u0442\\u0438\\u0440\\u0430<br>metro_branch= rgb(186, 200, 232);<br>\\u0413\\u043e\\u0434=%{x}<br>rubm2=%{y}<extra></extra>\",\"legendgroup\":\"2-\\u043a. \\u043a\\u0432\\u0430\\u0440\\u0442\\u0438\\u0440\\u0430\",\"line\":{\"color\":\"#636efa\",\"dash\":\"solid\"},\"marker\":{\"symbol\":\"circle\"},\"mode\":\"lines\",\"name\":\"2-\\u043a. \\u043a\\u0432\\u0430\\u0440\\u0442\\u0438\\u0440\\u0430\",\"orientation\":\"v\",\"showlegend\":true,\"x\":[1915.0,1955.0,1960.0,1965.0,1970.0,1975.0,1980.0,1985.0,1990.0,1995.0,2000.0,2005.0,2020.0],\"xaxis\":\"x\",\"y\":[206494.54030174212,272420.5816417954,210000.0,155172.41379310345,183870.96774193548,251425.12077294686,179508.19672131148,256666.66666666666,236732.0487643326,222767.85714285716,237931.0344827586,235052.91005291007,226377.4602329741],\"yaxis\":\"y\",\"type\":\"scatter\"},{\"hovertemplate\":\"n_rooms=3-\\u043a. \\u043a\\u0432\\u0430\\u0440\\u0442\\u0438\\u0440\\u0430<br>metro_branch= rgb(186, 200, 232);<br>\\u0413\\u043e\\u0434=%{x}<br>rubm2=%{y}<extra></extra>\",\"legendgroup\":\"3-\\u043a. \\u043a\\u0432\\u0430\\u0440\\u0442\\u0438\\u0440\\u0430\",\"line\":{\"color\":\"#EF553B\",\"dash\":\"solid\"},\"marker\":{\"symbol\":\"circle\"},\"mode\":\"lines\",\"name\":\"3-\\u043a. \\u043a\\u0432\\u0430\\u0440\\u0442\\u0438\\u0440\\u0430\",\"orientation\":\"v\",\"showlegend\":true,\"x\":[1915.0,1965.0,1975.0,1995.0,2000.0,2005.0,2020.0],\"xaxis\":\"x\",\"y\":[166666.66666666666,156250.0,226190.47619047618,189873.41772151898,214285.7142857143,250588.23529411765,178462.43891728495],\"yaxis\":\"y\",\"type\":\"scatter\"}],\"name\":\" rgb(186, 200, 232);\"},{\"data\":[{\"hovertemplate\":\"n_rooms=2-\\u043a. \\u043a\\u0432\\u0430\\u0440\\u0442\\u0438\\u0440\\u0430<br>metro_branch= rgb(240, 126, 36);<br>\\u0413\\u043e\\u0434=%{x}<br>rubm2=%{y}<extra></extra>\",\"legendgroup\":\"2-\\u043a. \\u043a\\u0432\\u0430\\u0440\\u0442\\u0438\\u0440\\u0430\",\"line\":{\"color\":\"#636efa\",\"dash\":\"solid\"},\"marker\":{\"symbol\":\"circle\"},\"mode\":\"lines\",\"name\":\"2-\\u043a. \\u043a\\u0432\\u0430\\u0440\\u0442\\u0438\\u0440\\u0430\",\"orientation\":\"v\",\"showlegend\":true,\"x\":[1915.0,1930.0,1950.0,1960.0,1965.0,1970.0,1975.0,1980.0,1985.0,1995.0,2000.0,2005.0,2010.0,2020.0],\"xaxis\":\"x\",\"y\":[650000.0,529411.7647058824,350000.0,347274.1075918371,300793.65079365077,291363.63636363635,282196.9696969697,246735.85364940268,637336.1823361823,354237.28813559323,354551.8207282913,316666.6666666667,230129.29125138427,342424.24242424243],\"yaxis\":\"y\",\"type\":\"scatter\"},{\"hovertemplate\":\"n_rooms=3-\\u043a. \\u043a\\u0432\\u0430\\u0440\\u0442\\u0438\\u0440\\u0430<br>metro_branch= rgb(240, 126, 36);<br>\\u0413\\u043e\\u0434=%{x}<br>rubm2=%{y}<extra></extra>\",\"legendgroup\":\"3-\\u043a. \\u043a\\u0432\\u0430\\u0440\\u0442\\u0438\\u0440\\u0430\",\"line\":{\"color\":\"#EF553B\",\"dash\":\"solid\"},\"marker\":{\"symbol\":\"circle\"},\"mode\":\"lines\",\"name\":\"3-\\u043a. \\u043a\\u0432\\u0430\\u0440\\u0442\\u0438\\u0440\\u0430\",\"orientation\":\"v\",\"showlegend\":true,\"x\":[1935.0,1955.0,1960.0,1965.0,1970.0,1975.0,1980.0,1985.0,1990.0,1995.0,2000.0,2005.0,2010.0,2015.0],\"xaxis\":\"x\",\"y\":[329411.76470588235,530318.1818181819,409090.92992424243,223642.52573766175,252380.95238095237,366301.6944197766,254913.40272459987,217022.4411603722,294871.7948717949,304285.71428571426,378378.3783783784,354545.45454545453,356164.37899543374,306923.07692307694],\"yaxis\":\"y\",\"type\":\"scatter\"}],\"name\":\" rgb(240, 126, 36);\"},{\"data\":[{\"hovertemplate\":\"n_rooms=2-\\u043a. \\u043a\\u0432\\u0430\\u0440\\u0442\\u0438\\u0440\\u0430<br>metro_branch=#F07E24<br>\\u0413\\u043e\\u0434=%{x}<br>rubm2=%{y}<extra></extra>\",\"legendgroup\":\"2-\\u043a. \\u043a\\u0432\\u0430\\u0440\\u0442\\u0438\\u0440\\u0430\",\"line\":{\"color\":\"#636efa\",\"dash\":\"solid\"},\"marker\":{\"symbol\":\"circle\"},\"mode\":\"lines\",\"name\":\"2-\\u043a. \\u043a\\u0432\\u0430\\u0440\\u0442\\u0438\\u0440\\u0430\",\"orientation\":\"v\",\"showlegend\":true,\"x\":[1915.0,1930.0,1940.0,1945.0,1950.0,1955.0,1960.0,1965.0,1970.0,1975.0,1980.0,1985.0,1990.0,1995.0,2000.0,2005.0,2010.0,2015.0,2020.0],\"xaxis\":\"x\",\"y\":[465116.27906976745,363600.0,367857.14285714284,433695.652173913,630136.9863013698,333551.8726275894,337455.9061866142,301702.0420658699,292580.7256486742,327191.2041956828,254921.20060414198,299837.6521005237,330799.1120976693,306743.3637379239,323997.718147735,310125.1513283576,302135.07815404143,306340.53692331916,335649.5587186984],\"yaxis\":\"y\",\"type\":\"scatter\"},{\"hovertemplate\":\"n_rooms=3-\\u043a. \\u043a\\u0432\\u0430\\u0440\\u0442\\u0438\\u0440\\u0430<br>metro_branch=#F07E24<br>\\u0413\\u043e\\u0434=%{x}<br>rubm2=%{y}<extra></extra>\",\"legendgroup\":\"3-\\u043a. \\u043a\\u0432\\u0430\\u0440\\u0442\\u0438\\u0440\\u0430\",\"line\":{\"color\":\"#EF553B\",\"dash\":\"solid\"},\"marker\":{\"symbol\":\"circle\"},\"mode\":\"lines\",\"name\":\"3-\\u043a. \\u043a\\u0432\\u0430\\u0440\\u0442\\u0438\\u0440\\u0430\",\"orientation\":\"v\",\"showlegend\":true,\"x\":[1935.0,1940.0,1950.0,1955.0,1960.0,1965.0,1970.0,1975.0,1980.0,1985.0,1990.0,1995.0,2000.0,2005.0,2015.0,2020.0],\"xaxis\":\"x\",\"y\":[329411.76470588235,489761.9047619048,416666.6666666667,414401.3026202571,283356.08913036855,322369.3098187814,274446.5991616328,275523.7279495833,279893.4819821382,348690.34179227235,286235.12544802873,277777.77777777775,303821.20052777947,311356.0416191995,285598.2905982906,358540.01457597094],\"yaxis\":\"y\",\"type\":\"scatter\"}],\"name\":\"#F07E24\"},{\"data\":[{\"hovertemplate\":\"n_rooms=2-\\u043a. \\u043a\\u0432\\u0430\\u0440\\u0442\\u0438\\u0440\\u0430<br>metro_branch=#F4D7CF<br>\\u0413\\u043e\\u0434=%{x}<br>rubm2=%{y}<extra></extra>\",\"legendgroup\":\"2-\\u043a. \\u043a\\u0432\\u0430\\u0440\\u0442\\u0438\\u0440\\u0430\",\"line\":{\"color\":\"#636efa\",\"dash\":\"solid\"},\"marker\":{\"symbol\":\"circle\"},\"mode\":\"lines\",\"name\":\"2-\\u043a. \\u043a\\u0432\\u0430\\u0440\\u0442\\u0438\\u0440\\u0430\",\"orientation\":\"v\",\"showlegend\":true,\"x\":[1915.0,1955.0,1960.0,1965.0,1970.0,1975.0,1980.0,1985.0,1990.0,1995.0,2000.0,2005.0,2015.0,2020.0],\"xaxis\":\"x\",\"y\":[269197.72256728774,331724.87171150185,375727.7407432733,302028.91572499415,277644.14342718053,273686.2699643638,253854.29769392032,278942.73706330446,245000.0,266209.14043583535,447959.7390157735,338502.44711085845,355650.4994995048,455806.86402001244],\"yaxis\":\"y\",\"type\":\"scatter\"},{\"hovertemplate\":\"n_rooms=3-\\u043a. \\u043a\\u0432\\u0430\\u0440\\u0442\\u0438\\u0440\\u0430<br>metro_branch=#F4D7CF<br>\\u0413\\u043e\\u0434=%{x}<br>rubm2=%{y}<extra></extra>\",\"legendgroup\":\"3-\\u043a. \\u043a\\u0432\\u0430\\u0440\\u0442\\u0438\\u0440\\u0430\",\"line\":{\"color\":\"#EF553B\",\"dash\":\"solid\"},\"marker\":{\"symbol\":\"circle\"},\"mode\":\"lines\",\"name\":\"3-\\u043a. \\u043a\\u0432\\u0430\\u0440\\u0442\\u0438\\u0440\\u0430\",\"orientation\":\"v\",\"showlegend\":true,\"x\":[1930.0,1950.0,1955.0,1960.0,1965.0,1970.0,1975.0,1980.0,1985.0,1990.0,1995.0,2000.0,2005.0,2010.0,2020.0],\"xaxis\":\"x\",\"y\":[328347.3389355742,324088.8746803069,290561.4200532114,341670.81907991,299540.0906078914,329130.77575210284,301587.28571428574,321874.99649122806,228395.06172839506,293584.60412480106,323547.54364670126,479853.4798534799,392188.43116545427,448659.8440545809,379133.27335792076],\"yaxis\":\"y\",\"type\":\"scatter\"}],\"name\":\"#F4D7CF\"},{\"data\":[{\"hovertemplate\":\"n_rooms=2-\\u043a. \\u043a\\u0432\\u0430\\u0440\\u0442\\u0438\\u0440\\u0430<br>metro_branch= rgb(30, 188, 239);<br>\\u0413\\u043e\\u0434=%{x}<br>rubm2=%{y}<extra></extra>\",\"legendgroup\":\"2-\\u043a. \\u043a\\u0432\\u0430\\u0440\\u0442\\u0438\\u0440\\u0430\",\"line\":{\"color\":\"#636efa\",\"dash\":\"solid\"},\"marker\":{\"symbol\":\"circle\"},\"mode\":\"lines\",\"name\":\"2-\\u043a. \\u043a\\u0432\\u0430\\u0440\\u0442\\u0438\\u0440\\u0430\",\"orientation\":\"v\",\"showlegend\":true,\"x\":[1925.0,1930.0,1935.0,1940.0,1955.0,1960.0,1965.0,1970.0,1980.0,1985.0,1990.0,2000.0,2005.0,2010.0,2015.0,2020.0],\"xaxis\":\"x\",\"y\":[520000.0,498001.1305822499,495000.0,351351.35135135136,483333.3333333333,374621.2146612496,320785.8143451708,429545.45454545453,406625.4938887043,275471.69811320753,282500.0,406810.88314005354,389906.62139219017,381632.78750235273,463265.306122449,518095.3780088481],\"yaxis\":\"y\",\"type\":\"scatter\"},{\"hovertemplate\":\"n_rooms=3-\\u043a. \\u043a\\u0432\\u0430\\u0440\\u0442\\u0438\\u0440\\u0430<br>metro_branch= rgb(30, 188, 239);<br>\\u0413\\u043e\\u0434=%{x}<br>rubm2=%{y}<extra></extra>\",\"legendgroup\":\"3-\\u043a. \\u043a\\u0432\\u0430\\u0440\\u0442\\u0438\\u0440\\u0430\",\"line\":{\"color\":\"#EF553B\",\"dash\":\"solid\"},\"marker\":{\"symbol\":\"circle\"},\"mode\":\"lines\",\"name\":\"3-\\u043a. \\u043a\\u0432\\u0430\\u0440\\u0442\\u0438\\u0440\\u0430\",\"orientation\":\"v\",\"showlegend\":true,\"x\":[1915.0,1950.0,1960.0,1965.0,1970.0,1975.0,1985.0,2000.0,2010.0,2015.0,2020.0],\"xaxis\":\"x\",\"y\":[361111.1111111111,328125.0,394112.5541125541,351415.09433962265,254830.60599559205,393421.05263157893,291040.8826548067,574347.9423890365,370512.8205128205,394961.69220519654,442636.1112779847],\"yaxis\":\"y\",\"type\":\"scatter\"}],\"name\":\" rgb(30, 188, 239);\"},{\"data\":[{\"hovertemplate\":\"n_rooms=2-\\u043a. \\u043a\\u0432\\u0430\\u0440\\u0442\\u0438\\u0440\\u0430<br>metro_branch= rgb(208, 108, 159);<br>\\u0413\\u043e\\u0434=%{x}<br>rubm2=%{y}<extra></extra>\",\"legendgroup\":\"2-\\u043a. \\u043a\\u0432\\u0430\\u0440\\u0442\\u0438\\u0440\\u0430\",\"line\":{\"color\":\"#636efa\",\"dash\":\"solid\"},\"marker\":{\"symbol\":\"circle\"},\"mode\":\"lines\",\"name\":\"2-\\u043a. \\u043a\\u0432\\u0430\\u0440\\u0442\\u0438\\u0440\\u0430\",\"orientation\":\"v\",\"showlegend\":true,\"x\":[1930.0,1950.0,1955.0,1960.0,1965.0,1970.0,1980.0,1985.0,1990.0,1995.0,2005.0,2010.0,2015.0,2020.0],\"xaxis\":\"x\",\"y\":[428448.275862069,232558.13953488372,221428.57142857142,291103.794475505,293657.2504708098,351099.3027440396,252105.40254237287,372070.1754385965,207692.3076923077,250000.0,248736.10489429923,223213.23529411765,205664.48252688174,251898.1316437646],\"yaxis\":\"y\",\"type\":\"scatter\"},{\"hovertemplate\":\"n_rooms=3-\\u043a. \\u043a\\u0432\\u0430\\u0440\\u0442\\u0438\\u0440\\u0430<br>metro_branch= rgb(208, 108, 159);<br>\\u0413\\u043e\\u0434=%{x}<br>rubm2=%{y}<extra></extra>\",\"legendgroup\":\"3-\\u043a. \\u043a\\u0432\\u0430\\u0440\\u0442\\u0438\\u0440\\u0430\",\"line\":{\"color\":\"#EF553B\",\"dash\":\"solid\"},\"marker\":{\"symbol\":\"circle\"},\"mode\":\"lines\",\"name\":\"3-\\u043a. \\u043a\\u0432\\u0430\\u0440\\u0442\\u0438\\u0440\\u0430\",\"orientation\":\"v\",\"showlegend\":true,\"x\":[1960.0,1970.0,1995.0,2005.0,2010.0,2015.0,2020.0],\"xaxis\":\"x\",\"y\":[300090.27777777775,234950.32144944475,202488.82265275708,252764.97085320612,191127.0928462709,230000.0,376849.02159244264],\"yaxis\":\"y\",\"type\":\"scatter\"}],\"name\":\" rgb(208, 108, 159);\"},{\"data\":[{\"hovertemplate\":\"n_rooms=2-\\u043a. \\u043a\\u0432\\u0430\\u0440\\u0442\\u0438\\u0440\\u0430<br>metro_branch=#D06C9F<br>\\u0413\\u043e\\u0434=%{x}<br>rubm2=%{y}<extra></extra>\",\"legendgroup\":\"2-\\u043a. \\u043a\\u0432\\u0430\\u0440\\u0442\\u0438\\u0440\\u0430\",\"line\":{\"color\":\"#636efa\",\"dash\":\"solid\"},\"marker\":{\"symbol\":\"circle\"},\"mode\":\"lines\",\"name\":\"2-\\u043a. \\u043a\\u0432\\u0430\\u0440\\u0442\\u0438\\u0440\\u0430\",\"orientation\":\"v\",\"showlegend\":true,\"x\":[1930.0,1950.0,1955.0,1960.0,1965.0,1970.0,1975.0,1980.0,1985.0,1990.0,1995.0,2000.0,2005.0,2010.0,2015.0,2020.0],\"xaxis\":\"x\",\"y\":[400690.01157017867,232558.13953488372,237530.8417997097,290375.9926073634,329414.1075247904,312754.52002153633,267885.89743589744,279036.29529787245,294253.1023977673,231920.37337431344,254491.0394265233,269898.8387451902,269254.11811592407,221730.88075936283,231863.31654583302,282222.12221676443],\"yaxis\":\"y\",\"type\":\"scatter\"},{\"hovertemplate\":\"n_rooms=3-\\u043a. \\u043a\\u0432\\u0430\\u0440\\u0442\\u0438\\u0440\\u0430<br>metro_branch=#D06C9F<br>\\u0413\\u043e\\u0434=%{x}<br>rubm2=%{y}<extra></extra>\",\"legendgroup\":\"3-\\u043a. \\u043a\\u0432\\u0430\\u0440\\u0442\\u0438\\u0440\\u0430\",\"line\":{\"color\":\"#EF553B\",\"dash\":\"solid\"},\"marker\":{\"symbol\":\"circle\"},\"mode\":\"lines\",\"name\":\"3-\\u043a. \\u043a\\u0432\\u0430\\u0440\\u0442\\u0438\\u0440\\u0430\",\"orientation\":\"v\",\"showlegend\":true,\"x\":[1935.0,1955.0,1960.0,1965.0,1970.0,1985.0,1990.0,1995.0,2000.0,2005.0,2010.0,2015.0,2020.0],\"xaxis\":\"x\",\"y\":[266666.6666666667,226607.8777189888,272386.3598966192,249884.0110506777,265994.41323149565,356432.1250888415,221052.63157894736,222733.27868852462,177865.61264822134,258029.28481334055,196298.49134849134,220574.72682188646,230416.50139121662],\"yaxis\":\"y\",\"type\":\"scatter\"}],\"name\":\"#D06C9F\"},{\"data\":[{\"hovertemplate\":\"n_rooms=2-\\u043a. \\u043a\\u0432\\u0430\\u0440\\u0442\\u0438\\u0440\\u0430<br>metro_branch=#88CDCF<br>\\u0413\\u043e\\u0434=%{x}<br>rubm2=%{y}<extra></extra>\",\"legendgroup\":\"2-\\u043a. \\u043a\\u0432\\u0430\\u0440\\u0442\\u0438\\u0440\\u0430\",\"line\":{\"color\":\"#636efa\",\"dash\":\"solid\"},\"marker\":{\"symbol\":\"circle\"},\"mode\":\"lines\",\"name\":\"2-\\u043a. \\u043a\\u0432\\u0430\\u0440\\u0442\\u0438\\u0440\\u0430\",\"orientation\":\"v\",\"showlegend\":true,\"x\":[1935.0,1950.0,1960.0,1965.0,1970.0,1975.0,1980.0,2000.0,2015.0,2020.0],\"xaxis\":\"x\",\"y\":[362500.0,329245.28301886795,273915.9891598916,305475.3820033956,265744.68085106387,335820.89552238805,294791.6666666666,290350.8771929825,352406.4171122994,304687.5],\"yaxis\":\"y\",\"type\":\"scatter\"},{\"hovertemplate\":\"n_rooms=3-\\u043a. \\u043a\\u0432\\u0430\\u0440\\u0442\\u0438\\u0440\\u0430<br>metro_branch=#88CDCF<br>\\u0413\\u043e\\u0434=%{x}<br>rubm2=%{y}<extra></extra>\",\"legendgroup\":\"3-\\u043a. \\u043a\\u0432\\u0430\\u0440\\u0442\\u0438\\u0440\\u0430\",\"line\":{\"color\":\"#EF553B\",\"dash\":\"solid\"},\"marker\":{\"symbol\":\"circle\"},\"mode\":\"lines\",\"name\":\"3-\\u043a. \\u043a\\u0432\\u0430\\u0440\\u0442\\u0438\\u0440\\u0430\",\"orientation\":\"v\",\"showlegend\":true,\"x\":[1970.0,1980.0,2015.0,2020.0],\"xaxis\":\"x\",\"y\":[318421.05263157893,293548.3870967742,304090.90909090906,355108.5992907801],\"yaxis\":\"y\",\"type\":\"scatter\"}],\"name\":\"#88CDCF\"},{\"data\":[{\"hovertemplate\":\"n_rooms=2-\\u043a. \\u043a\\u0432\\u0430\\u0440\\u0442\\u0438\\u0440\\u0430<br>metro_branch= rgb(190, 209, 44);<br>\\u0413\\u043e\\u0434=%{x}<br>rubm2=%{y}<extra></extra>\",\"legendgroup\":\"2-\\u043a. \\u043a\\u0432\\u0430\\u0440\\u0442\\u0438\\u0440\\u0430\",\"line\":{\"color\":\"#636efa\",\"dash\":\"solid\"},\"marker\":{\"symbol\":\"circle\"},\"mode\":\"lines\",\"name\":\"2-\\u043a. \\u043a\\u0432\\u0430\\u0440\\u0442\\u0438\\u0440\\u0430\",\"orientation\":\"v\",\"showlegend\":true,\"x\":[1940.0,1955.0,1960.0,1970.0,1975.0,1980.0,1995.0,2000.0,2005.0,2010.0,2020.0],\"xaxis\":\"x\",\"y\":[277777.77777777775,331818.1818181818,281060.8256477822,284098.6648735288,298306.2897501796,300088.86202185915,342592.5925925926,274313.7254901961,250386.60996952953,346402.99921723723,364673.4431020672],\"yaxis\":\"y\",\"type\":\"scatter\"},{\"hovertemplate\":\"n_rooms=3-\\u043a. \\u043a\\u0432\\u0430\\u0440\\u0442\\u0438\\u0440\\u0430<br>metro_branch= rgb(190, 209, 44);<br>\\u0413\\u043e\\u0434=%{x}<br>rubm2=%{y}<extra></extra>\",\"legendgroup\":\"3-\\u043a. \\u043a\\u0432\\u0430\\u0440\\u0442\\u0438\\u0440\\u0430\",\"line\":{\"color\":\"#EF553B\",\"dash\":\"solid\"},\"marker\":{\"symbol\":\"circle\"},\"mode\":\"lines\",\"name\":\"3-\\u043a. \\u043a\\u0432\\u0430\\u0440\\u0442\\u0438\\u0440\\u0430\",\"orientation\":\"v\",\"showlegend\":true,\"x\":[1940.0,1950.0,1960.0,1965.0,1970.0,1975.0,1980.0,1990.0,1995.0,2000.0,2005.0,2010.0,2015.0,2020.0],\"xaxis\":\"x\",\"y\":[254929.57746478874,218333.33333333334,299667.56169287814,233172.5800594183,283333.3333333333,315068.4931506849,290111.3899444056,255263.15789473685,240219.15584415584,242705.29049010063,238023.08802308803,337702.7027027027,397946.9060351413,309113.17662623216],\"yaxis\":\"y\",\"type\":\"scatter\"}],\"name\":\" rgb(190, 209, 44);\"},{\"data\":[{\"hovertemplate\":\"n_rooms=2-\\u043a. \\u043a\\u0432\\u0430\\u0440\\u0442\\u0438\\u0440\\u0430<br>metro_branch= rgb(228, 35, 19);<br>\\u0413\\u043e\\u0434=%{x}<br>rubm2=%{y}<extra></extra>\",\"legendgroup\":\"2-\\u043a. \\u043a\\u0432\\u0430\\u0440\\u0442\\u0438\\u0440\\u0430\",\"line\":{\"color\":\"#636efa\",\"dash\":\"solid\"},\"marker\":{\"symbol\":\"circle\"},\"mode\":\"lines\",\"name\":\"2-\\u043a. \\u043a\\u0432\\u0430\\u0440\\u0442\\u0438\\u0440\\u0430\",\"orientation\":\"v\",\"showlegend\":true,\"x\":[1940.0,1950.0,1955.0,1960.0,1965.0,1980.0,1985.0,2000.0,2005.0,2010.0,2015.0,2020.0],\"xaxis\":\"x\",\"y\":[429824.56140350876,243835.61643835617,368656.7164179105,319746.8983518172,412544.06580493535,300378.1512605042,419148.93617021275,342592.5925925926,327260.27397260274,516393.4426229508,266326.5306122449,321185.77075098816],\"yaxis\":\"y\",\"type\":\"scatter\"},{\"hovertemplate\":\"n_rooms=3-\\u043a. \\u043a\\u0432\\u0430\\u0440\\u0442\\u0438\\u0440\\u0430<br>metro_branch= rgb(228, 35, 19);<br>\\u0413\\u043e\\u0434=%{x}<br>rubm2=%{y}<extra></extra>\",\"legendgroup\":\"3-\\u043a. \\u043a\\u0432\\u0430\\u0440\\u0442\\u0438\\u0440\\u0430\",\"line\":{\"color\":\"#EF553B\",\"dash\":\"solid\"},\"marker\":{\"symbol\":\"circle\"},\"mode\":\"lines\",\"name\":\"3-\\u043a. \\u043a\\u0432\\u0430\\u0440\\u0442\\u0438\\u0440\\u0430\",\"orientation\":\"v\",\"showlegend\":true,\"x\":[1950.0,1955.0,1960.0,1970.0,1975.0,1980.0,2000.0,2010.0,2015.0,2020.0],\"xaxis\":\"x\",\"y\":[468253.9682539683,418292.68292682926,277090.00762776507,295244.2163571196,322498.2905982906,262686.5671641791,284210.5263157895,385263.15789473685,234328.35820895524,244715.6111335216],\"yaxis\":\"y\",\"type\":\"scatter\"}],\"name\":\" rgb(228, 35, 19);\"},{\"data\":[{\"hovertemplate\":\"n_rooms=2-\\u043a. \\u043a\\u0432\\u0430\\u0440\\u0442\\u0438\\u0440\\u0430<br>metro_branch= rgb(244, 215, 207);<br>\\u0413\\u043e\\u0434=%{x}<br>rubm2=%{y}<extra></extra>\",\"legendgroup\":\"2-\\u043a. \\u043a\\u0432\\u0430\\u0440\\u0442\\u0438\\u0440\\u0430\",\"line\":{\"color\":\"#636efa\",\"dash\":\"solid\"},\"marker\":{\"symbol\":\"circle\"},\"mode\":\"lines\",\"name\":\"2-\\u043a. \\u043a\\u0432\\u0430\\u0440\\u0442\\u0438\\u0440\\u0430\",\"orientation\":\"v\",\"showlegend\":true,\"x\":[1950.0,1955.0,1960.0,1965.0,1970.0,1975.0,1995.0,2005.0,2010.0,2015.0,2020.0],\"xaxis\":\"x\",\"y\":[393442.62295081967,371219.95192307694,375390.5394920775,296310.0624865331,146590.9090909091,402884.6153846154,201607.14285714287,330508.4745762712,333333.3333333333,374304.8096431555,421420.3216972806],\"yaxis\":\"y\",\"type\":\"scatter\"},{\"hovertemplate\":\"n_rooms=3-\\u043a. \\u043a\\u0432\\u0430\\u0440\\u0442\\u0438\\u0440\\u0430<br>metro_branch= rgb(244, 215, 207);<br>\\u0413\\u043e\\u0434=%{x}<br>rubm2=%{y}<extra></extra>\",\"legendgroup\":\"3-\\u043a. \\u043a\\u0432\\u0430\\u0440\\u0442\\u0438\\u0440\\u0430\",\"line\":{\"color\":\"#EF553B\",\"dash\":\"solid\"},\"marker\":{\"symbol\":\"circle\"},\"mode\":\"lines\",\"name\":\"3-\\u043a. \\u043a\\u0432\\u0430\\u0440\\u0442\\u0438\\u0440\\u0430\",\"orientation\":\"v\",\"showlegend\":true,\"x\":[1955.0,1960.0,1965.0,1970.0,1985.0,1990.0,1995.0,2000.0,2020.0],\"xaxis\":\"x\",\"y\":[270588.23529411765,368222.22222222225,398666.6666666667,277777.77777777775,139180.32786885247,357906.4039408867,330379.746835443,487179.4871794872,434227.95837489073],\"yaxis\":\"y\",\"type\":\"scatter\"}],\"name\":\" rgb(244, 215, 207);\"},{\"data\":[{\"hovertemplate\":\"n_rooms=2-\\u043a. \\u043a\\u0432\\u0430\\u0440\\u0442\\u0438\\u0440\\u0430<br>metro_branch= rgb(255, 205, 28);<br>\\u0413\\u043e\\u0434=%{x}<br>rubm2=%{y}<extra></extra>\",\"legendgroup\":\"2-\\u043a. \\u043a\\u0432\\u0430\\u0440\\u0442\\u0438\\u0440\\u0430\",\"line\":{\"color\":\"#636efa\",\"dash\":\"solid\"},\"marker\":{\"symbol\":\"circle\"},\"mode\":\"lines\",\"name\":\"2-\\u043a. \\u043a\\u0432\\u0430\\u0440\\u0442\\u0438\\u0440\\u0430\",\"orientation\":\"v\",\"showlegend\":true,\"x\":[1955.0,1960.0,1965.0,1970.0,1975.0,1985.0,1990.0,1995.0,2000.0,2005.0,2010.0,2015.0,2020.0],\"xaxis\":\"x\",\"y\":[253632.12719298244,290383.5978835979,327183.02662889194,253221.321943764,362745.09803921566,259803.92156862747,243340.45584045583,290909.0909090909,291239.31623931625,216666.66666666666,256477.2727272727,266964.54189209343,248264.2089093702],\"yaxis\":\"y\",\"type\":\"scatter\"},{\"hovertemplate\":\"n_rooms=3-\\u043a. \\u043a\\u0432\\u0430\\u0440\\u0442\\u0438\\u0440\\u0430<br>metro_branch= rgb(255, 205, 28);<br>\\u0413\\u043e\\u0434=%{x}<br>rubm2=%{y}<extra></extra>\",\"legendgroup\":\"3-\\u043a. \\u043a\\u0432\\u0430\\u0440\\u0442\\u0438\\u0440\\u0430\",\"line\":{\"color\":\"#EF553B\",\"dash\":\"solid\"},\"marker\":{\"symbol\":\"circle\"},\"mode\":\"lines\",\"name\":\"3-\\u043a. \\u043a\\u0432\\u0430\\u0440\\u0442\\u0438\\u0440\\u0430\",\"orientation\":\"v\",\"showlegend\":true,\"x\":[1955.0,1960.0,1970.0,1975.0,1980.0,1985.0,1990.0,1995.0,2005.0,2015.0,2020.0],\"xaxis\":\"x\",\"y\":[269230.76923076925,237588.79778736606,325961.7971482378,233055.55555555556,304054.0540540541,236842.1052631579,328365.3846153846,233766.23376623375,407948.84939621785,373513.8491293954,235538.55059879157],\"yaxis\":\"y\",\"type\":\"scatter\"}],\"name\":\" rgb(255, 205, 28);\"},{\"data\":[{\"hovertemplate\":\"n_rooms=2-\\u043a. \\u043a\\u0432\\u0430\\u0440\\u0442\\u0438\\u0440\\u0430<br>metro_branch= rgb(136, 205, 207);<br>\\u0413\\u043e\\u0434=%{x}<br>rubm2=%{y}<extra></extra>\",\"legendgroup\":\"2-\\u043a. \\u043a\\u0432\\u0430\\u0440\\u0442\\u0438\\u0440\\u0430\",\"line\":{\"color\":\"#636efa\",\"dash\":\"solid\"},\"marker\":{\"symbol\":\"circle\"},\"mode\":\"lines\",\"name\":\"2-\\u043a. \\u043a\\u0432\\u0430\\u0440\\u0442\\u0438\\u0440\\u0430\",\"orientation\":\"v\",\"showlegend\":true,\"x\":[1960.0,2015.0],\"xaxis\":\"x\",\"y\":[251219.51219512196,369758.4541062802],\"yaxis\":\"y\",\"type\":\"scatter\"}],\"name\":\" rgb(136, 205, 207);\"}]);\n",
       "                        }).then(function(){\n",
       "                            \n",
       "var gd = document.getElementById('e5be0740-2e20-4738-a348-1cba4294f525');\n",
       "var x = new MutationObserver(function (mutations, observer) {{\n",
       "        var display = window.getComputedStyle(gd).display;\n",
       "        if (!display || display === 'none') {{\n",
       "            console.log([gd, 'removed!']);\n",
       "            Plotly.purge(gd);\n",
       "            observer.disconnect();\n",
       "        }}\n",
       "}});\n",
       "\n",
       "// Listen for the removal of the full notebook cells\n",
       "var notebookContainer = gd.closest('#notebook-container');\n",
       "if (notebookContainer) {{\n",
       "    x.observe(notebookContainer, {childList: true});\n",
       "}}\n",
       "\n",
       "// Listen for the clearing of the current output cell\n",
       "var outputEl = gd.closest('.output');\n",
       "if (outputEl) {{\n",
       "    x.observe(outputEl, {childList: true});\n",
       "}}\n",
       "\n",
       "                        })                };                });            </script>        </div>"
      ]
     },
     "metadata": {},
     "output_type": "display_data"
    }
   ],
   "source": [
    "px.line(plot_df,x='Год',y='rubm2',color='n_rooms',animation_frame='metro_branch',height=900)"
   ]
  }
 ],
 "metadata": {
  "kernelspec": {
   "display_name": "Python 3.8.10 64-bit",
   "language": "python",
   "name": "python3"
  },
  "language_info": {
   "codemirror_mode": {
    "name": "ipython",
    "version": 3
   },
   "file_extension": ".py",
   "mimetype": "text/x-python",
   "name": "python",
   "nbconvert_exporter": "python",
   "pygments_lexer": "ipython3",
   "version": "3.8.10"
  },
  "orig_nbformat": 4,
  "vscode": {
   "interpreter": {
    "hash": "916dbcbb3f70747c44a77c7bcd40155683ae19c65e1c03b4aa3499c5328201f1"
   }
  }
 },
 "nbformat": 4,
 "nbformat_minor": 2
}
