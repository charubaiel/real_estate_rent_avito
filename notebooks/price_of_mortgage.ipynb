{
 "cells": [
  {
   "cell_type": "code",
   "execution_count": 42,
   "metadata": {},
   "outputs": [],
   "source": [
    "import pandas as pd \n",
    "import numpy as np\n",
    "from dataclasses import dataclass\n",
    "\n",
    "import matplotlib.pyplot as plt\n",
    "plt.style.use('ggplot')"
   ]
  },
  {
   "cell_type": "code",
   "execution_count": 113,
   "metadata": {},
   "outputs": [],
   "source": [
    "def monthly_mortgage_cost(credit_amount,pct,n_months):\n",
    "    '''\n",
    "    Калькуляция месячной стоимости ипотеки\n",
    "\n",
    "    M = P [ i(1 + i)^n ] / [ (1 + i)^n - 1]\n",
    "    \n",
    "    '''\n",
    "\n",
    "    monthly_pct = pct / 12\n",
    "    ttl_pct = (1+ monthly_pct)**n_months\n",
    "\n",
    "    up_ = monthly_pct * ttl_pct\n",
    "    down_ = ttl_pct - 1\n",
    "    \n",
    "    monthly_payment = credit_amount * up_ / down_\n",
    "\n",
    "    return monthly_payment"
   ]
  },
  {
   "cell_type": "code",
   "execution_count": 636,
   "metadata": {},
   "outputs": [],
   "source": [
    "@dataclass\n",
    "class RealEstateObject:\n",
    "    \"\"\"\n",
    "    General\n",
    "    ---\n",
    "    Class representing of result of mortrage deal\n",
    "\n",
    "    Attributes:  \n",
    "    ---- \n",
    "        - asset_price - price of household itself\n",
    "        - first_sum_encounter - initial down payment for mortgage\n",
    "        - mortgage_rate - bank yearly mortgage rate\n",
    "        - mortgage_period - initial payment period in months\n",
    "    \n",
    "    \"\"\"\n",
    "    asset_price:int\n",
    "    first_sum_encounter:int\n",
    "    mortgage_rate:float\n",
    "    mortgage_period:int\n",
    "    inflation_rate:float = 0.04\n",
    "\n",
    "    def __post_init__(self):\n",
    "\n",
    "        self.credit_amount = self.asset_price - self.first_sum_encounter\n",
    "\n",
    "        self.monthly_payment = monthly_mortgage_cost(self.credit_amount,self.mortgage_rate,self.mortgage_period).__round__()\n",
    "\n",
    "        self.asset_price_npv = int(self.asset_price * (1 + self.inflation_rate/12)**self.mortgage_period)\n",
    "\n",
    "        self.asset_total_cost = int(self.monthly_payment * self.mortgage_period)\n",
    "             \n",
    "        self.profit =  self.asset_price_npv - self.asset_total_cost\n",
    "\n",
    "        return self\n",
    "\n",
    "    def custom_mortgage_calc(self,early_payments_period:int,\n",
    "                                    early_payments_amount:int ):\n",
    "\n",
    "        total_bonus_payments = 0\n",
    "        credit_amount = self.credit_amount\n",
    "\n",
    "        for nth_month in range(1,self.mortgage_period+1)[::-1]:\n",
    "            \n",
    "            if nth_month % early_payments_period == 0:\n",
    "                credit_amount -= early_payments_amount\n",
    "                total_bonus_payments += early_payments_amount\n",
    "\n",
    "            mpay = monthly_mortgage_cost(credit_amount+early_payments_amount,self.mortgage_rate,nth_month)\n",
    "\n",
    "            if credit_amount <= mpay:\n",
    "                break\n",
    "            \n",
    "            credit_amount -= mpay\n",
    "            \n",
    "\n",
    "        self.mortgage_period = self.mortgage_period -  nth_month\n",
    "        self.asset_total_cost = int(self.monthly_payment * self.mortgage_period) + total_bonus_payments\n",
    "        self.profit =  self.asset_price_npv - self.asset_total_cost\n",
    "\n",
    "        return self\n",
    "\n"
   ]
  },
  {
   "cell_type": "code",
   "execution_count": 663,
   "metadata": {},
   "outputs": [],
   "source": [
    "base_terms = {\n",
    "    'asset_price':17_000_000,\n",
    "    'first_sum_encounter':2_550_000,\n",
    "    'mortgage_rate':.109,\n",
    "    'mortgage_period':20*12,\n",
    "}\n",
    "sber_terms = {\n",
    "    'asset_price':17_000_000,\n",
    "    'first_sum_encounter':2_000_000,\n",
    "    'mortgage_rate':.079,\n",
    "    'mortgage_period':20*12,\n",
    "}\n",
    "it_terms = {\n",
    "    'asset_price':17_000_000,\n",
    "    'first_sum_encounter':17_000_000 * .15,\n",
    "    'mortgage_rate':.057,\n",
    "    'mortgage_period':20*12,\n",
    "}"
   ]
  },
  {
   "cell_type": "code",
   "execution_count": 664,
   "metadata": {},
   "outputs": [],
   "source": [
    "base_mort = RealEstateObject(**base_terms)\n",
    "sber_mort = RealEstateObject(**sber_terms)\n",
    "it_mort = RealEstateObject(**it_terms)"
   ]
  },
  {
   "cell_type": "code",
   "execution_count": 665,
   "metadata": {},
   "outputs": [
    {
     "data": {
      "text/plain": [
       "{'asset_price': 17000000,\n",
       " 'first_sum_encounter': 2550000,\n",
       " 'mortgage_rate': 0.109,\n",
       " 'mortgage_period': 240,\n",
       " 'inflation_rate': 0.04,\n",
       " 'credit_amount': 14450000,\n",
       " 'monthly_payment': 148169,\n",
       " 'asset_price_npv': 37783895,\n",
       " 'asset_total_cost': 35560560,\n",
       " 'profit': 2223335}"
      ]
     },
     "execution_count": 665,
     "metadata": {},
     "output_type": "execute_result"
    }
   ],
   "source": [
    "base_mort.__dict__"
   ]
  },
  {
   "cell_type": "code",
   "execution_count": 742,
   "metadata": {},
   "outputs": [
    {
     "data": {
      "text/plain": [
       "RealEstateObject(asset_price=17000000, first_sum_encounter=2550000, mortgage_rate=0.109, mortgage_period=216, inflation_rate=0.04)"
      ]
     },
     "execution_count": 742,
     "metadata": {},
     "output_type": "execute_result"
    }
   ],
   "source": [
    "base_mort.custom_mortgage_calc(12,100_000)"
   ]
  },
  {
   "cell_type": "code",
   "execution_count": 743,
   "metadata": {},
   "outputs": [
    {
     "data": {
      "text/plain": [
       "{'asset_price': 17000000,\n",
       " 'first_sum_encounter': 2550000,\n",
       " 'mortgage_rate': 0.109,\n",
       " 'mortgage_period': 216,\n",
       " 'inflation_rate': 0.04,\n",
       " 'credit_amount': 14450000,\n",
       " 'monthly_payment': 148169,\n",
       " 'asset_price_npv': 37783895,\n",
       " 'asset_total_cost': 33904504,\n",
       " 'profit': 3879391}"
      ]
     },
     "execution_count": 743,
     "metadata": {},
     "output_type": "execute_result"
    }
   ],
   "source": [
    "base_mort.__dict__"
   ]
  },
  {
   "cell_type": "code",
   "execution_count": 666,
   "metadata": {},
   "outputs": [
    {
     "data": {
      "text/plain": [
       "{'asset_price': 17000000,\n",
       " 'first_sum_encounter': 2000000,\n",
       " 'mortgage_rate': 0.079,\n",
       " 'mortgage_period': 240,\n",
       " 'inflation_rate': 0.04,\n",
       " 'credit_amount': 15000000,\n",
       " 'monthly_payment': 124534,\n",
       " 'asset_price_npv': 37783895,\n",
       " 'asset_total_cost': 29888160,\n",
       " 'profit': 7895735}"
      ]
     },
     "execution_count": 666,
     "metadata": {},
     "output_type": "execute_result"
    }
   ],
   "source": [
    "sber_mort.__dict__"
   ]
  },
  {
   "cell_type": "code",
   "execution_count": 667,
   "metadata": {},
   "outputs": [
    {
     "data": {
      "text/plain": [
       "{'asset_price': 17000000,\n",
       " 'first_sum_encounter': 2550000.0,\n",
       " 'mortgage_rate': 0.057,\n",
       " 'mortgage_period': 240,\n",
       " 'inflation_rate': 0.04,\n",
       " 'credit_amount': 14450000.0,\n",
       " 'monthly_payment': 101039,\n",
       " 'asset_price_npv': 37783895,\n",
       " 'asset_total_cost': 24249360,\n",
       " 'profit': 13534535}"
      ]
     },
     "execution_count": 667,
     "metadata": {},
     "output_type": "execute_result"
    }
   ],
   "source": [
    "it_mort.__dict__"
   ]
  },
  {
   "cell_type": "code",
   "execution_count": null,
   "metadata": {},
   "outputs": [],
   "source": []
  },
  {
   "cell_type": "code",
   "execution_count": null,
   "metadata": {},
   "outputs": [],
   "source": []
  }
 ],
 "metadata": {
  "kernelspec": {
   "display_name": "Python 3",
   "language": "python",
   "name": "python3"
  },
  "language_info": {
   "codemirror_mode": {
    "name": "ipython",
    "version": 3
   },
   "file_extension": ".py",
   "mimetype": "text/x-python",
   "name": "python",
   "nbconvert_exporter": "python",
   "pygments_lexer": "ipython3",
   "version": "3.10.8"
  },
  "orig_nbformat": 4,
  "vscode": {
   "interpreter": {
    "hash": "97cc609b13305c559618ec78a438abc56230b9381f827f22d070313b9a1f3777"
   }
  }
 },
 "nbformat": 4,
 "nbformat_minor": 2
}
