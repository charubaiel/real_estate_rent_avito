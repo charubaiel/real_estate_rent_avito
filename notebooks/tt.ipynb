{
 "cells": [
  {
   "cell_type": "code",
   "execution_count": 1,
   "metadata": {},
   "outputs": [],
   "source": [
    "import pandas as pd\n",
    "import duckdb"
   ]
  },
  {
   "cell_type": "code",
   "execution_count": 2,
   "metadata": {},
   "outputs": [],
   "source": [
    "with duckdb.connect('../data/avito_builder_db.duckdb') as w:\n",
    "    builder_df = w.execute('select * from INTEL.avito_RE ').df()\n",
    "with duckdb.connect('../data/avito_user_db.duckdb') as w:\n",
    "    user_df = w.execute('select * from INTEL.avito_RE ').df()\n",
    "with duckdb.connect('../data/avito_agency_db.duckdb') as w:\n",
    "    agency_df = w.execute('select * from INTEL.avito_RE ').df()"
   ]
  },
  {
   "cell_type": "code",
   "execution_count": 11,
   "metadata": {},
   "outputs": [
    {
     "data": {
      "text/html": [
       "<style type=\"text/css\">\n",
       "</style>\n",
       "<table id=\"T_27b20\">\n",
       "  <thead>\n",
       "    <tr>\n",
       "      <th class=\"blank level0\" >&nbsp;</th>\n",
       "      <th id=\"T_27b20_level0_col0\" class=\"col_heading level0 col0\" >count</th>\n",
       "      <th id=\"T_27b20_level0_col1\" class=\"col_heading level0 col1\" >mean</th>\n",
       "      <th id=\"T_27b20_level0_col2\" class=\"col_heading level0 col2\" >std</th>\n",
       "      <th id=\"T_27b20_level0_col3\" class=\"col_heading level0 col3\" >min</th>\n",
       "      <th id=\"T_27b20_level0_col4\" class=\"col_heading level0 col4\" >25%</th>\n",
       "      <th id=\"T_27b20_level0_col5\" class=\"col_heading level0 col5\" >50%</th>\n",
       "      <th id=\"T_27b20_level0_col6\" class=\"col_heading level0 col6\" >75%</th>\n",
       "      <th id=\"T_27b20_level0_col7\" class=\"col_heading level0 col7\" >max</th>\n",
       "    </tr>\n",
       "    <tr>\n",
       "      <th class=\"index_name level0\" >m2</th>\n",
       "      <th class=\"blank col0\" >&nbsp;</th>\n",
       "      <th class=\"blank col1\" >&nbsp;</th>\n",
       "      <th class=\"blank col2\" >&nbsp;</th>\n",
       "      <th class=\"blank col3\" >&nbsp;</th>\n",
       "      <th class=\"blank col4\" >&nbsp;</th>\n",
       "      <th class=\"blank col5\" >&nbsp;</th>\n",
       "      <th class=\"blank col6\" >&nbsp;</th>\n",
       "      <th class=\"blank col7\" >&nbsp;</th>\n",
       "    </tr>\n",
       "  </thead>\n",
       "  <tbody>\n",
       "    <tr>\n",
       "      <th id=\"T_27b20_level0_row0\" class=\"row_heading level0 row0\" >(35.999, 53.0]</th>\n",
       "      <td id=\"T_27b20_row0_col0\" class=\"data row0 col0\" >0.12</td>\n",
       "      <td id=\"T_27b20_row0_col1\" class=\"data row0 col1\" >12_777.653</td>\n",
       "      <td id=\"T_27b20_row0_col2\" class=\"data row0 col2\" >2_384.651</td>\n",
       "      <td id=\"T_27b20_row0_col3\" class=\"data row0 col3\" >9_641.05</td>\n",
       "      <td id=\"T_27b20_row0_col4\" class=\"data row0 col4\" >11_070.318</td>\n",
       "      <td id=\"T_27b20_row0_col5\" class=\"data row0 col5\" >12_220.642</td>\n",
       "      <td id=\"T_27b20_row0_col6\" class=\"data row0 col6\" >13_891.79</td>\n",
       "      <td id=\"T_27b20_row0_col7\" class=\"data row0 col7\" >26_287.814</td>\n",
       "    </tr>\n",
       "    <tr>\n",
       "      <th id=\"T_27b20_level0_row1\" class=\"row_heading level0 row1\" >(53.0, 69.0]</th>\n",
       "      <td id=\"T_27b20_row1_col0\" class=\"data row1 col0\" >0.12</td>\n",
       "      <td id=\"T_27b20_row1_col1\" class=\"data row1 col1\" >18_080.909</td>\n",
       "      <td id=\"T_27b20_row1_col2\" class=\"data row1 col2\" >5_946.942</td>\n",
       "      <td id=\"T_27b20_row1_col3\" class=\"data row1 col3\" >11_087.146</td>\n",
       "      <td id=\"T_27b20_row1_col4\" class=\"data row1 col4\" >14_662.603</td>\n",
       "      <td id=\"T_27b20_row1_col5\" class=\"data row1 col5\" >15_998.069</td>\n",
       "      <td id=\"T_27b20_row1_col6\" class=\"data row1 col6\" >18_426.157</td>\n",
       "      <td id=\"T_27b20_row1_col7\" class=\"data row1 col7\" >37_196.926</td>\n",
       "    </tr>\n",
       "    <tr>\n",
       "      <th id=\"T_27b20_level0_row2\" class=\"row_heading level0 row2\" >(69.0, 138.0]</th>\n",
       "      <td id=\"T_27b20_row2_col0\" class=\"data row2 col0\" >0.116</td>\n",
       "      <td id=\"T_27b20_row2_col1\" class=\"data row2 col1\" >25_513.722</td>\n",
       "      <td id=\"T_27b20_row2_col2\" class=\"data row2 col2\" >12_563.312</td>\n",
       "      <td id=\"T_27b20_row2_col3\" class=\"data row2 col3\" >12_040.6</td>\n",
       "      <td id=\"T_27b20_row2_col4\" class=\"data row2 col4\" >16_872.686</td>\n",
       "      <td id=\"T_27b20_row2_col5\" class=\"data row2 col5\" >18_762.358</td>\n",
       "      <td id=\"T_27b20_row2_col6\" class=\"data row2 col6\" >30_612.2</td>\n",
       "      <td id=\"T_27b20_row2_col7\" class=\"data row2 col7\" >57_989.833</td>\n",
       "    </tr>\n",
       "  </tbody>\n",
       "</table>\n"
      ],
      "text/plain": [
       "<pandas.io.formats.style.Styler at 0x7effc1e627f0>"
      ]
     },
     "execution_count": 11,
     "metadata": {},
     "output_type": "execute_result"
    }
   ],
   "source": [
    "builder_df.groupby(pd.qcut(builder_df['m2'],3))['price'].describe().div(1000).round(3).style.format('{:_}')"
   ]
  },
  {
   "cell_type": "code",
   "execution_count": 12,
   "metadata": {},
   "outputs": [
    {
     "data": {
      "text/html": [
       "<style type=\"text/css\">\n",
       "</style>\n",
       "<table id=\"T_ba7aa\">\n",
       "  <thead>\n",
       "    <tr>\n",
       "      <th class=\"blank level0\" >&nbsp;</th>\n",
       "      <th id=\"T_ba7aa_level0_col0\" class=\"col_heading level0 col0\" >count</th>\n",
       "      <th id=\"T_ba7aa_level0_col1\" class=\"col_heading level0 col1\" >mean</th>\n",
       "      <th id=\"T_ba7aa_level0_col2\" class=\"col_heading level0 col2\" >std</th>\n",
       "      <th id=\"T_ba7aa_level0_col3\" class=\"col_heading level0 col3\" >min</th>\n",
       "      <th id=\"T_ba7aa_level0_col4\" class=\"col_heading level0 col4\" >25%</th>\n",
       "      <th id=\"T_ba7aa_level0_col5\" class=\"col_heading level0 col5\" >50%</th>\n",
       "      <th id=\"T_ba7aa_level0_col6\" class=\"col_heading level0 col6\" >75%</th>\n",
       "      <th id=\"T_ba7aa_level0_col7\" class=\"col_heading level0 col7\" >max</th>\n",
       "    </tr>\n",
       "    <tr>\n",
       "      <th class=\"index_name level0\" >m2</th>\n",
       "      <th class=\"blank col0\" >&nbsp;</th>\n",
       "      <th class=\"blank col1\" >&nbsp;</th>\n",
       "      <th class=\"blank col2\" >&nbsp;</th>\n",
       "      <th class=\"blank col3\" >&nbsp;</th>\n",
       "      <th class=\"blank col4\" >&nbsp;</th>\n",
       "      <th class=\"blank col5\" >&nbsp;</th>\n",
       "      <th class=\"blank col6\" >&nbsp;</th>\n",
       "      <th class=\"blank col7\" >&nbsp;</th>\n",
       "    </tr>\n",
       "  </thead>\n",
       "  <tbody>\n",
       "    <tr>\n",
       "      <th id=\"T_ba7aa_level0_row0\" class=\"row_heading level0 row0\" >(30.999, 53.0]</th>\n",
       "      <td id=\"T_ba7aa_row0_col0\" class=\"data row0 col0\" >0.939</td>\n",
       "      <td id=\"T_ba7aa_row0_col1\" class=\"data row0 col1\" >14_061.265</td>\n",
       "      <td id=\"T_ba7aa_row0_col2\" class=\"data row0 col2\" >4_056.797</td>\n",
       "      <td id=\"T_ba7aa_row0_col3\" class=\"data row0 col3\" >5_321.112</td>\n",
       "      <td id=\"T_ba7aa_row0_col4\" class=\"data row0 col4\" >11_500.0</td>\n",
       "      <td id=\"T_ba7aa_row0_col5\" class=\"data row0 col5\" >13_100.0</td>\n",
       "      <td id=\"T_ba7aa_row0_col6\" class=\"data row0 col6\" >15_500.0</td>\n",
       "      <td id=\"T_ba7aa_row0_col7\" class=\"data row0 col7\" >34_900.0</td>\n",
       "    </tr>\n",
       "    <tr>\n",
       "      <th id=\"T_ba7aa_level0_row1\" class=\"row_heading level0 row1\" >(53.0, 65.0]</th>\n",
       "      <td id=\"T_ba7aa_row1_col0\" class=\"data row1 col0\" >0.938</td>\n",
       "      <td id=\"T_ba7aa_row1_col1\" class=\"data row1 col1\" >17_221.246</td>\n",
       "      <td id=\"T_ba7aa_row1_col2\" class=\"data row1 col2\" >5_372.587</td>\n",
       "      <td id=\"T_ba7aa_row1_col3\" class=\"data row1 col3\" >5_300.0</td>\n",
       "      <td id=\"T_ba7aa_row1_col4\" class=\"data row1 col4\" >13_900.0</td>\n",
       "      <td id=\"T_ba7aa_row1_col5\" class=\"data row1 col5\" >16_000.0</td>\n",
       "      <td id=\"T_ba7aa_row1_col6\" class=\"data row1 col6\" >19_287.5</td>\n",
       "      <td id=\"T_ba7aa_row1_col7\" class=\"data row1 col7\" >57_000.0</td>\n",
       "    </tr>\n",
       "    <tr>\n",
       "      <th id=\"T_ba7aa_level0_row2\" class=\"row_heading level0 row2\" >(65.0, 190.0]</th>\n",
       "      <td id=\"T_ba7aa_row2_col0\" class=\"data row2 col0\" >0.925</td>\n",
       "      <td id=\"T_ba7aa_row2_col1\" class=\"data row2 col1\" >26_617.334</td>\n",
       "      <td id=\"T_ba7aa_row2_col2\" class=\"data row2 col2\" >14_366.178</td>\n",
       "      <td id=\"T_ba7aa_row2_col3\" class=\"data row2 col3\" >7_896.0</td>\n",
       "      <td id=\"T_ba7aa_row2_col4\" class=\"data row2 col4\" >18_100.0</td>\n",
       "      <td id=\"T_ba7aa_row2_col5\" class=\"data row2 col5\" >23_000.0</td>\n",
       "      <td id=\"T_ba7aa_row2_col6\" class=\"data row2 col6\" >30_750.0</td>\n",
       "      <td id=\"T_ba7aa_row2_col7\" class=\"data row2 col7\" >200_000.0</td>\n",
       "    </tr>\n",
       "  </tbody>\n",
       "</table>\n"
      ],
      "text/plain": [
       "<pandas.io.formats.style.Styler at 0x7effbef16ca0>"
      ]
     },
     "execution_count": 12,
     "metadata": {},
     "output_type": "execute_result"
    }
   ],
   "source": [
    "user_df.groupby(pd.qcut(user_df['m2'],3))['price'].describe().div(1000).round(3).style.format('{:_}')"
   ]
  },
  {
   "cell_type": "code",
   "execution_count": 13,
   "metadata": {},
   "outputs": [
    {
     "data": {
      "text/html": [
       "<style type=\"text/css\">\n",
       "</style>\n",
       "<table id=\"T_d789d\">\n",
       "  <thead>\n",
       "    <tr>\n",
       "      <th class=\"blank level0\" >&nbsp;</th>\n",
       "      <th id=\"T_d789d_level0_col0\" class=\"col_heading level0 col0\" >count</th>\n",
       "      <th id=\"T_d789d_level0_col1\" class=\"col_heading level0 col1\" >mean</th>\n",
       "      <th id=\"T_d789d_level0_col2\" class=\"col_heading level0 col2\" >std</th>\n",
       "      <th id=\"T_d789d_level0_col3\" class=\"col_heading level0 col3\" >min</th>\n",
       "      <th id=\"T_d789d_level0_col4\" class=\"col_heading level0 col4\" >25%</th>\n",
       "      <th id=\"T_d789d_level0_col5\" class=\"col_heading level0 col5\" >50%</th>\n",
       "      <th id=\"T_d789d_level0_col6\" class=\"col_heading level0 col6\" >75%</th>\n",
       "      <th id=\"T_d789d_level0_col7\" class=\"col_heading level0 col7\" >max</th>\n",
       "    </tr>\n",
       "    <tr>\n",
       "      <th class=\"index_name level0\" >m2</th>\n",
       "      <th class=\"blank col0\" >&nbsp;</th>\n",
       "      <th class=\"blank col1\" >&nbsp;</th>\n",
       "      <th class=\"blank col2\" >&nbsp;</th>\n",
       "      <th class=\"blank col3\" >&nbsp;</th>\n",
       "      <th class=\"blank col4\" >&nbsp;</th>\n",
       "      <th class=\"blank col5\" >&nbsp;</th>\n",
       "      <th class=\"blank col6\" >&nbsp;</th>\n",
       "      <th class=\"blank col7\" >&nbsp;</th>\n",
       "    </tr>\n",
       "  </thead>\n",
       "  <tbody>\n",
       "    <tr>\n",
       "      <th id=\"T_d789d_level0_row0\" class=\"row_heading level0 row0\" >(31.999, 58.0]</th>\n",
       "      <td id=\"T_d789d_row0_col0\" class=\"data row0 col0\" >0.469</td>\n",
       "      <td id=\"T_d789d_row0_col1\" class=\"data row0 col1\" >16_186.328</td>\n",
       "      <td id=\"T_d789d_row0_col2\" class=\"data row0 col2\" >7_112.189</td>\n",
       "      <td id=\"T_d789d_row0_col3\" class=\"data row0 col3\" >5_270.673</td>\n",
       "      <td id=\"T_d789d_row0_col4\" class=\"data row0 col4\" >11_800.0</td>\n",
       "      <td id=\"T_d789d_row0_col5\" class=\"data row0 col5\" >14_250.0</td>\n",
       "      <td id=\"T_d789d_row0_col6\" class=\"data row0 col6\" >18_450.0</td>\n",
       "      <td id=\"T_d789d_row0_col7\" class=\"data row0 col7\" >61_000.0</td>\n",
       "    </tr>\n",
       "    <tr>\n",
       "      <th id=\"T_d789d_level0_row1\" class=\"row_heading level0 row1\" >(58.0, 79.0]</th>\n",
       "      <td id=\"T_d789d_row1_col0\" class=\"data row1 col0\" >0.439</td>\n",
       "      <td id=\"T_d789d_row1_col1\" class=\"data row1 col1\" >26_476.056</td>\n",
       "      <td id=\"T_d789d_row1_col2\" class=\"data row1 col2\" >20_760.077</td>\n",
       "      <td id=\"T_d789d_row1_col3\" class=\"data row1 col3\" >8_900.0</td>\n",
       "      <td id=\"T_d789d_row1_col4\" class=\"data row1 col4\" >16_000.0</td>\n",
       "      <td id=\"T_d789d_row1_col5\" class=\"data row1 col5\" >21_000.0</td>\n",
       "      <td id=\"T_d789d_row1_col6\" class=\"data row1 col6\" >29_945.0</td>\n",
       "      <td id=\"T_d789d_row1_col7\" class=\"data row1 col7\" >192_460.0</td>\n",
       "    </tr>\n",
       "    <tr>\n",
       "      <th id=\"T_d789d_level0_row2\" class=\"row_heading level0 row2\" >(79.0, 254.0]</th>\n",
       "      <td id=\"T_d789d_row2_col0\" class=\"data row2 col0\" >0.445</td>\n",
       "      <td id=\"T_d789d_row2_col1\" class=\"data row2 col1\" >71_767.205</td>\n",
       "      <td id=\"T_d789d_row2_col2\" class=\"data row2 col2\" >67_578.796</td>\n",
       "      <td id=\"T_d789d_row2_col3\" class=\"data row2 col3\" >14_500.0</td>\n",
       "      <td id=\"T_d789d_row2_col4\" class=\"data row2 col4\" >32_999.0</td>\n",
       "      <td id=\"T_d789d_row2_col5\" class=\"data row2 col5\" >46_500.0</td>\n",
       "      <td id=\"T_d789d_row2_col6\" class=\"data row2 col6\" >78_009.0</td>\n",
       "      <td id=\"T_d789d_row2_col7\" class=\"data row2 col7\" >377_328.328</td>\n",
       "    </tr>\n",
       "  </tbody>\n",
       "</table>\n"
      ],
      "text/plain": [
       "<pandas.io.formats.style.Styler at 0x7effbf0e7070>"
      ]
     },
     "execution_count": 13,
     "metadata": {},
     "output_type": "execute_result"
    }
   ],
   "source": [
    "agency_df.groupby(pd.qcut(agency_df['m2'],3))['price'].describe().div(1000).round(3).style.format('{:_}')"
   ]
  },
  {
   "cell_type": "code",
   "execution_count": null,
   "metadata": {},
   "outputs": [],
   "source": []
  }
 ],
 "metadata": {
  "interpreter": {
   "hash": "916dbcbb3f70747c44a77c7bcd40155683ae19c65e1c03b4aa3499c5328201f1"
  },
  "kernelspec": {
   "display_name": "Python 3.8.10 64-bit",
   "language": "python",
   "name": "python3"
  },
  "language_info": {
   "codemirror_mode": {
    "name": "ipython",
    "version": 3
   },
   "file_extension": ".py",
   "mimetype": "text/x-python",
   "name": "python",
   "nbconvert_exporter": "python",
   "pygments_lexer": "ipython3",
   "version": "3.8.10"
  },
  "orig_nbformat": 4
 },
 "nbformat": 4,
 "nbformat_minor": 2
}
