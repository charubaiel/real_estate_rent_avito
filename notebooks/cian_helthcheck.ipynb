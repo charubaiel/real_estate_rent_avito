{
 "cells": [
  {
   "cell_type": "code",
   "execution_count": 154,
   "metadata": {},
   "outputs": [],
   "source": [
    "import pandas as pd\n",
    "import re\n",
    "import requests\n",
    "from dataclasses import dataclass\n",
    "from bs4 import BeautifulSoup\n",
    "from selenium import webdriver\n",
    "from selenium.webdriver.firefox.options import Options\n",
    "HEADERS={'User-Agent':'Mozilla/5.0 (Windows NT 10.0; Win64; x64) AppleWebKit/537.36 (KHTML, like Gecko) Chrome/97.0.4692.71 Safari/537.36 Edg/97.0.1072.62',\n",
    "    'Accept':'text/html,application/xhtml+xml,application/xml;q=0.9,image/webp,image/apng,*/*;q=0.8,application/signed-exchange;v=b3;q=0.9'}\n",
    "firefox_options = Options()\n",
    "firefox_options.add_argument(f\"HEADERS={HEADERS}\")\n",
    "firefox_options.add_argument('-headless')"
   ]
  },
  {
   "cell_type": "code",
   "execution_count": 39,
   "metadata": {},
   "outputs": [],
   "source": [
    "# Пуляем в бота понравившееся квартиры, он за ними следит"
   ]
  },
  {
   "cell_type": "code",
   "execution_count": 40,
   "metadata": {},
   "outputs": [
    {
     "name": "stderr",
     "output_type": "stream",
     "text": [
      "/tmp/ipykernel_3298/335986504.py:1: DeprecationWarning: executable_path has been deprecated, please pass in a Service object\n",
      "  driver = webdriver.Firefox(options=firefox_options,executable_path='../repositories/jobs/ops/geckodriver')\n"
     ]
    }
   ],
   "source": [
    "\n",
    "driver = webdriver.Firefox(options=firefox_options,executable_path='../repositories/jobs/ops/geckodriver')\n",
    "URL = \"https://www.cian.ru/sale/flat/280098231/\"\n",
    "# URL = 'https://www.avito.ru/moskva/kvartiry/prodam-ASgBAgICAUSSA8YQ?cd=1&f=ASgBAQICAkSSA8YQwMENuv03A0DKCCSCWYRZjt4OFAKQ3g4UAg&p=10&s=104'\n",
    "driver.get(URL)"
   ]
  },
  {
   "cell_type": "code",
   "execution_count": 41,
   "metadata": {},
   "outputs": [],
   "source": [
    "# gone_url = 'https://www.cian.ru/sale/flat/280033231/'"
   ]
  },
  {
   "cell_type": "code",
   "execution_count": 42,
   "metadata": {},
   "outputs": [],
   "source": [
    "driver.get(URL)"
   ]
  },
  {
   "cell_type": "code",
   "execution_count": null,
   "metadata": {},
   "outputs": [],
   "source": []
  },
  {
   "cell_type": "code",
   "execution_count": 176,
   "metadata": {},
   "outputs": [],
   "source": [
    "@dataclass\n",
    "class RealEstateObject:\n",
    "    url:str\n",
    "    driver:...\n",
    "    def __post_init__(self):\n",
    "        self.parse_page()\n",
    "        if self.is_on_sale_check():\n",
    "            self.get_object_data()\n",
    "\n",
    "    def parse_page(self):\n",
    "        if self.driver.__module__ == 'selenium.webdriver.firefox.webdriver':\n",
    "            self.driver.get(self.url)\n",
    "            page = self.driver.find_element('xpath',\"//*\").get_attribute(\"outerHTML\")\n",
    "        else:\n",
    "            page = self.driver.get(self.url).text\n",
    "        self.html_data = BeautifulSoup(page,'lxml')\n",
    "        self.last_update = pd.to_datetime('now')\n",
    "\n",
    "    def is_on_sale_check(self):\n",
    "        if (self.last_update - pd.to_datetime('now')).days >= 1:\n",
    "             self.parse_page()\n",
    "             self.last_update = pd.to_datetime('now')\n",
    "        self.is_on_sale = False if 'Объявление снято с публикации' in self.html_data else True\n",
    "        self.price = float(re.sub('\\D','',self.html_data.find('span',{'itemprop':'price'})['content']))\n",
    "        return self.is_on_sale\n",
    "\n",
    "    def get_object_data(self):\n",
    "\n",
    "        self.raw_adress = self.html_data.find('div',{'data-name':'Geo'}).findAll('span')[0]['content']\n",
    "        self.metro_list = [step.text for step in self.html_data.find('div',{'data-name':'Geo'}).findAll('a')[5:]]\n",
    "        self.m2 = re.findall('(\\d{2,})',self.html_data.find('div',{'data-name':'OfferTitle'}).text)\n",
    "        self.rooms = self.html_data.find('div',{'data-name':'OfferTitle'}).text[0]\n",
    "        self.floor = re.findall('(\\d{,2})? из',self.html_data.find('div',{'data-name':'ObjectSummaryDescription'}).text)\n",
    "        self.build_year = re.findall('(\\d{4})',self.html_data.find('div',{'data-name':'ObjectSummaryDescription'}).text)\n",
    "        self.description = self.html_data.find('p',{'itemprop':'description'}).text\n",
    "        self.adress_items = dict(zip(('Город','Округ','Район','Улица','Дом'),[step.text for step in self.html_data.find('div',{'data-name':'Geo'}).findAll('a')[:5]]))\n",
    "        self.home_items = {item.findAll('div')[0].text : item.findAll('div')[1].text for item in self.html_data.find('div',{'data-name':'BtiHouseData'}).findAll('div',{'data-name':'Item'})}\n",
    "        self.img_list = [img['src'] for img in self.html_data.find('div',{'data-name':'GalleryInnerComponent'}).findAll('img') if img['src'].endswith('.jpg')]\n",
    "    \n",
    "    def save_figs(url,name):\n",
    "        img_bytes = requests.get(url).content\n",
    "        with open(f'{name}.jpg', 'wb') as f:\n",
    "            f.write(img_bytes)\n"
   ]
  },
  {
   "cell_type": "code",
   "execution_count": 151,
   "metadata": {},
   "outputs": [],
   "source": [
    "some_RE = RealEstateObject(url = 'https://www.cian.ru/sale/flat/280098231/',driver=driver)"
   ]
  },
  {
   "cell_type": "code",
   "execution_count": 170,
   "metadata": {},
   "outputs": [],
   "source": [
    "r_session = requests.Session()"
   ]
  },
  {
   "cell_type": "code",
   "execution_count": 177,
   "metadata": {},
   "outputs": [],
   "source": [
    "some_RE_rses = RealEstateObject(url = 'https://www.cian.ru/sale/flat/280098231/',driver=r_session)"
   ]
  },
  {
   "cell_type": "code",
   "execution_count": 181,
   "metadata": {},
   "outputs": [],
   "source": [
    "driver.close()"
   ]
  }
 ],
 "metadata": {
  "kernelspec": {
   "display_name": "Python 3",
   "language": "python",
   "name": "python3"
  },
  "language_info": {
   "codemirror_mode": {
    "name": "ipython",
    "version": 3
   },
   "file_extension": ".py",
   "mimetype": "text/x-python",
   "name": "python",
   "nbconvert_exporter": "python",
   "pygments_lexer": "ipython3",
   "version": "3.8.10"
  },
  "orig_nbformat": 4
 },
 "nbformat": 4,
 "nbformat_minor": 2
}
