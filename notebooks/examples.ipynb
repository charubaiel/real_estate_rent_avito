{
 "cells": [
  {
   "cell_type": "code",
   "execution_count": 183,
   "metadata": {},
   "outputs": [],
   "source": [
    "import pandas as pd\n",
    "import duckdb"
   ]
  },
  {
   "cell_type": "code",
   "execution_count": 185,
   "metadata": {},
   "outputs": [
    {
     "name": "stdout",
     "output_type": "stream",
     "text": [
      "agency_ads  : 3618\n",
      "builder_ads  : 3830\n",
      "home_info  : 32933\n",
      "user_ads  : 4370\n"
     ]
    }
   ],
   "source": [
    "with duckdb.connect('../data/RE_moscow_db.duckdb') as w:\n",
    "    for table in w.execute('PRAGMA show_tables').df()['name'].values:\n",
    "        print(table,' :',w.execute(f'select count(*) as events from {table}').df().iloc[0].values[0])"
   ]
  },
  {
   "cell_type": "code",
   "execution_count": 188,
   "metadata": {},
   "outputs": [
    {
     "name": "stdout",
     "output_type": "stream",
     "text": [
      "home_base_info  : 32933\n"
     ]
    }
   ],
   "source": [
    "with duckdb.connect('../data/general_moscow_home_info.duckdb') as w:\n",
    "    for table in w.execute('PRAGMA show_tables').df()['name'].values:\n",
    "        print(table,' :',w.execute(f'select count(*) as events from {table}').df().iloc[0].values[0])"
   ]
  },
  {
   "cell_type": "code",
   "execution_count": 186,
   "metadata": {},
   "outputs": [],
   "source": [
    "with duckdb.connect('../data/RE_moscow_db.duckdb') as w:\n",
    "    agency_df = w.execute(f'select * from agency_ads').df().assign(ads_type='agency_ads')\n",
    "    builder_df = w.execute(f'select * from builder_ads').df().assign(ads_type='builder_ads')\n",
    "    user_df = w.execute(f'select * from user_ads').df().assign(ads_type='user_ads')"
   ]
  },
  {
   "cell_type": "code",
   "execution_count": 187,
   "metadata": {},
   "outputs": [
    {
     "data": {
      "text/html": [
       "<style type=\"text/css\">\n",
       "</style>\n",
       "<table id=\"T_44d5a\">\n",
       "  <thead>\n",
       "    <tr>\n",
       "      <th class=\"blank level0\" >&nbsp;</th>\n",
       "      <th id=\"T_44d5a_level0_col0\" class=\"col_heading level0 col0\" >count</th>\n",
       "      <th id=\"T_44d5a_level0_col1\" class=\"col_heading level0 col1\" >mean</th>\n",
       "      <th id=\"T_44d5a_level0_col2\" class=\"col_heading level0 col2\" >std</th>\n",
       "      <th id=\"T_44d5a_level0_col3\" class=\"col_heading level0 col3\" >min</th>\n",
       "      <th id=\"T_44d5a_level0_col4\" class=\"col_heading level0 col4\" >25%</th>\n",
       "      <th id=\"T_44d5a_level0_col5\" class=\"col_heading level0 col5\" >50%</th>\n",
       "      <th id=\"T_44d5a_level0_col6\" class=\"col_heading level0 col6\" >75%</th>\n",
       "      <th id=\"T_44d5a_level0_col7\" class=\"col_heading level0 col7\" >max</th>\n",
       "    </tr>\n",
       "    <tr>\n",
       "      <th class=\"index_name level0\" >m2</th>\n",
       "      <th class=\"blank col0\" >&nbsp;</th>\n",
       "      <th class=\"blank col1\" >&nbsp;</th>\n",
       "      <th class=\"blank col2\" >&nbsp;</th>\n",
       "      <th class=\"blank col3\" >&nbsp;</th>\n",
       "      <th class=\"blank col4\" >&nbsp;</th>\n",
       "      <th class=\"blank col5\" >&nbsp;</th>\n",
       "      <th class=\"blank col6\" >&nbsp;</th>\n",
       "      <th class=\"blank col7\" >&nbsp;</th>\n",
       "    </tr>\n",
       "  </thead>\n",
       "  <tbody>\n",
       "    <tr>\n",
       "      <th id=\"T_44d5a_level0_row0\" class=\"row_heading level0 row0\" >(29.999, 57.0]</th>\n",
       "      <td id=\"T_44d5a_row0_col0\" class=\"data row0 col0\" >1.286</td>\n",
       "      <td id=\"T_44d5a_row0_col1\" class=\"data row0 col1\" >15_275.868</td>\n",
       "      <td id=\"T_44d5a_row0_col2\" class=\"data row0 col2\" >6_354.98</td>\n",
       "      <td id=\"T_44d5a_row0_col3\" class=\"data row0 col3\" >5_270.673</td>\n",
       "      <td id=\"T_44d5a_row0_col4\" class=\"data row0 col4\" >11_257.5</td>\n",
       "      <td id=\"T_44d5a_row0_col5\" class=\"data row0 col5\" >13_640.0</td>\n",
       "      <td id=\"T_44d5a_row0_col6\" class=\"data row0 col6\" >17_500.0</td>\n",
       "      <td id=\"T_44d5a_row0_col7\" class=\"data row0 col7\" >61_000.0</td>\n",
       "    </tr>\n",
       "    <tr>\n",
       "      <th id=\"T_44d5a_level0_row1\" class=\"row_heading level0 row1\" >(57.0, 77.0]</th>\n",
       "      <td id=\"T_44d5a_row1_col0\" class=\"data row1 col0\" >1.168</td>\n",
       "      <td id=\"T_44d5a_row1_col1\" class=\"data row1 col1\" >24_736.289</td>\n",
       "      <td id=\"T_44d5a_row1_col2\" class=\"data row1 col2\" >18_283.119</td>\n",
       "      <td id=\"T_44d5a_row1_col3\" class=\"data row1 col3\" >6_511.22</td>\n",
       "      <td id=\"T_44d5a_row1_col4\" class=\"data row1 col4\" >15_737.5</td>\n",
       "      <td id=\"T_44d5a_row1_col5\" class=\"data row1 col5\" >20_415.5</td>\n",
       "      <td id=\"T_44d5a_row1_col6\" class=\"data row1 col6\" >28_500.0</td>\n",
       "      <td id=\"T_44d5a_row1_col7\" class=\"data row1 col7\" >192_460.0</td>\n",
       "    </tr>\n",
       "    <tr>\n",
       "      <th id=\"T_44d5a_level0_row2\" class=\"row_heading level0 row2\" >(77.0, 260.0]</th>\n",
       "      <td id=\"T_44d5a_row2_col0\" class=\"data row2 col0\" >1.164</td>\n",
       "      <td id=\"T_44d5a_row2_col1\" class=\"data row2 col1\" >69_580.048</td>\n",
       "      <td id=\"T_44d5a_row2_col2\" class=\"data row2 col2\" >63_579.531</td>\n",
       "      <td id=\"T_44d5a_row2_col3\" class=\"data row2 col3\" >12_130.0</td>\n",
       "      <td id=\"T_44d5a_row2_col4\" class=\"data row2 col4\" >30_000.0</td>\n",
       "      <td id=\"T_44d5a_row2_col5\" class=\"data row2 col5\" >44_945.092</td>\n",
       "      <td id=\"T_44d5a_row2_col6\" class=\"data row2 col6\" >82_000.0</td>\n",
       "      <td id=\"T_44d5a_row2_col7\" class=\"data row2 col7\" >377_328.328</td>\n",
       "    </tr>\n",
       "  </tbody>\n",
       "</table>\n"
      ],
      "text/plain": [
       "<pandas.io.formats.style.Styler at 0x7f37abda7220>"
      ]
     },
     "execution_count": 187,
     "metadata": {},
     "output_type": "execute_result"
    }
   ],
   "source": [
    "agency_df.groupby(pd.qcut(agency_df['m2'],3))['price'].describe().div(1000).round(3).style.format('{:_}')"
   ]
  },
  {
   "cell_type": "code",
   "execution_count": null,
   "metadata": {},
   "outputs": [],
   "source": []
  }
 ],
 "metadata": {
  "interpreter": {
   "hash": "916dbcbb3f70747c44a77c7bcd40155683ae19c65e1c03b4aa3499c5328201f1"
  },
  "kernelspec": {
   "display_name": "Python 3.8.10 64-bit",
   "language": "python",
   "name": "python3"
  },
  "language_info": {
   "codemirror_mode": {
    "name": "ipython",
    "version": 3
   },
   "file_extension": ".py",
   "mimetype": "text/x-python",
   "name": "python",
   "nbconvert_exporter": "python",
   "pygments_lexer": "ipython3",
   "version": "3.8.10"
  },
  "orig_nbformat": 4
 },
 "nbformat": 4,
 "nbformat_minor": 2
}
